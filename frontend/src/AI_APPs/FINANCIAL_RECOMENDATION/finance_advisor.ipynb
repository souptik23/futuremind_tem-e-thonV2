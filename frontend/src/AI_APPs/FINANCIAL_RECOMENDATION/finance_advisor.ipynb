{
 "cells": [
  {
   "cell_type": "code",
   "execution_count": 1,
   "metadata": {},
   "outputs": [],
   "source": [
    "import pandas as pd\n",
    "import numpy as np\n",
    "import langchain\n",
    "import langchain_community \n",
    "from langchain_text_splitters import RecursiveCharacterTextSplitter\n",
    "from langchain_chroma import Chroma\n"
   ]
  },
  {
   "cell_type": "code",
   "execution_count": 2,
   "metadata": {},
   "outputs": [],
   "source": [
    "df=pd.read_csv('C:/Users/KIIT/OneDrive/Desktop/FINANCE_AI/Finance_data.csv')\n",
    "df_fin=df.to_dict(orient='records')"
   ]
  },
  {
   "cell_type": "code",
   "execution_count": 3,
   "metadata": {},
   "outputs": [
    {
     "name": "stdout",
     "output_type": "stream",
     "text": [
      "I'm a 34-year-old Female looking to invest in Mutual Fund for Wealth Creation over the next 1-3 years. What are my options?\n",
      "I'm a 23-year-old Female looking to invest in Mutual Fund for Wealth Creation over the next More than 5 years. What are my options?\n",
      "I'm a 30-year-old Male looking to invest in Equity for Wealth Creation over the next 3-5 years. What are my options?\n",
      "I'm a 22-year-old Male looking to invest in Equity for Wealth Creation over the next Less than 1 year. What are my options?\n",
      "I'm a 24-year-old Female looking to invest in Equity for Wealth Creation over the next Less than 1 year. What are my options?\n",
      "I'm a 24-year-old Female looking to invest in Mutual Fund for Wealth Creation over the next 1-3 years. What are my options?\n",
      "I'm a 27-year-old Female looking to invest in Equity for Wealth Creation over the next 3-5 years. What are my options?\n",
      "I'm a 21-year-old Male looking to invest in Mutual Fund for Wealth Creation over the next 3-5 years. What are my options?\n",
      "I'm a 35-year-old Male looking to invest in Equity for Savings for Future over the next 1-3 years. What are my options?\n",
      "I'm a 31-year-old Male looking to invest in Fixed Deposits for Wealth Creation over the next 3-5 years. What are my options?\n",
      "I'm a 35-year-old Female looking to invest in Mutual Fund for Savings for Future over the next 3-5 years. What are my options?\n",
      "I'm a 29-year-old Male looking to invest in Mutual Fund for Wealth Creation over the next 1-3 years. What are my options?\n",
      "I'm a 21-year-old Female looking to invest in Mutual Fund for Savings for Future over the next 1-3 years. What are my options?\n",
      "I'm a 28-year-old Female looking to invest in Mutual Fund for Wealth Creation over the next 1-3 years. What are my options?\n",
      "I'm a 25-year-old Female looking to invest in Fixed Deposits for Wealth Creation over the next 1-3 years. What are my options?\n",
      "I'm a 27-year-old Male looking to invest in Mutual Fund for Wealth Creation over the next 1-3 years. What are my options?\n",
      "I'm a 28-year-old Female looking to invest in Fixed Deposits for Wealth Creation over the next 1-3 years. What are my options?\n",
      "I'm a 27-year-old Male looking to invest in Mutual Fund for Wealth Creation over the next 1-3 years. What are my options?\n",
      "I'm a 29-year-old Male looking to invest in Mutual Fund for Wealth Creation over the next 1-3 years. What are my options?\n",
      "I'm a 26-year-old Male looking to invest in Fixed Deposits for Wealth Creation over the next 3-5 years. What are my options?\n",
      "I'm a 29-year-old Male looking to invest in Mutual Fund for Wealth Creation over the next 3-5 years. What are my options?\n",
      "I'm a 24-year-old Female looking to invest in Equity for Wealth Creation over the next 3-5 years. What are my options?\n",
      "I'm a 27-year-old Male looking to invest in Mutual Fund for Wealth Creation over the next 3-5 years. What are my options?\n",
      "I'm a 25-year-old Male looking to invest in Public Provident Fund for Savings for Future over the next 3-5 years. What are my options?\n",
      "I'm a 26-year-old Female looking to invest in Public Provident Fund for Wealth Creation over the next 3-5 years. What are my options?\n",
      "I'm a 32-year-old Female looking to invest in Mutual Fund for Wealth Creation over the next 3-5 years. What are my options?\n",
      "I'm a 26-year-old Male looking to invest in Mutual Fund for Wealth Creation over the next 3-5 years. What are my options?\n",
      "I'm a 31-year-old Male looking to invest in Fixed Deposits for Savings for Future over the next 1-3 years. What are my options?\n",
      "I'm a 29-year-old Male looking to invest in Equity for Wealth Creation over the next 1-3 years. What are my options?\n",
      "I'm a 34-year-old Female looking to invest in Mutual Fund for Returns over the next 3-5 years. What are my options?\n",
      "I'm a 27-year-old Male looking to invest in Mutual Fund for Wealth Creation over the next 1-3 years. What are my options?\n",
      "I'm a 31-year-old Female looking to invest in Fixed Deposits for Wealth Creation over the next 3-5 years. What are my options?\n",
      "I'm a 27-year-old Male looking to invest in Equity for Wealth Creation over the next 3-5 years. What are my options?\n",
      "I'm a 26-year-old Male looking to invest in Fixed Deposits for Returns over the next 1-3 years. What are my options?\n",
      "I'm a 27-year-old Male looking to invest in Mutual Fund for Wealth Creation over the next 1-3 years. What are my options?\n",
      "I'm a 30-year-old Male looking to invest in Fixed Deposits for Wealth Creation over the next 3-5 years. What are my options?\n",
      "I'm a 30-year-old Male looking to invest in Equity for Wealth Creation over the next 1-3 years. What are my options?\n",
      "I'm a 25-year-old Male looking to invest in Public Provident Fund for Savings for Future over the next 3-5 years. What are my options?\n",
      "I'm a 31-year-old Male looking to invest in Equity for Wealth Creation over the next 1-3 years. What are my options?\n",
      "I'm a 29-year-old Male looking to invest in Fixed Deposits for Wealth Creation over the next 3-5 years. What are my options?\n"
     ]
    }
   ],
   "source": [
    "for entry in df_fin:\n",
    "  prompt = f\"I'm a {entry['age']}-year-old {entry['gender']} looking to invest in {entry['Avenue']} for {entry['Purpose']} over the next {entry['Duration']}. What are my options?\"\n",
    "  print(prompt)"
   ]
  },
  {
   "cell_type": "markdown",
   "metadata": {},
   "source": [
    "# \n",
    "Pre-Processng the Data into Prompt-Response Format"
   ]
  },
  {
   "cell_type": "code",
   "execution_count": 4,
   "metadata": {},
   "outputs": [
    {
     "data": {
      "text/plain": [
       "[{'prompt': \"I'm a 34-year-old Female looking to invest in Mutual Fund for Wealth Creation over the next 1-3 years. What are my options?\",\n",
       "  'response': 'Based on your preferences, here are your investment options:\\n- Mutual Funds: 1\\n- Equity Market: 2\\n- Debentures: 5\\n- Government Bonds: 3\\n- Fixed Deposits: 7\\n- PPF: 6\\n- Gold: 4\\nFactors considered: Returns\\nObjective: Capital Appreciation\\nExpected returns: 20%-30%\\nInvestment monitoring: Monthly\\nReasons for choices:\\n- Equity: Capital Appreciation\\n- Mutual Funds: Better Returns\\n- Bonds: Safe Investment\\n- Fixed Deposits: Fixed Returns\\nSource of information: Newspapers and Magazines\\n'},\n",
       " {'prompt': \"I'm a 23-year-old Female looking to invest in Mutual Fund for Wealth Creation over the next More than 5 years. What are my options?\",\n",
       "  'response': 'Based on your preferences, here are your investment options:\\n- Mutual Funds: 4\\n- Equity Market: 3\\n- Debentures: 2\\n- Government Bonds: 1\\n- Fixed Deposits: 5\\n- PPF: 6\\n- Gold: 7\\nFactors considered: Locking Period\\nObjective: Capital Appreciation\\nExpected returns: 20%-30%\\nInvestment monitoring: Weekly\\nReasons for choices:\\n- Equity: Dividend\\n- Mutual Funds: Better Returns\\n- Bonds: Safe Investment\\n- Fixed Deposits: High Interest Rates\\nSource of information: Financial Consultants\\n'},\n",
       " {'prompt': \"I'm a 30-year-old Male looking to invest in Equity for Wealth Creation over the next 3-5 years. What are my options?\",\n",
       "  'response': 'Based on your preferences, here are your investment options:\\n- Mutual Funds: 3\\n- Equity Market: 6\\n- Debentures: 4\\n- Government Bonds: 2\\n- Fixed Deposits: 5\\n- PPF: 1\\n- Gold: 7\\nFactors considered: Returns\\nObjective: Capital Appreciation\\nExpected returns: 20%-30%\\nInvestment monitoring: Daily\\nReasons for choices:\\n- Equity: Capital Appreciation\\n- Mutual Funds: Tax Benefits\\n- Bonds: Assured Returns\\n- Fixed Deposits: Fixed Returns\\nSource of information: Television\\n'},\n",
       " {'prompt': \"I'm a 22-year-old Male looking to invest in Equity for Wealth Creation over the next Less than 1 year. What are my options?\",\n",
       "  'response': 'Based on your preferences, here are your investment options:\\n- Mutual Funds: 2\\n- Equity Market: 1\\n- Debentures: 3\\n- Government Bonds: 7\\n- Fixed Deposits: 6\\n- PPF: 4\\n- Gold: 5\\nFactors considered: Returns\\nObjective: Income\\nExpected returns: 10%-20%\\nInvestment monitoring: Daily\\nReasons for choices:\\n- Equity: Dividend\\n- Mutual Funds: Fund Diversification\\n- Bonds: Tax Incentives\\n- Fixed Deposits: High Interest Rates\\nSource of information: Internet\\n'},\n",
       " {'prompt': \"I'm a 24-year-old Female looking to invest in Equity for Wealth Creation over the next Less than 1 year. What are my options?\",\n",
       "  'response': 'Based on your preferences, here are your investment options:\\n- Mutual Funds: 2\\n- Equity Market: 1\\n- Debentures: 3\\n- Government Bonds: 6\\n- Fixed Deposits: 4\\n- PPF: 5\\n- Gold: 7\\nFactors considered: Returns\\nObjective: Income\\nExpected returns: 20%-30%\\nInvestment monitoring: Daily\\nReasons for choices:\\n- Equity: Capital Appreciation\\n- Mutual Funds: Better Returns\\n- Bonds: Safe Investment\\n- Fixed Deposits: Risk Free\\nSource of information: Internet\\n'}]"
      ]
     },
     "execution_count": 4,
     "metadata": {},
     "output_type": "execute_result"
    }
   ],
   "source": [
    "# Convert the data to prompt-response format\n",
    "prompt_response_data = []\n",
    "for entry in df_fin:\n",
    "    prompt = f\"I'm a {entry['age']}-year-old {entry['gender']} looking to invest in {entry['Avenue']} for {entry['Purpose']} over the next {entry['Duration']}. What are my options?\"\n",
    "    response = (\n",
    "        f\"Based on your preferences, here are your investment options:\\n\"\n",
    "        f\"- Mutual Funds: {entry['Mutual_Funds']}\\n\"\n",
    "        f\"- Equity Market: {entry['Equity_Market']}\\n\"\n",
    "        f\"- Debentures: {entry['Debentures']}\\n\"\n",
    "        f\"- Government Bonds: {entry['Government_Bonds']}\\n\"\n",
    "        f\"- Fixed Deposits: {entry['Fixed_Deposits']}\\n\"\n",
    "        f\"- PPF: {entry['PPF']}\\n\"\n",
    "        f\"- Gold: {entry['Gold']}\\n\"\n",
    "        f\"Factors considered: {entry['Factor']}\\n\"\n",
    "        f\"Objective: {entry['Objective']}\\n\"\n",
    "        f\"Expected returns: {entry['Expect']}\\n\"\n",
    "        f\"Investment monitoring: {entry['Invest_Monitor']}\\n\"\n",
    "        f\"Reasons for choices:\\n\"\n",
    "        f\"- Equity: {entry['Reason_Equity']}\\n\"\n",
    "        f\"- Mutual Funds: {entry['Reason_Mutual']}\\n\"\n",
    "        f\"- Bonds: {entry['Reason_Bonds']}\\n\"\n",
    "        f\"- Fixed Deposits: {entry['Reason_FD']}\\n\"\n",
    "        f\"Source of information: {entry['Source']}\\n\"\n",
    "    )\n",
    "    prompt_response_data.append({\"prompt\": prompt, \"response\": response})\n",
    "\n",
    "prompt_response_data[:5]"
   ]
  },
  {
   "cell_type": "markdown",
   "metadata": {},
   "source": [
    "# Storing data in VEctor DB"
   ]
  },
  {
   "cell_type": "code",
   "execution_count": 5,
   "metadata": {},
   "outputs": [],
   "source": [
    "from langchain.docstore.document import Document\n",
    "documents = []\n",
    "for entry in prompt_response_data:\n",
    "    combined_text = f\"Prompt: {entry['prompt']}\\nResponse: {entry['response']}\"\n",
    "    documents.append(Document(page_content=combined_text))\n",
    "     "
   ]
  },
  {
   "cell_type": "code",
   "execution_count": 6,
   "metadata": {},
   "outputs": [],
   "source": [
    "text_splitter = RecursiveCharacterTextSplitter(chunk_size=100, chunk_overlap=10)\n",
    "texts = text_splitter.split_documents(documents)"
   ]
  },
  {
   "cell_type": "code",
   "execution_count": 7,
   "metadata": {},
   "outputs": [
    {
     "name": "stderr",
     "output_type": "stream",
     "text": [
      "C:\\Users\\KIIT\\AppData\\Local\\Temp\\ipykernel_36476\\395406211.py:4: LangChainDeprecationWarning: The class `HuggingFaceEmbeddings` was deprecated in LangChain 0.2.2 and will be removed in 1.0. An updated version of the class exists in the langchain-huggingface package and should be used instead. To use it run `pip install -U langchain-huggingface` and import as `from langchain_huggingface import HuggingFaceEmbeddings`.\n",
      "  hg_embeddings = HuggingFaceEmbeddings(model_name=\"sentence-transformers/all-MiniLM-L6-v2\")\n",
      "c:\\Users\\KIIT\\AppData\\Local\\Programs\\Python\\Python38\\lib\\site-packages\\sentence_transformers\\cross_encoder\\CrossEncoder.py:13: TqdmWarning: IProgress not found. Please update jupyter and ipywidgets. See https://ipywidgets.readthedocs.io/en/stable/user_install.html\n",
      "  from tqdm.autonotebook import tqdm, trange\n"
     ]
    }
   ],
   "source": [
    "from langchain.embeddings import HuggingFaceEmbeddings\n",
    "\n",
    "# Define the Hugging Face embeddings\n",
    "hg_embeddings = HuggingFaceEmbeddings(model_name=\"sentence-transformers/all-MiniLM-L6-v2\")"
   ]
  },
  {
   "cell_type": "code",
   "execution_count": 8,
   "metadata": {},
   "outputs": [],
   "source": [
    "from langchain.vectorstores import FAISS"
   ]
  },
  {
   "cell_type": "code",
   "execution_count": 15,
   "metadata": {},
   "outputs": [],
   "source": [
    "\n",
    "persist_directory= 'docs/faiss_rag_new/'\n",
    "\n",
    "# Define the batch size based on the error message (less than 166)\n",
    "BATCH_SIZE = 150  # Slightly below the max limit for safety\n",
    "\n",
    "# Function to create FAISS vector database in batches\n",
    "def create_faiss_vector_db(documents, embedding, persist_directory, batch_size=BATCH_SIZE):\n",
    "    vectordb_fin = None\n",
    "\n",
    "    # Process documents in batches\n",
    "    for i in range(0, len(documents), batch_size):\n",
    "        batch = documents[i:i + batch_size]\n",
    "\n",
    "        if vectordb_fin is None:\n",
    "            # Create FAISS DB with the first batch\n",
    "            texts = [doc.page_content for doc in batch]  # Extract the text from the documents\n",
    "            vectordb_fin = FAISS.from_texts(\n",
    "                texts=texts,\n",
    "                embedding=embedding,\n",
    "            )\n",
    "        else:\n",
    "            # Add subsequent batches to the existing database\n",
    "            texts = [doc.page_content for doc in batch]\n",
    "            embeddings = embedding.embed_documents(texts)  # Get embeddings for the current batch\n",
    "            # Create a temporary FAISS vector store for the batch and merge it with the existing one\n",
    "            batch_vectordb = FAISS.from_texts(texts, embedding)\n",
    "            vectordb_fin.merge_from(batch_vectordb)  # Merge the new batch with the existing vector store\n",
    "\n",
    "    # Save the final vector database after all batches are processed\n",
    "    vectordb_fin.save_local(persist_directory)  # Persist the database to the directory\n",
    "\n",
    "    return vectordb_fin\n",
    "\n",
    "# Call the function with the provided documents and embeddings\n",
    "vectordb_fin = create_faiss_vector_db(documents=texts, embedding=hg_embeddings, persist_directory=persist_directory)\n",
    "\n",
    "\n"
   ]
  },
  {
   "cell_type": "code",
   "execution_count": null,
   "metadata": {},
   "outputs": [],
   "source": [
    "from langchain.chains import RetrievalQA\n",
    "retriever_fin = vectordb_fin.as_retriever(search_kwargs={\"k\":5})\n",
    "qa = RetrievalQA.from_chain_type(\n",
    "    llm=llm, chain_type=\"stuff\", retriever=retriever_fin, return_source_documents=False)\n",
    "query = \"I'm a 34-year-old female looking to invest in mutual funds for wealth creation over the next 1-3 years. What are my options?\"\n",
    "result = qa({\"query\": query})\n",
    "result"
   ]
  }
 ],
 "metadata": {
  "kernelspec": {
   "display_name": "py38",
   "language": "python",
   "name": "py38"
  },
  "language_info": {
   "codemirror_mode": {
    "name": "ipython",
    "version": 3
   },
   "file_extension": ".py",
   "mimetype": "text/x-python",
   "name": "python",
   "nbconvert_exporter": "python",
   "pygments_lexer": "ipython3",
   "version": "3.8.10"
  }
 },
 "nbformat": 4,
 "nbformat_minor": 2
}
