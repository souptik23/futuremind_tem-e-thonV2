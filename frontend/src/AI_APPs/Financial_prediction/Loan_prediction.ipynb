{
  "cells": [
    {
      "cell_type": "code",
      "execution_count": 90,
      "metadata": {},
      "outputs": [
        {
          "name": "stdout",
          "output_type": "stream",
          "text": [
            "Requirement already satisfied: faiss-cpu in c:\\users\\kiit\\appdata\\local\\programs\\python\\python38\\lib\\site-packages (1.8.0.post1)Note: you may need to restart the kernel to use updated packages.\n",
            "\n",
            "Requirement already satisfied: langchain in c:\\users\\kiit\\appdata\\local\\programs\\python\\python38\\lib\\site-packages (0.2.16)\n",
            "Requirement already satisfied: langchain_community in c:\\users\\kiit\\appdata\\local\\programs\\python\\python38\\lib\\site-packages (0.2.17)\n",
            "Requirement already satisfied: numpy<2.0,>=1.0 in c:\\users\\kiit\\appdata\\local\\programs\\python\\python38\\lib\\site-packages (from faiss-cpu) (1.24.4)\n",
            "Requirement already satisfied: packaging in c:\\users\\kiit\\appdata\\local\\programs\\python\\python38\\lib\\site-packages (from faiss-cpu) (23.2)\n",
            "Requirement already satisfied: langchain-core<0.3.0,>=0.2.38 in c:\\users\\kiit\\appdata\\local\\programs\\python\\python38\\lib\\site-packages (from langchain) (0.2.41)\n",
            "Requirement already satisfied: SQLAlchemy<3,>=1.4 in c:\\users\\kiit\\appdata\\local\\programs\\python\\python38\\lib\\site-packages (from langchain) (2.0.35)\n",
            "Requirement already satisfied: tenacity!=8.4.0,<9.0.0,>=8.1.0 in c:\\users\\kiit\\appdata\\local\\programs\\python\\python38\\lib\\site-packages (from langchain) (8.5.0)\n",
            "Requirement already satisfied: pydantic<3,>=1 in c:\\users\\kiit\\appdata\\local\\programs\\python\\python38\\lib\\site-packages (from langchain) (2.9.2)\n",
            "Requirement already satisfied: requests<3,>=2 in c:\\users\\kiit\\appdata\\local\\programs\\python\\python38\\lib\\site-packages (from langchain) (2.32.3)\n",
            "Requirement already satisfied: langchain-text-splitters<0.3.0,>=0.2.0 in c:\\users\\kiit\\appdata\\local\\programs\\python\\python38\\lib\\site-packages (from langchain) (0.2.4)\n",
            "Requirement already satisfied: PyYAML>=5.3 in c:\\users\\kiit\\appdata\\local\\programs\\python\\python38\\lib\\site-packages (from langchain) (6.0.2)\n",
            "Requirement already satisfied: aiohttp<4.0.0,>=3.8.3 in c:\\users\\kiit\\appdata\\local\\programs\\python\\python38\\lib\\site-packages (from langchain) (3.10.8)\n",
            "Requirement already satisfied: langsmith<0.2.0,>=0.1.17 in c:\\users\\kiit\\appdata\\local\\programs\\python\\python38\\lib\\site-packages (from langchain) (0.1.129)\n",
            "Requirement already satisfied: async-timeout<5.0.0,>=4.0.0 in c:\\users\\kiit\\appdata\\local\\programs\\python\\python38\\lib\\site-packages (from langchain) (4.0.3)\n",
            "Requirement already satisfied: attrs>=17.3.0 in c:\\users\\kiit\\appdata\\local\\programs\\python\\python38\\lib\\site-packages (from aiohttp<4.0.0,>=3.8.3->langchain) (23.2.0)\n",
            "Requirement already satisfied: aiohappyeyeballs>=2.3.0 in c:\\users\\kiit\\appdata\\local\\programs\\python\\python38\\lib\\site-packages (from aiohttp<4.0.0,>=3.8.3->langchain) (2.4.2)\n",
            "Requirement already satisfied: multidict<7.0,>=4.5 in c:\\users\\kiit\\appdata\\local\\programs\\python\\python38\\lib\\site-packages (from aiohttp<4.0.0,>=3.8.3->langchain) (6.1.0)\n",
            "Requirement already satisfied: yarl<2.0,>=1.12.0 in c:\\users\\kiit\\appdata\\local\\programs\\python\\python38\\lib\\site-packages (from aiohttp<4.0.0,>=3.8.3->langchain) (1.13.1)\n",
            "Requirement already satisfied: aiosignal>=1.1.2 in c:\\users\\kiit\\appdata\\local\\programs\\python\\python38\\lib\\site-packages (from aiohttp<4.0.0,>=3.8.3->langchain) (1.3.1)\n",
            "Requirement already satisfied: frozenlist>=1.1.1 in c:\\users\\kiit\\appdata\\local\\programs\\python\\python38\\lib\\site-packages (from aiohttp<4.0.0,>=3.8.3->langchain) (1.4.1)\n",
            "Requirement already satisfied: jsonpatch<2.0,>=1.33 in c:\\users\\kiit\\appdata\\local\\programs\\python\\python38\\lib\\site-packages (from langchain-core<0.3.0,>=0.2.38->langchain) (1.33)\n",
            "Requirement already satisfied: typing-extensions>=4.7 in c:\\users\\kiit\\appdata\\local\\programs\\python\\python38\\lib\\site-packages (from langchain-core<0.3.0,>=0.2.38->langchain) (4.12.2)\n",
            "Requirement already satisfied: jsonpointer>=1.9 in c:\\users\\kiit\\appdata\\local\\programs\\python\\python38\\lib\\site-packages (from jsonpatch<2.0,>=1.33->langchain-core<0.3.0,>=0.2.38->langchain) (3.0.0)\n",
            "Requirement already satisfied: httpx<1,>=0.23.0 in c:\\users\\kiit\\appdata\\local\\programs\\python\\python38\\lib\\site-packages (from langsmith<0.2.0,>=0.1.17->langchain) (0.27.2)\n",
            "Requirement already satisfied: orjson<4.0.0,>=3.9.14 in c:\\users\\kiit\\appdata\\local\\programs\\python\\python38\\lib\\site-packages (from langsmith<0.2.0,>=0.1.17->langchain) (3.10.7)\n",
            "Requirement already satisfied: certifi in c:\\users\\kiit\\appdata\\local\\programs\\python\\python38\\lib\\site-packages (from httpx<1,>=0.23.0->langsmith<0.2.0,>=0.1.17->langchain) (2024.8.30)\n",
            "Requirement already satisfied: idna in c:\\users\\kiit\\appdata\\local\\programs\\python\\python38\\lib\\site-packages (from httpx<1,>=0.23.0->langsmith<0.2.0,>=0.1.17->langchain) (3.10)\n",
            "Requirement already satisfied: httpcore==1.* in c:\\users\\kiit\\appdata\\local\\programs\\python\\python38\\lib\\site-packages (from httpx<1,>=0.23.0->langsmith<0.2.0,>=0.1.17->langchain) (1.0.5)\n",
            "Requirement already satisfied: anyio in c:\\users\\kiit\\appdata\\local\\programs\\python\\python38\\lib\\site-packages (from httpx<1,>=0.23.0->langsmith<0.2.0,>=0.1.17->langchain) (4.5.0)\n",
            "Requirement already satisfied: sniffio in c:\\users\\kiit\\appdata\\local\\programs\\python\\python38\\lib\\site-packages (from httpx<1,>=0.23.0->langsmith<0.2.0,>=0.1.17->langchain) (1.3.1)\n",
            "Requirement already satisfied: h11<0.15,>=0.13 in c:\\users\\kiit\\appdata\\local\\programs\\python\\python38\\lib\\site-packages (from httpcore==1.*->httpx<1,>=0.23.0->langsmith<0.2.0,>=0.1.17->langchain) (0.14.0)\n",
            "Requirement already satisfied: annotated-types>=0.6.0 in c:\\users\\kiit\\appdata\\local\\programs\\python\\python38\\lib\\site-packages (from pydantic<3,>=1->langchain) (0.7.0)\n",
            "Requirement already satisfied: pydantic-core==2.23.4 in c:\\users\\kiit\\appdata\\local\\programs\\python\\python38\\lib\\site-packages (from pydantic<3,>=1->langchain) (2.23.4)\n",
            "Requirement already satisfied: urllib3<3,>=1.21.1 in c:\\users\\kiit\\appdata\\local\\programs\\python\\python38\\lib\\site-packages (from requests<3,>=2->langchain) (2.2.3)\n",
            "Requirement already satisfied: charset-normalizer<4,>=2 in c:\\users\\kiit\\appdata\\local\\programs\\python\\python38\\lib\\site-packages (from requests<3,>=2->langchain) (3.3.2)\n",
            "Requirement already satisfied: greenlet!=0.4.17 in c:\\users\\kiit\\appdata\\local\\programs\\python\\python38\\lib\\site-packages (from SQLAlchemy<3,>=1.4->langchain) (3.1.1)\n",
            "Requirement already satisfied: dataclasses-json<0.7,>=0.5.7 in c:\\users\\kiit\\appdata\\local\\programs\\python\\python38\\lib\\site-packages (from langchain_community) (0.6.7)\n",
            "Requirement already satisfied: typing-inspect<1,>=0.4.0 in c:\\users\\kiit\\appdata\\local\\programs\\python\\python38\\lib\\site-packages (from dataclasses-json<0.7,>=0.5.7->langchain_community) (0.9.0)\n",
            "Requirement already satisfied: marshmallow<4.0.0,>=3.18.0 in c:\\users\\kiit\\appdata\\local\\programs\\python\\python38\\lib\\site-packages (from dataclasses-json<0.7,>=0.5.7->langchain_community) (3.22.0)\n",
            "Requirement already satisfied: mypy-extensions>=0.3.0 in c:\\users\\kiit\\appdata\\local\\programs\\python\\python38\\lib\\site-packages (from typing-inspect<1,>=0.4.0->dataclasses-json<0.7,>=0.5.7->langchain_community) (1.0.0)\n",
            "Requirement already satisfied: exceptiongroup>=1.0.2 in c:\\users\\kiit\\appdata\\local\\programs\\python\\python38\\lib\\site-packages (from anyio->httpx<1,>=0.23.0->langsmith<0.2.0,>=0.1.17->langchain) (1.2.2)\n"
          ]
        },
        {
          "name": "stderr",
          "output_type": "stream",
          "text": [
            "WARNING: You are using pip version 21.1.1; however, version 25.0 is available.\n",
            "You should consider upgrading via the 'c:\\Users\\KIIT\\AppData\\Local\\Programs\\Python\\Python38\\python.exe -m pip install --upgrade pip' command.\n"
          ]
        }
      ],
      "source": [
        "pip install faiss-cpu langchain langchain_community"
      ]
    },
    {
      "cell_type": "code",
      "execution_count": 91,
      "metadata": {
        "id": "a-NzofDDGGrh"
      },
      "outputs": [],
      "source": [
        "import pandas as pd\n",
        "from langchain.docstore.document import Document\n",
        "from langchain_community.embeddings import HuggingFaceEmbeddings\n",
        "from langchain.vectorstores import FAISS"
      ]
    },
    {
      "cell_type": "code",
      "execution_count": 92,
      "metadata": {
        "id": "kksaofkLIHzN"
      },
      "outputs": [],
      "source": [
        "df=pd.read_csv(\"C:/Users/KIIT/OneDrive/Desktop/FINANCE_AI/Finance_prediction/Loan_default.csv\")"
      ]
    },
    {
      "cell_type": "code",
      "execution_count": 93,
      "metadata": {
        "colab": {
          "base_uri": "https://localhost:8080/",
          "height": 243
        },
        "id": "8zdnYCmmIO11",
        "outputId": "c3cc30d9-f047-428a-9c3d-4be2a9df3f9a"
      },
      "outputs": [
        {
          "data": {
            "text/html": [
              "<div>\n",
              "<style scoped>\n",
              "    .dataframe tbody tr th:only-of-type {\n",
              "        vertical-align: middle;\n",
              "    }\n",
              "\n",
              "    .dataframe tbody tr th {\n",
              "        vertical-align: top;\n",
              "    }\n",
              "\n",
              "    .dataframe thead th {\n",
              "        text-align: right;\n",
              "    }\n",
              "</style>\n",
              "<table border=\"1\" class=\"dataframe\">\n",
              "  <thead>\n",
              "    <tr style=\"text-align: right;\">\n",
              "      <th></th>\n",
              "      <th>LoanID</th>\n",
              "      <th>Age</th>\n",
              "      <th>Income</th>\n",
              "      <th>LoanAmount</th>\n",
              "      <th>CreditScore</th>\n",
              "      <th>MonthsEmployed</th>\n",
              "      <th>NumCreditLines</th>\n",
              "      <th>InterestRate</th>\n",
              "      <th>LoanTerm</th>\n",
              "      <th>DTIRatio</th>\n",
              "      <th>Education</th>\n",
              "      <th>EmploymentType</th>\n",
              "      <th>MaritalStatus</th>\n",
              "      <th>HasMortgage</th>\n",
              "      <th>HasDependents</th>\n",
              "      <th>LoanPurpose</th>\n",
              "      <th>HasCoSigner</th>\n",
              "      <th>Default</th>\n",
              "    </tr>\n",
              "  </thead>\n",
              "  <tbody>\n",
              "    <tr>\n",
              "      <th>0</th>\n",
              "      <td>I38PQUQS96</td>\n",
              "      <td>56</td>\n",
              "      <td>85994</td>\n",
              "      <td>50587</td>\n",
              "      <td>520</td>\n",
              "      <td>80</td>\n",
              "      <td>4</td>\n",
              "      <td>15.23</td>\n",
              "      <td>36</td>\n",
              "      <td>0.44</td>\n",
              "      <td>Bachelor's</td>\n",
              "      <td>Full-time</td>\n",
              "      <td>Divorced</td>\n",
              "      <td>Yes</td>\n",
              "      <td>Yes</td>\n",
              "      <td>Other</td>\n",
              "      <td>Yes</td>\n",
              "      <td>0</td>\n",
              "    </tr>\n",
              "    <tr>\n",
              "      <th>1</th>\n",
              "      <td>HPSK72WA7R</td>\n",
              "      <td>69</td>\n",
              "      <td>50432</td>\n",
              "      <td>124440</td>\n",
              "      <td>458</td>\n",
              "      <td>15</td>\n",
              "      <td>1</td>\n",
              "      <td>4.81</td>\n",
              "      <td>60</td>\n",
              "      <td>0.68</td>\n",
              "      <td>Master's</td>\n",
              "      <td>Full-time</td>\n",
              "      <td>Married</td>\n",
              "      <td>No</td>\n",
              "      <td>No</td>\n",
              "      <td>Other</td>\n",
              "      <td>Yes</td>\n",
              "      <td>0</td>\n",
              "    </tr>\n",
              "    <tr>\n",
              "      <th>2</th>\n",
              "      <td>C1OZ6DPJ8Y</td>\n",
              "      <td>46</td>\n",
              "      <td>84208</td>\n",
              "      <td>129188</td>\n",
              "      <td>451</td>\n",
              "      <td>26</td>\n",
              "      <td>3</td>\n",
              "      <td>21.17</td>\n",
              "      <td>24</td>\n",
              "      <td>0.31</td>\n",
              "      <td>Master's</td>\n",
              "      <td>Unemployed</td>\n",
              "      <td>Divorced</td>\n",
              "      <td>Yes</td>\n",
              "      <td>Yes</td>\n",
              "      <td>Auto</td>\n",
              "      <td>No</td>\n",
              "      <td>1</td>\n",
              "    </tr>\n",
              "    <tr>\n",
              "      <th>3</th>\n",
              "      <td>V2KKSFM3UN</td>\n",
              "      <td>32</td>\n",
              "      <td>31713</td>\n",
              "      <td>44799</td>\n",
              "      <td>743</td>\n",
              "      <td>0</td>\n",
              "      <td>3</td>\n",
              "      <td>7.07</td>\n",
              "      <td>24</td>\n",
              "      <td>0.23</td>\n",
              "      <td>High School</td>\n",
              "      <td>Full-time</td>\n",
              "      <td>Married</td>\n",
              "      <td>No</td>\n",
              "      <td>No</td>\n",
              "      <td>Business</td>\n",
              "      <td>No</td>\n",
              "      <td>0</td>\n",
              "    </tr>\n",
              "    <tr>\n",
              "      <th>4</th>\n",
              "      <td>EY08JDHTZP</td>\n",
              "      <td>60</td>\n",
              "      <td>20437</td>\n",
              "      <td>9139</td>\n",
              "      <td>633</td>\n",
              "      <td>8</td>\n",
              "      <td>4</td>\n",
              "      <td>6.51</td>\n",
              "      <td>48</td>\n",
              "      <td>0.73</td>\n",
              "      <td>Bachelor's</td>\n",
              "      <td>Unemployed</td>\n",
              "      <td>Divorced</td>\n",
              "      <td>No</td>\n",
              "      <td>Yes</td>\n",
              "      <td>Auto</td>\n",
              "      <td>No</td>\n",
              "      <td>0</td>\n",
              "    </tr>\n",
              "  </tbody>\n",
              "</table>\n",
              "</div>"
            ],
            "text/plain": [
              "       LoanID  Age  Income  LoanAmount  CreditScore  MonthsEmployed  \\\n",
              "0  I38PQUQS96   56   85994       50587          520              80   \n",
              "1  HPSK72WA7R   69   50432      124440          458              15   \n",
              "2  C1OZ6DPJ8Y   46   84208      129188          451              26   \n",
              "3  V2KKSFM3UN   32   31713       44799          743               0   \n",
              "4  EY08JDHTZP   60   20437        9139          633               8   \n",
              "\n",
              "   NumCreditLines  InterestRate  LoanTerm  DTIRatio    Education  \\\n",
              "0               4         15.23        36      0.44   Bachelor's   \n",
              "1               1          4.81        60      0.68     Master's   \n",
              "2               3         21.17        24      0.31     Master's   \n",
              "3               3          7.07        24      0.23  High School   \n",
              "4               4          6.51        48      0.73   Bachelor's   \n",
              "\n",
              "  EmploymentType MaritalStatus HasMortgage HasDependents LoanPurpose  \\\n",
              "0      Full-time      Divorced         Yes           Yes       Other   \n",
              "1      Full-time       Married          No            No       Other   \n",
              "2     Unemployed      Divorced         Yes           Yes        Auto   \n",
              "3      Full-time       Married          No            No    Business   \n",
              "4     Unemployed      Divorced          No           Yes        Auto   \n",
              "\n",
              "  HasCoSigner  Default  \n",
              "0         Yes        0  \n",
              "1         Yes        0  \n",
              "2          No        1  \n",
              "3          No        0  \n",
              "4          No        0  "
            ]
          },
          "execution_count": 93,
          "metadata": {},
          "output_type": "execute_result"
        }
      ],
      "source": [
        "df.head()"
      ]
    },
    {
      "cell_type": "code",
      "execution_count": 94,
      "metadata": {
        "colab": {
          "base_uri": "https://localhost:8080/",
          "height": 243
        },
        "id": "Ww7ZmiuJIx51",
        "outputId": "bd01b8f0-072c-42db-d6db-9ae1153a6d7e"
      },
      "outputs": [
        {
          "data": {
            "text/html": [
              "<div>\n",
              "<style scoped>\n",
              "    .dataframe tbody tr th:only-of-type {\n",
              "        vertical-align: middle;\n",
              "    }\n",
              "\n",
              "    .dataframe tbody tr th {\n",
              "        vertical-align: top;\n",
              "    }\n",
              "\n",
              "    .dataframe thead th {\n",
              "        text-align: right;\n",
              "    }\n",
              "</style>\n",
              "<table border=\"1\" class=\"dataframe\">\n",
              "  <thead>\n",
              "    <tr style=\"text-align: right;\">\n",
              "      <th></th>\n",
              "      <th>Age</th>\n",
              "      <th>Income</th>\n",
              "      <th>LoanAmount</th>\n",
              "      <th>CreditScore</th>\n",
              "      <th>MonthsEmployed</th>\n",
              "      <th>NumCreditLines</th>\n",
              "      <th>InterestRate</th>\n",
              "      <th>LoanTerm</th>\n",
              "      <th>DTIRatio</th>\n",
              "      <th>Education</th>\n",
              "      <th>EmploymentType</th>\n",
              "      <th>MaritalStatus</th>\n",
              "      <th>HasMortgage</th>\n",
              "      <th>HasDependents</th>\n",
              "      <th>LoanPurpose</th>\n",
              "      <th>HasCoSigner</th>\n",
              "      <th>Default</th>\n",
              "    </tr>\n",
              "  </thead>\n",
              "  <tbody>\n",
              "    <tr>\n",
              "      <th>0</th>\n",
              "      <td>56</td>\n",
              "      <td>85994</td>\n",
              "      <td>50587</td>\n",
              "      <td>520</td>\n",
              "      <td>80</td>\n",
              "      <td>4</td>\n",
              "      <td>15.23</td>\n",
              "      <td>36</td>\n",
              "      <td>0.44</td>\n",
              "      <td>Bachelor's</td>\n",
              "      <td>Full-time</td>\n",
              "      <td>Divorced</td>\n",
              "      <td>Yes</td>\n",
              "      <td>Yes</td>\n",
              "      <td>Other</td>\n",
              "      <td>Yes</td>\n",
              "      <td>0</td>\n",
              "    </tr>\n",
              "    <tr>\n",
              "      <th>1</th>\n",
              "      <td>69</td>\n",
              "      <td>50432</td>\n",
              "      <td>124440</td>\n",
              "      <td>458</td>\n",
              "      <td>15</td>\n",
              "      <td>1</td>\n",
              "      <td>4.81</td>\n",
              "      <td>60</td>\n",
              "      <td>0.68</td>\n",
              "      <td>Master's</td>\n",
              "      <td>Full-time</td>\n",
              "      <td>Married</td>\n",
              "      <td>No</td>\n",
              "      <td>No</td>\n",
              "      <td>Other</td>\n",
              "      <td>Yes</td>\n",
              "      <td>0</td>\n",
              "    </tr>\n",
              "    <tr>\n",
              "      <th>2</th>\n",
              "      <td>46</td>\n",
              "      <td>84208</td>\n",
              "      <td>129188</td>\n",
              "      <td>451</td>\n",
              "      <td>26</td>\n",
              "      <td>3</td>\n",
              "      <td>21.17</td>\n",
              "      <td>24</td>\n",
              "      <td>0.31</td>\n",
              "      <td>Master's</td>\n",
              "      <td>Unemployed</td>\n",
              "      <td>Divorced</td>\n",
              "      <td>Yes</td>\n",
              "      <td>Yes</td>\n",
              "      <td>Auto</td>\n",
              "      <td>No</td>\n",
              "      <td>1</td>\n",
              "    </tr>\n",
              "    <tr>\n",
              "      <th>3</th>\n",
              "      <td>32</td>\n",
              "      <td>31713</td>\n",
              "      <td>44799</td>\n",
              "      <td>743</td>\n",
              "      <td>0</td>\n",
              "      <td>3</td>\n",
              "      <td>7.07</td>\n",
              "      <td>24</td>\n",
              "      <td>0.23</td>\n",
              "      <td>High School</td>\n",
              "      <td>Full-time</td>\n",
              "      <td>Married</td>\n",
              "      <td>No</td>\n",
              "      <td>No</td>\n",
              "      <td>Business</td>\n",
              "      <td>No</td>\n",
              "      <td>0</td>\n",
              "    </tr>\n",
              "    <tr>\n",
              "      <th>4</th>\n",
              "      <td>60</td>\n",
              "      <td>20437</td>\n",
              "      <td>9139</td>\n",
              "      <td>633</td>\n",
              "      <td>8</td>\n",
              "      <td>4</td>\n",
              "      <td>6.51</td>\n",
              "      <td>48</td>\n",
              "      <td>0.73</td>\n",
              "      <td>Bachelor's</td>\n",
              "      <td>Unemployed</td>\n",
              "      <td>Divorced</td>\n",
              "      <td>No</td>\n",
              "      <td>Yes</td>\n",
              "      <td>Auto</td>\n",
              "      <td>No</td>\n",
              "      <td>0</td>\n",
              "    </tr>\n",
              "  </tbody>\n",
              "</table>\n",
              "</div>"
            ],
            "text/plain": [
              "   Age  Income  LoanAmount  CreditScore  MonthsEmployed  NumCreditLines  \\\n",
              "0   56   85994       50587          520              80               4   \n",
              "1   69   50432      124440          458              15               1   \n",
              "2   46   84208      129188          451              26               3   \n",
              "3   32   31713       44799          743               0               3   \n",
              "4   60   20437        9139          633               8               4   \n",
              "\n",
              "   InterestRate  LoanTerm  DTIRatio    Education EmploymentType MaritalStatus  \\\n",
              "0         15.23        36      0.44   Bachelor's      Full-time      Divorced   \n",
              "1          4.81        60      0.68     Master's      Full-time       Married   \n",
              "2         21.17        24      0.31     Master's     Unemployed      Divorced   \n",
              "3          7.07        24      0.23  High School      Full-time       Married   \n",
              "4          6.51        48      0.73   Bachelor's     Unemployed      Divorced   \n",
              "\n",
              "  HasMortgage HasDependents LoanPurpose HasCoSigner  Default  \n",
              "0         Yes           Yes       Other         Yes        0  \n",
              "1          No            No       Other         Yes        0  \n",
              "2         Yes           Yes        Auto          No        1  \n",
              "3          No            No    Business          No        0  \n",
              "4          No           Yes        Auto          No        0  "
            ]
          },
          "execution_count": 94,
          "metadata": {},
          "output_type": "execute_result"
        }
      ],
      "source": [
        "df = df.drop(\"LoanID\", axis=1)\n",
        "df.head()"
      ]
    },
    {
      "cell_type": "code",
      "execution_count": 95,
      "metadata": {
        "colab": {
          "base_uri": "https://localhost:8080/"
        },
        "id": "vqGOAgrmI1Bk",
        "outputId": "9308cd35-8d9d-4b99-f18a-d79f54cce9b9"
      },
      "outputs": [
        {
          "name": "stdout",
          "output_type": "stream",
          "text": [
            "Age               0\n",
            "Income            0\n",
            "LoanAmount        0\n",
            "CreditScore       0\n",
            "MonthsEmployed    0\n",
            "NumCreditLines    0\n",
            "InterestRate      0\n",
            "LoanTerm          0\n",
            "DTIRatio          0\n",
            "Education         0\n",
            "EmploymentType    0\n",
            "MaritalStatus     0\n",
            "HasMortgage       0\n",
            "HasDependents     0\n",
            "LoanPurpose       0\n",
            "HasCoSigner       0\n",
            "Default           0\n",
            "dtype: int64\n"
          ]
        }
      ],
      "source": [
        "# Check for missing values and handle them\n",
        "print(df.isnull().sum())"
      ]
    },
    {
      "cell_type": "code",
      "execution_count": 96,
      "metadata": {
        "colab": {
          "base_uri": "https://localhost:8080/"
        },
        "id": "NRO9llRmI5vG",
        "outputId": "9d055fa8-18de-42e9-e999-e363f6651346"
      },
      "outputs": [
        {
          "name": "stdout",
          "output_type": "stream",
          "text": [
            "Age               0\n",
            "Income            0\n",
            "LoanAmount        0\n",
            "CreditScore       0\n",
            "MonthsEmployed    0\n",
            "NumCreditLines    0\n",
            "InterestRate      0\n",
            "LoanTerm          0\n",
            "DTIRatio          0\n",
            "Education         0\n",
            "EmploymentType    0\n",
            "MaritalStatus     0\n",
            "HasMortgage       0\n",
            "HasDependents     0\n",
            "LoanPurpose       0\n",
            "HasCoSigner       0\n",
            "Default           0\n",
            "dtype: int64\n"
          ]
        }
      ],
      "source": [
        "# Impute LoanPurpose with the mode\n",
        "df['LoanPurpose'].fillna(df['LoanPurpose'].mode()[0], inplace=True)\n",
        "\n",
        "# Impute HasCoSigner with the mode\n",
        "df['HasCoSigner'].fillna(df['HasCoSigner'].mode()[0], inplace=True)\n",
        "\n",
        "\n",
        "# Handle missing values in the target variable 'Default'\n",
        "# Option 1: Drop rows with missing target values (if very few)\n",
        "df.dropna(subset=['Default'], inplace=True)\n",
        "\n",
        "# Verify that there are no more missing values\n",
        "print(df.isnull().sum())"
      ]
    },
    {
      "cell_type": "code",
      "execution_count": 97,
      "metadata": {
        "colab": {
          "base_uri": "https://localhost:8080/"
        },
        "id": "oG5KPBNUMPD7",
        "outputId": "5819416f-f0af-4bf2-b11c-02e3c8dcdbee"
      },
      "outputs": [
        {
          "data": {
            "text/plain": [
              "(1500, 17)"
            ]
          },
          "execution_count": 97,
          "metadata": {},
          "output_type": "execute_result"
        }
      ],
      "source": [
        "df = df.iloc[:1500,:]\n",
        "df.shape"
      ]
    },
    {
      "cell_type": "code",
      "execution_count": 98,
      "metadata": {
        "colab": {
          "base_uri": "https://localhost:8080/"
        },
        "id": "TjIcjZOpI94C",
        "outputId": "4309e443-3e4a-4ecc-d678-e9afb8dc9812"
      },
      "outputs": [
        {
          "data": {
            "text/plain": [
              "(1500, 17)"
            ]
          },
          "execution_count": 98,
          "metadata": {},
          "output_type": "execute_result"
        }
      ],
      "source": [
        "df.shape"
      ]
    },
    {
      "cell_type": "code",
      "execution_count": 99,
      "metadata": {},
      "outputs": [
        {
          "name": "stdout",
          "output_type": "stream",
          "text": [
            "FAISS vector store created and saved successfully.\n"
          ]
        }
      ],
      "source": [
        "documents = []\n",
        "for i, row in df.iterrows():\n",
        "    document = f\"id:{i} | Customer_Behavior: {row.to_dict()} | Default_Status: {row['Default']}\"\n",
        "    documents.append(Document(page_content=document))\n",
        "\n",
        "from langchain_community.vectorstores import FAISS\n",
        "from langchain_huggingface import HuggingFaceEmbeddings\n",
        "from langchain_community.document_loaders import TextLoader\n",
        "from langchain.text_splitter import RecursiveCharacterTextSplitter\n",
        "\n",
        "# Split documents into chunks\n",
        "text_splitter = RecursiveCharacterTextSplitter(chunk_size=1000, chunk_overlap=200)\n",
        "docs = text_splitter.split_documents(documents)\n",
        "\n",
        "# Generate embeddings\n",
        "embeddings = HuggingFaceEmbeddings(model_name=\"sentence-transformers/all-MiniLM-L6-v2\")\n",
        "\n",
        "# Build FAISS index\n",
        "faiss_index = FAISS.from_documents(docs, embeddings)\n",
        "faiss_index.save_local('docs/faiss_rag/')  # This will create index.faiss & index.pkl\n",
        "\n",
        "\n",
        "print(\"FAISS vector store created and saved successfully.\")\n"
      ]
    },
    {
      "cell_type": "code",
      "execution_count": 79,
      "metadata": {
        "id": "Jpxrk1yxJAc6"
      },
      "outputs": [],
      "source": [
        "# Define the function to create a prompt\n",
        "def create_prompt(data_point):\n",
        "    prompt = f\"\"\"\n",
        "    Predict the default probability for the following loan applicant:\n",
        "\n",
        "    - Age: {data_point['Age']}\n",
        "    - Income: {data_point['Income']}\n",
        "    - Loan Amount: {data_point['LoanAmount']}\n",
        "    - Credit Score: {data_point['CreditScore']}\n",
        "    - Months Employed: {data_point['MonthsEmployed']}\n",
        "    - Number of Credit Lines: {data_point['NumCreditLines']}\n",
        "    - Interest Rate: {data_point['InterestRate']}\n",
        "    - Loan Term: {data_point['LoanTerm']}\n",
        "    - Debt-to-Income Ratio: {data_point['DTIRatio']}\n",
        "    - Education: {data_point['Education']}\n",
        "    - Employment Type: {data_point['EmploymentType']}\n",
        "    - Marital Status: {data_point['MaritalStatus']}\n",
        "    - Has Mortgage: {data_point['HasMortgage']}\n",
        "    - Has Dependents: {data_point['HasDependents']}\n",
        "    - Loan Purpose: {data_point['LoanPurpose']}\n",
        "    - Has Co-Signer: {data_point['HasCoSigner']}\n",
        "    \"\"\"\n",
        "    return prompt\n"
      ]
    },
    {
      "cell_type": "code",
      "execution_count": 19,
      "metadata": {
        "id": "lQvRlP41JQZl"
      },
      "outputs": [],
      "source": [
        "# Create a list to store prompts and responses\n",
        "data_list = []"
      ]
    },
    {
      "cell_type": "code",
      "execution_count": 20,
      "metadata": {
        "id": "8L-fc2xvJSSp"
      },
      "outputs": [],
      "source": [
        "# Generate prompts and responses\n",
        "for index, row in df.iterrows():\n",
        "    prompt = create_prompt(row)\n",
        "    response = f\"Default Probability: {row['Default']}\"\n",
        "    data_list.append((prompt, response))\n"
      ]
    },
    {
      "cell_type": "code",
      "execution_count": null,
      "metadata": {
        "colab": {
          "base_uri": "https://localhost:8080/"
        },
        "id": "6Myqz5fyJUOg",
        "outputId": "13593ba0-3616-4f08-ab1a-f4c2df6c59a8"
      },
      "outputs": [
        {
          "data": {
            "text/plain": [
              "(\"\\n    Predict the default probability for the following loan applicant:\\n\\n    - Age: 56\\n    - Income: 85994\\n    - Loan Amount: 50587\\n    - Credit Score: 520\\n    - Months Employed: 80\\n    - Number of Credit Lines: 4\\n    - Interest Rate: 15.23\\n    - Loan Term: 36\\n    - Debt-to-Income Ratio: 0.44\\n    - Education: Bachelor's\\n    - Employment Type: Full-time\\n    - Marital Status: Divorced\\n    - Has Mortgage: Yes\\n    - Has Dependents: Yes\\n    - Loan Purpose: Other\\n    - Has Co-Signer: Yes\\n    \",\n",
              " 'Default Probability: 0')"
            ]
          },
          "execution_count": 21,
          "metadata": {},
          "output_type": "execute_result"
        }
      ],
      "source": [
        "data_list[0]"
      ]
    },
    {
      "cell_type": "code",
      "execution_count": null,
      "metadata": {
        "colab": {
          "base_uri": "https://localhost:8080/"
        },
        "id": "_hsQ6pU0JYKS",
        "outputId": "81d13557-25b1-446b-e5fc-87590cab46aa"
      },
      "outputs": [],
      "source": [
        "from langchain.docstore.document import Document\n",
        "\n",
        "documents = []\n",
        "\n",
        "# Iterate over rows using .rows() method\n",
        "for i, row_tuple in df.iterrows():\n",
        "    document = f\"id:{i}\\Customer_Behavior: {row_tuple[1]}\\Default_Status: {row_tuple[0]}\"\n",
        "    documents.append(Document(page_content=document))"
      ]
    },
    {
      "cell_type": "code",
      "execution_count": 44,
      "metadata": {
        "id": "B35nNezWJ9k0"
      },
      "outputs": [],
      "source": []
    },
    {
      "cell_type": "code",
      "execution_count": null,
      "metadata": {
        "colab": {
          "base_uri": "https://localhost:8080/"
        },
        "id": "qn2yW3i7J6Rc",
        "outputId": "3adf3bd6-d23f-4fc3-cbd0-654e66b8e9f1"
      },
      "outputs": [
        {
          "name": "stdout",
          "output_type": "stream",
          "text": [
            "Requirement already satisfied: langchain_community in c:\\users\\kiit\\appdata\\local\\programs\\python\\python312\\lib\\site-packages (0.3.1)\n",
            "Requirement already satisfied: PyYAML>=5.3 in c:\\users\\kiit\\appdata\\local\\programs\\python\\python312\\lib\\site-packages (from langchain_community) (6.0.2)\n",
            "Requirement already satisfied: SQLAlchemy<3,>=1.4 in c:\\users\\kiit\\appdata\\local\\programs\\python\\python312\\lib\\site-packages (from langchain_community) (2.0.35)\n",
            "Requirement already satisfied: aiohttp<4.0.0,>=3.8.3 in c:\\users\\kiit\\appdata\\local\\programs\\python\\python312\\lib\\site-packages (from langchain_community) (3.10.8)\n",
            "Requirement already satisfied: dataclasses-json<0.7,>=0.5.7 in c:\\users\\kiit\\appdata\\local\\programs\\python\\python312\\lib\\site-packages (from langchain_community) (0.6.7)\n",
            "Requirement already satisfied: langchain<0.4.0,>=0.3.1 in c:\\users\\kiit\\appdata\\local\\programs\\python\\python312\\lib\\site-packages (from langchain_community) (0.3.3)\n",
            "Requirement already satisfied: langchain-core<0.4.0,>=0.3.6 in c:\\users\\kiit\\appdata\\local\\programs\\python\\python312\\lib\\site-packages (from langchain_community) (0.3.33)\n",
            "Requirement already satisfied: langsmith<0.2.0,>=0.1.125 in c:\\users\\kiit\\appdata\\local\\programs\\python\\python312\\lib\\site-packages (from langchain_community) (0.1.129)\n",
            "Requirement already satisfied: numpy<2.0.0,>=1.26.0 in c:\\users\\kiit\\appdata\\local\\programs\\python\\python312\\lib\\site-packages (from langchain_community) (1.26.4)\n",
            "Requirement already satisfied: pydantic-settings<3.0.0,>=2.4.0 in c:\\users\\kiit\\appdata\\local\\programs\\python\\python312\\lib\\site-packages (from langchain_community) (2.5.2)\n",
            "Requirement already satisfied: requests<3,>=2 in c:\\users\\kiit\\appdata\\local\\programs\\python\\python312\\lib\\site-packages (from langchain_community) (2.32.3)\n",
            "Requirement already satisfied: tenacity!=8.4.0,<9.0.0,>=8.1.0 in c:\\users\\kiit\\appdata\\local\\programs\\python\\python312\\lib\\site-packages (from langchain_community) (8.5.0)\n",
            "Requirement already satisfied: aiohappyeyeballs>=2.3.0 in c:\\users\\kiit\\appdata\\local\\programs\\python\\python312\\lib\\site-packages (from aiohttp<4.0.0,>=3.8.3->langchain_community) (2.4.2)\n",
            "Requirement already satisfied: aiosignal>=1.1.2 in c:\\users\\kiit\\appdata\\local\\programs\\python\\python312\\lib\\site-packages (from aiohttp<4.0.0,>=3.8.3->langchain_community) (1.3.1)\n",
            "Requirement already satisfied: attrs>=17.3.0 in c:\\users\\kiit\\appdata\\local\\programs\\python\\python312\\lib\\site-packages (from aiohttp<4.0.0,>=3.8.3->langchain_community) (24.2.0)\n",
            "Requirement already satisfied: frozenlist>=1.1.1 in c:\\users\\kiit\\appdata\\local\\programs\\python\\python312\\lib\\site-packages (from aiohttp<4.0.0,>=3.8.3->langchain_community) (1.4.1)\n",
            "Requirement already satisfied: multidict<7.0,>=4.5 in c:\\users\\kiit\\appdata\\local\\programs\\python\\python312\\lib\\site-packages (from aiohttp<4.0.0,>=3.8.3->langchain_community) (6.1.0)\n",
            "Requirement already satisfied: yarl<2.0,>=1.12.0 in c:\\users\\kiit\\appdata\\local\\programs\\python\\python312\\lib\\site-packages (from aiohttp<4.0.0,>=3.8.3->langchain_community) (1.13.1)\n",
            "Requirement already satisfied: marshmallow<4.0.0,>=3.18.0 in c:\\users\\kiit\\appdata\\local\\programs\\python\\python312\\lib\\site-packages (from dataclasses-json<0.7,>=0.5.7->langchain_community) (3.22.0)\n",
            "Requirement already satisfied: typing-inspect<1,>=0.4.0 in c:\\users\\kiit\\appdata\\local\\programs\\python\\python312\\lib\\site-packages (from dataclasses-json<0.7,>=0.5.7->langchain_community) (0.9.0)\n",
            "Requirement already satisfied: langchain-text-splitters<0.4.0,>=0.3.0 in c:\\users\\kiit\\appdata\\local\\programs\\python\\python312\\lib\\site-packages (from langchain<0.4.0,>=0.3.1->langchain_community) (0.3.0)\n",
            "Requirement already satisfied: pydantic<3.0.0,>=2.7.4 in c:\\users\\kiit\\appdata\\local\\programs\\python\\python312\\lib\\site-packages (from langchain<0.4.0,>=0.3.1->langchain_community) (2.9.2)\n",
            "Requirement already satisfied: jsonpatch<2.0,>=1.33 in c:\\users\\kiit\\appdata\\local\\programs\\python\\python312\\lib\\site-packages (from langchain-core<0.4.0,>=0.3.6->langchain_community) (1.33)\n",
            "Requirement already satisfied: packaging<25,>=23.2 in c:\\users\\kiit\\appdata\\local\\programs\\python\\python312\\lib\\site-packages (from langchain-core<0.4.0,>=0.3.6->langchain_community) (24.1)\n",
            "Requirement already satisfied: typing-extensions>=4.7 in c:\\users\\kiit\\appdata\\local\\programs\\python\\python312\\lib\\site-packages (from langchain-core<0.4.0,>=0.3.6->langchain_community) (4.12.2)\n",
            "Requirement already satisfied: httpx<1,>=0.23.0 in c:\\users\\kiit\\appdata\\local\\programs\\python\\python312\\lib\\site-packages (from langsmith<0.2.0,>=0.1.125->langchain_community) (0.27.2)\n",
            "Requirement already satisfied: orjson<4.0.0,>=3.9.14 in c:\\users\\kiit\\appdata\\local\\programs\\python\\python312\\lib\\site-packages (from langsmith<0.2.0,>=0.1.125->langchain_community) (3.10.7)\n",
            "Requirement already satisfied: python-dotenv>=0.21.0 in c:\\users\\kiit\\appdata\\local\\programs\\python\\python312\\lib\\site-packages (from pydantic-settings<3.0.0,>=2.4.0->langchain_community) (1.0.1)\n",
            "Requirement already satisfied: charset-normalizer<4,>=2 in c:\\users\\kiit\\appdata\\local\\programs\\python\\python312\\lib\\site-packages (from requests<3,>=2->langchain_community) (3.3.2)\n",
            "Requirement already satisfied: idna<4,>=2.5 in c:\\users\\kiit\\appdata\\local\\programs\\python\\python312\\lib\\site-packages (from requests<3,>=2->langchain_community) (3.10)\n",
            "Requirement already satisfied: urllib3<3,>=1.21.1 in c:\\users\\kiit\\appdata\\local\\programs\\python\\python312\\lib\\site-packages (from requests<3,>=2->langchain_community) (2.2.3)\n",
            "Requirement already satisfied: certifi>=2017.4.17 in c:\\users\\kiit\\appdata\\local\\programs\\python\\python312\\lib\\site-packages (from requests<3,>=2->langchain_community) (2024.8.30)\n",
            "Requirement already satisfied: greenlet!=0.4.17 in c:\\users\\kiit\\appdata\\local\\programs\\python\\python312\\lib\\site-packages (from SQLAlchemy<3,>=1.4->langchain_community) (3.1.1)\n",
            "Requirement already satisfied: anyio in c:\\users\\kiit\\appdata\\local\\programs\\python\\python312\\lib\\site-packages (from httpx<1,>=0.23.0->langsmith<0.2.0,>=0.1.125->langchain_community) (4.6.0)\n",
            "Requirement already satisfied: httpcore==1.* in c:\\users\\kiit\\appdata\\local\\programs\\python\\python312\\lib\\site-packages (from httpx<1,>=0.23.0->langsmith<0.2.0,>=0.1.125->langchain_community) (1.0.5)\n",
            "Requirement already satisfied: sniffio in c:\\users\\kiit\\appdata\\local\\programs\\python\\python312\\lib\\site-packages (from httpx<1,>=0.23.0->langsmith<0.2.0,>=0.1.125->langchain_community) (1.3.1)\n",
            "Requirement already satisfied: h11<0.15,>=0.13 in c:\\users\\kiit\\appdata\\local\\programs\\python\\python312\\lib\\site-packages (from httpcore==1.*->httpx<1,>=0.23.0->langsmith<0.2.0,>=0.1.125->langchain_community) (0.14.0)\n",
            "Requirement already satisfied: jsonpointer>=1.9 in c:\\users\\kiit\\appdata\\local\\programs\\python\\python312\\lib\\site-packages (from jsonpatch<2.0,>=1.33->langchain-core<0.4.0,>=0.3.6->langchain_community) (3.0.0)\n",
            "Requirement already satisfied: annotated-types>=0.6.0 in c:\\users\\kiit\\appdata\\local\\programs\\python\\python312\\lib\\site-packages (from pydantic<3.0.0,>=2.7.4->langchain<0.4.0,>=0.3.1->langchain_community) (0.7.0)\n",
            "Requirement already satisfied: pydantic-core==2.23.4 in c:\\users\\kiit\\appdata\\local\\programs\\python\\python312\\lib\\site-packages (from pydantic<3.0.0,>=2.7.4->langchain<0.4.0,>=0.3.1->langchain_community) (2.23.4)\n",
            "Requirement already satisfied: mypy-extensions>=0.3.0 in c:\\users\\kiit\\appdata\\local\\programs\\python\\python312\\lib\\site-packages (from typing-inspect<1,>=0.4.0->dataclasses-json<0.7,>=0.5.7->langchain_community) (1.0.0)\n"
          ]
        }
      ],
      "source": [
        "!pip install langchain_community"
      ]
    },
    {
      "cell_type": "code",
      "execution_count": null,
      "metadata": {
        "colab": {
          "base_uri": "https://localhost:8080/"
        },
        "id": "lwcFrG5OJmub",
        "outputId": "4fe2a4ed-84cd-4523-958f-1612de7156ea"
      },
      "outputs": [
        {
          "name": "stderr",
          "output_type": "stream",
          "text": [
            "C:\\Users\\KIIT\\AppData\\Local\\Temp\\ipykernel_32132\\999870367.py:2: LangChainDeprecationWarning: The class `HuggingFaceEmbeddings` was deprecated in LangChain 0.2.2 and will be removed in 1.0. An updated version of the class exists in the langchain-huggingface package and should be used instead. To use it run `pip install -U langchain-huggingface` and import as `from langchain_huggingface import HuggingFaceEmbeddings`.\n",
            "  hg_embeddings = HuggingFaceEmbeddings()\n",
            "C:\\Users\\KIIT\\AppData\\Local\\Temp\\ipykernel_32132\\999870367.py:2: LangChainDeprecationWarning: Default values for HuggingFaceEmbeddings.model_name were deprecated in LangChain 0.2.16 and will be removed in 0.4.0. Explicitly pass a model_name to the HuggingFaceEmbeddings constructor instead.\n",
            "  hg_embeddings = HuggingFaceEmbeddings()\n",
            "c:\\Users\\KIIT\\AppData\\Local\\Programs\\Python\\Python38\\lib\\site-packages\\huggingface_hub\\file_download.py:140: UserWarning: `huggingface_hub` cache-system uses symlinks by default to efficiently store duplicated files but your machine does not support them in C:\\Users\\KIIT\\.cache\\huggingface\\hub\\models--sentence-transformers--all-mpnet-base-v2. Caching files will still work but in a degraded version that might require more space on your disk. This warning can be disabled by setting the `HF_HUB_DISABLE_SYMLINKS_WARNING` environment variable. For more details, see https://huggingface.co/docs/huggingface_hub/how-to-cache#limitations.\n",
            "To support symlinks on Windows, you either need to activate Developer Mode or to run Python as an administrator. In order to activate developer mode, see this article: https://docs.microsoft.com/en-us/windows/apps/get-started/enable-your-device-for-development\n",
            "  warnings.warn(message)\n"
          ]
        }
      ],
      "source": [
        "from langchain_community.embeddings import HuggingFaceEmbeddings\n",
        "hg_embeddings = HuggingFaceEmbeddings()"
      ]
    },
    {
      "cell_type": "code",
      "execution_count": null,
      "metadata": {
        "colab": {
          "base_uri": "https://localhost:8080/"
        },
        "id": "M61PIyGpJ10B",
        "outputId": "89fd922a-8aef-4b55-ee21-8faf09b8608e"
      },
      "outputs": [
        {
          "name": "stdout",
          "output_type": "stream",
          "text": [
            "Collecting chromadb\n",
            "  Using cached chromadb-0.6.3-py3-none-any.whl.metadata (6.8 kB)\n",
            "Collecting build>=1.0.3 (from chromadb)\n",
            "  Using cached build-1.2.2.post1-py3-none-any.whl.metadata (6.5 kB)\n",
            "Requirement already satisfied: pydantic>=1.9 in c:\\users\\kiit\\appdata\\local\\programs\\python\\python312\\lib\\site-packages (from chromadb) (2.9.2)\n",
            "Collecting chroma-hnswlib==0.7.6 (from chromadb)\n",
            "  Using cached chroma_hnswlib-0.7.6.tar.gz (32 kB)\n",
            "  Installing build dependencies: started\n",
            "  Installing build dependencies: finished with status 'done'\n",
            "  Getting requirements to build wheel: started\n",
            "  Getting requirements to build wheel: finished with status 'done'\n",
            "  Preparing metadata (pyproject.toml): started\n",
            "  Preparing metadata (pyproject.toml): finished with status 'done'\n",
            "Requirement already satisfied: fastapi>=0.95.2 in c:\\users\\kiit\\appdata\\local\\programs\\python\\python312\\lib\\site-packages (from chromadb) (0.115.2)\n",
            "Requirement already satisfied: uvicorn>=0.18.3 in c:\\users\\kiit\\appdata\\local\\programs\\python\\python312\\lib\\site-packages (from uvicorn[standard]>=0.18.3->chromadb) (0.32.0)\n",
            "Requirement already satisfied: numpy>=1.22.5 in c:\\users\\kiit\\appdata\\local\\programs\\python\\python312\\lib\\site-packages (from chromadb) (1.26.4)\n",
            "Collecting posthog>=2.4.0 (from chromadb)\n",
            "  Using cached posthog-3.11.0-py2.py3-none-any.whl.metadata (2.9 kB)\n",
            "Requirement already satisfied: typing_extensions>=4.5.0 in c:\\users\\kiit\\appdata\\local\\programs\\python\\python312\\lib\\site-packages (from chromadb) (4.12.2)\n",
            "Collecting onnxruntime>=1.14.1 (from chromadb)\n",
            "  Using cached onnxruntime-1.20.1-cp312-cp312-win_amd64.whl.metadata (4.7 kB)\n",
            "Requirement already satisfied: opentelemetry-api>=1.2.0 in c:\\users\\kiit\\appdata\\local\\programs\\python\\python312\\lib\\site-packages (from chromadb) (1.29.0)\n",
            "Collecting opentelemetry-exporter-otlp-proto-grpc>=1.2.0 (from chromadb)\n",
            "  Using cached opentelemetry_exporter_otlp_proto_grpc-1.29.0-py3-none-any.whl.metadata (2.2 kB)\n",
            "Collecting opentelemetry-instrumentation-fastapi>=0.41b0 (from chromadb)\n",
            "  Using cached opentelemetry_instrumentation_fastapi-0.50b0-py3-none-any.whl.metadata (2.1 kB)\n",
            "Requirement already satisfied: opentelemetry-sdk>=1.2.0 in c:\\users\\kiit\\appdata\\local\\programs\\python\\python312\\lib\\site-packages (from chromadb) (1.29.0)\n",
            "Requirement already satisfied: tokenizers>=0.13.2 in c:\\users\\kiit\\appdata\\local\\programs\\python\\python312\\lib\\site-packages (from chromadb) (0.20.1)\n",
            "Collecting pypika>=0.48.9 (from chromadb)\n",
            "  Using cached PyPika-0.48.9-py2.py3-none-any.whl\n",
            "Requirement already satisfied: tqdm>=4.65.0 in c:\\users\\kiit\\appdata\\local\\programs\\python\\python312\\lib\\site-packages (from chromadb) (4.66.5)\n",
            "Collecting overrides>=7.3.1 (from chromadb)\n",
            "  Using cached overrides-7.7.0-py3-none-any.whl.metadata (5.8 kB)\n",
            "Collecting importlib-resources (from chromadb)\n",
            "  Using cached importlib_resources-6.5.2-py3-none-any.whl.metadata (3.9 kB)\n",
            "Requirement already satisfied: grpcio>=1.58.0 in c:\\users\\kiit\\appdata\\local\\programs\\python\\python312\\lib\\site-packages (from chromadb) (1.69.0)\n",
            "Collecting bcrypt>=4.0.1 (from chromadb)\n",
            "  Using cached bcrypt-4.2.1-cp39-abi3-win_amd64.whl.metadata (10 kB)\n",
            "Requirement already satisfied: typer>=0.9.0 in c:\\users\\kiit\\appdata\\local\\programs\\python\\python312\\lib\\site-packages (from chromadb) (0.12.5)\n",
            "Collecting kubernetes>=28.1.0 (from chromadb)\n",
            "  Using cached kubernetes-32.0.0-py2.py3-none-any.whl.metadata (1.5 kB)\n",
            "Requirement already satisfied: tenacity>=8.2.3 in c:\\users\\kiit\\appdata\\local\\programs\\python\\python312\\lib\\site-packages (from chromadb) (8.5.0)\n",
            "Requirement already satisfied: PyYAML>=6.0.0 in c:\\users\\kiit\\appdata\\local\\programs\\python\\python312\\lib\\site-packages (from chromadb) (6.0.2)\n",
            "Requirement already satisfied: mmh3>=4.0.1 in c:\\users\\kiit\\appdata\\local\\programs\\python\\python312\\lib\\site-packages (from chromadb) (4.1.0)\n",
            "Requirement already satisfied: orjson>=3.9.12 in c:\\users\\kiit\\appdata\\local\\programs\\python\\python312\\lib\\site-packages (from chromadb) (3.10.7)\n",
            "Requirement already satisfied: httpx>=0.27.0 in c:\\users\\kiit\\appdata\\local\\programs\\python\\python312\\lib\\site-packages (from chromadb) (0.27.2)\n",
            "Requirement already satisfied: rich>=10.11.0 in c:\\users\\kiit\\appdata\\local\\programs\\python\\python312\\lib\\site-packages (from chromadb) (13.9.2)\n",
            "Requirement already satisfied: packaging>=19.1 in c:\\users\\kiit\\appdata\\local\\programs\\python\\python312\\lib\\site-packages (from build>=1.0.3->chromadb) (24.1)\n",
            "Collecting pyproject_hooks (from build>=1.0.3->chromadb)\n",
            "  Using cached pyproject_hooks-1.2.0-py3-none-any.whl.metadata (1.3 kB)\n",
            "Requirement already satisfied: colorama in c:\\users\\kiit\\appdata\\local\\programs\\python\\python312\\lib\\site-packages (from build>=1.0.3->chromadb) (0.4.6)\n",
            "Requirement already satisfied: starlette<0.41.0,>=0.37.2 in c:\\users\\kiit\\appdata\\local\\programs\\python\\python312\\lib\\site-packages (from fastapi>=0.95.2->chromadb) (0.40.0)\n",
            "Requirement already satisfied: anyio in c:\\users\\kiit\\appdata\\local\\programs\\python\\python312\\lib\\site-packages (from httpx>=0.27.0->chromadb) (4.6.0)\n",
            "Requirement already satisfied: certifi in c:\\users\\kiit\\appdata\\local\\programs\\python\\python312\\lib\\site-packages (from httpx>=0.27.0->chromadb) (2024.8.30)\n",
            "Requirement already satisfied: httpcore==1.* in c:\\users\\kiit\\appdata\\local\\programs\\python\\python312\\lib\\site-packages (from httpx>=0.27.0->chromadb) (1.0.5)\n",
            "Requirement already satisfied: idna in c:\\users\\kiit\\appdata\\local\\programs\\python\\python312\\lib\\site-packages (from httpx>=0.27.0->chromadb) (3.10)\n",
            "Requirement already satisfied: sniffio in c:\\users\\kiit\\appdata\\local\\programs\\python\\python312\\lib\\site-packages (from httpx>=0.27.0->chromadb) (1.3.1)\n",
            "Requirement already satisfied: h11<0.15,>=0.13 in c:\\users\\kiit\\appdata\\local\\programs\\python\\python312\\lib\\site-packages (from httpcore==1.*->httpx>=0.27.0->chromadb) (0.14.0)\n",
            "Requirement already satisfied: six>=1.9.0 in c:\\users\\kiit\\appdata\\local\\programs\\python\\python312\\lib\\site-packages (from kubernetes>=28.1.0->chromadb) (1.16.0)\n",
            "Requirement already satisfied: python-dateutil>=2.5.3 in c:\\users\\kiit\\appdata\\local\\programs\\python\\python312\\lib\\site-packages (from kubernetes>=28.1.0->chromadb) (2.8.2)\n",
            "Requirement already satisfied: google-auth>=1.0.1 in c:\\users\\kiit\\appdata\\local\\programs\\python\\python312\\lib\\site-packages (from kubernetes>=28.1.0->chromadb) (2.37.0)\n",
            "Collecting websocket-client!=0.40.0,!=0.41.*,!=0.42.*,>=0.32.0 (from kubernetes>=28.1.0->chromadb)\n",
            "  Using cached websocket_client-1.8.0-py3-none-any.whl.metadata (8.0 kB)\n",
            "Requirement already satisfied: requests in c:\\users\\kiit\\appdata\\local\\programs\\python\\python312\\lib\\site-packages (from kubernetes>=28.1.0->chromadb) (2.32.3)\n",
            "Collecting requests-oauthlib (from kubernetes>=28.1.0->chromadb)\n",
            "  Using cached requests_oauthlib-2.0.0-py2.py3-none-any.whl.metadata (11 kB)\n",
            "Collecting oauthlib>=3.2.2 (from kubernetes>=28.1.0->chromadb)\n",
            "  Using cached oauthlib-3.2.2-py3-none-any.whl.metadata (7.5 kB)\n",
            "Requirement already satisfied: urllib3>=1.24.2 in c:\\users\\kiit\\appdata\\local\\programs\\python\\python312\\lib\\site-packages (from kubernetes>=28.1.0->chromadb) (2.2.3)\n",
            "Collecting durationpy>=0.7 (from kubernetes>=28.1.0->chromadb)\n",
            "  Using cached durationpy-0.9-py3-none-any.whl.metadata (338 bytes)\n",
            "Collecting coloredlogs (from onnxruntime>=1.14.1->chromadb)\n",
            "  Using cached coloredlogs-15.0.1-py2.py3-none-any.whl.metadata (12 kB)\n",
            "Requirement already satisfied: flatbuffers in c:\\users\\kiit\\appdata\\local\\programs\\python\\python312\\lib\\site-packages (from onnxruntime>=1.14.1->chromadb) (24.3.25)\n",
            "Requirement already satisfied: protobuf in c:\\users\\kiit\\appdata\\local\\programs\\python\\python312\\lib\\site-packages (from onnxruntime>=1.14.1->chromadb) (5.28.2)\n",
            "Requirement already satisfied: sympy in c:\\users\\kiit\\appdata\\local\\programs\\python\\python312\\lib\\site-packages (from onnxruntime>=1.14.1->chromadb) (1.13.1)\n",
            "Requirement already satisfied: deprecated>=1.2.6 in c:\\users\\kiit\\appdata\\local\\programs\\python\\python312\\lib\\site-packages (from opentelemetry-api>=1.2.0->chromadb) (1.2.15)\n",
            "Requirement already satisfied: importlib-metadata<=8.5.0,>=6.0 in c:\\users\\kiit\\appdata\\local\\programs\\python\\python312\\lib\\site-packages (from opentelemetry-api>=1.2.0->chromadb) (8.5.0)\n",
            "Requirement already satisfied: googleapis-common-protos~=1.52 in c:\\users\\kiit\\appdata\\local\\programs\\python\\python312\\lib\\site-packages (from opentelemetry-exporter-otlp-proto-grpc>=1.2.0->chromadb) (1.66.0)\n",
            "Collecting opentelemetry-exporter-otlp-proto-common==1.29.0 (from opentelemetry-exporter-otlp-proto-grpc>=1.2.0->chromadb)\n",
            "  Using cached opentelemetry_exporter_otlp_proto_common-1.29.0-py3-none-any.whl.metadata (1.8 kB)\n",
            "Collecting opentelemetry-proto==1.29.0 (from opentelemetry-exporter-otlp-proto-grpc>=1.2.0->chromadb)\n",
            "  Using cached opentelemetry_proto-1.29.0-py3-none-any.whl.metadata (2.3 kB)\n",
            "Collecting opentelemetry-instrumentation-asgi==0.50b0 (from opentelemetry-instrumentation-fastapi>=0.41b0->chromadb)\n",
            "  Using cached opentelemetry_instrumentation_asgi-0.50b0-py3-none-any.whl.metadata (1.9 kB)\n",
            "Collecting opentelemetry-instrumentation==0.50b0 (from opentelemetry-instrumentation-fastapi>=0.41b0->chromadb)\n",
            "  Using cached opentelemetry_instrumentation-0.50b0-py3-none-any.whl.metadata (6.1 kB)\n",
            "Requirement already satisfied: opentelemetry-semantic-conventions==0.50b0 in c:\\users\\kiit\\appdata\\local\\programs\\python\\python312\\lib\\site-packages (from opentelemetry-instrumentation-fastapi>=0.41b0->chromadb) (0.50b0)\n",
            "Collecting opentelemetry-util-http==0.50b0 (from opentelemetry-instrumentation-fastapi>=0.41b0->chromadb)\n",
            "  Using cached opentelemetry_util_http-0.50b0-py3-none-any.whl.metadata (2.5 kB)\n",
            "Requirement already satisfied: wrapt<2.0.0,>=1.0.0 in c:\\users\\kiit\\appdata\\local\\programs\\python\\python312\\lib\\site-packages (from opentelemetry-instrumentation==0.50b0->opentelemetry-instrumentation-fastapi>=0.41b0->chromadb) (1.16.0)\n",
            "Collecting asgiref~=3.0 (from opentelemetry-instrumentation-asgi==0.50b0->opentelemetry-instrumentation-fastapi>=0.41b0->chromadb)\n",
            "  Using cached asgiref-3.8.1-py3-none-any.whl.metadata (9.3 kB)\n",
            "Collecting monotonic>=1.5 (from posthog>=2.4.0->chromadb)\n",
            "  Using cached monotonic-1.6-py2.py3-none-any.whl.metadata (1.5 kB)\n",
            "Requirement already satisfied: backoff>=1.10.0 in c:\\users\\kiit\\appdata\\local\\programs\\python\\python312\\lib\\site-packages (from posthog>=2.4.0->chromadb) (2.2.1)\n",
            "Requirement already satisfied: annotated-types>=0.6.0 in c:\\users\\kiit\\appdata\\local\\programs\\python\\python312\\lib\\site-packages (from pydantic>=1.9->chromadb) (0.7.0)\n",
            "Requirement already satisfied: pydantic-core==2.23.4 in c:\\users\\kiit\\appdata\\local\\programs\\python\\python312\\lib\\site-packages (from pydantic>=1.9->chromadb) (2.23.4)\n",
            "Requirement already satisfied: markdown-it-py>=2.2.0 in c:\\users\\kiit\\appdata\\local\\programs\\python\\python312\\lib\\site-packages (from rich>=10.11.0->chromadb) (3.0.0)\n",
            "Requirement already satisfied: pygments<3.0.0,>=2.13.0 in c:\\users\\kiit\\appdata\\local\\programs\\python\\python312\\lib\\site-packages (from rich>=10.11.0->chromadb) (2.18.0)\n",
            "Requirement already satisfied: huggingface-hub<1.0,>=0.16.4 in c:\\users\\kiit\\appdata\\local\\programs\\python\\python312\\lib\\site-packages (from tokenizers>=0.13.2->chromadb) (0.26.0)\n",
            "Requirement already satisfied: click>=8.0.0 in c:\\users\\kiit\\appdata\\local\\programs\\python\\python312\\lib\\site-packages (from typer>=0.9.0->chromadb) (8.1.7)\n",
            "Requirement already satisfied: shellingham>=1.3.0 in c:\\users\\kiit\\appdata\\local\\programs\\python\\python312\\lib\\site-packages (from typer>=0.9.0->chromadb) (1.5.4)\n",
            "Collecting httptools>=0.5.0 (from uvicorn[standard]>=0.18.3->chromadb)\n",
            "  Using cached httptools-0.6.4-cp312-cp312-win_amd64.whl.metadata (3.7 kB)\n",
            "Requirement already satisfied: python-dotenv>=0.13 in c:\\users\\kiit\\appdata\\local\\programs\\python\\python312\\lib\\site-packages (from uvicorn[standard]>=0.18.3->chromadb) (1.0.1)\n",
            "Collecting watchfiles>=0.13 (from uvicorn[standard]>=0.18.3->chromadb)\n",
            "  Using cached watchfiles-1.0.4-cp312-cp312-win_amd64.whl.metadata (5.0 kB)\n",
            "Requirement already satisfied: websockets>=10.4 in c:\\users\\kiit\\appdata\\local\\programs\\python\\python312\\lib\\site-packages (from uvicorn[standard]>=0.18.3->chromadb) (12.0)\n",
            "Requirement already satisfied: cachetools<6.0,>=2.0.0 in c:\\users\\kiit\\appdata\\local\\programs\\python\\python312\\lib\\site-packages (from google-auth>=1.0.1->kubernetes>=28.1.0->chromadb) (5.5.0)\n",
            "Requirement already satisfied: pyasn1-modules>=0.2.1 in c:\\users\\kiit\\appdata\\local\\programs\\python\\python312\\lib\\site-packages (from google-auth>=1.0.1->kubernetes>=28.1.0->chromadb) (0.4.1)\n",
            "Requirement already satisfied: rsa<5,>=3.1.4 in c:\\users\\kiit\\appdata\\local\\programs\\python\\python312\\lib\\site-packages (from google-auth>=1.0.1->kubernetes>=28.1.0->chromadb) (4.7.2)\n",
            "Requirement already satisfied: filelock in c:\\users\\kiit\\appdata\\local\\programs\\python\\python312\\lib\\site-packages (from huggingface-hub<1.0,>=0.16.4->tokenizers>=0.13.2->chromadb) (3.16.1)\n",
            "Requirement already satisfied: fsspec>=2023.5.0 in c:\\users\\kiit\\appdata\\local\\programs\\python\\python312\\lib\\site-packages (from huggingface-hub<1.0,>=0.16.4->tokenizers>=0.13.2->chromadb) (2024.12.0)\n",
            "Requirement already satisfied: zipp>=3.20 in c:\\users\\kiit\\appdata\\local\\programs\\python\\python312\\lib\\site-packages (from importlib-metadata<=8.5.0,>=6.0->opentelemetry-api>=1.2.0->chromadb) (3.21.0)\n",
            "Requirement already satisfied: mdurl~=0.1 in c:\\users\\kiit\\appdata\\local\\programs\\python\\python312\\lib\\site-packages (from markdown-it-py>=2.2.0->rich>=10.11.0->chromadb) (0.1.2)\n",
            "Requirement already satisfied: charset-normalizer<4,>=2 in c:\\users\\kiit\\appdata\\local\\programs\\python\\python312\\lib\\site-packages (from requests->kubernetes>=28.1.0->chromadb) (3.3.2)\n",
            "Collecting humanfriendly>=9.1 (from coloredlogs->onnxruntime>=1.14.1->chromadb)\n",
            "  Using cached humanfriendly-10.0-py2.py3-none-any.whl.metadata (9.2 kB)\n",
            "Requirement already satisfied: mpmath<1.4,>=1.1.0 in c:\\users\\kiit\\appdata\\local\\programs\\python\\python312\\lib\\site-packages (from sympy->onnxruntime>=1.14.1->chromadb) (1.3.0)\n",
            "Collecting pyreadline3 (from humanfriendly>=9.1->coloredlogs->onnxruntime>=1.14.1->chromadb)\n",
            "  Using cached pyreadline3-3.5.4-py3-none-any.whl.metadata (4.7 kB)\n",
            "Requirement already satisfied: pyasn1<0.7.0,>=0.4.6 in c:\\users\\kiit\\appdata\\local\\programs\\python\\python312\\lib\\site-packages (from pyasn1-modules>=0.2.1->google-auth>=1.0.1->kubernetes>=28.1.0->chromadb) (0.6.1)\n",
            "Using cached chromadb-0.6.3-py3-none-any.whl (611 kB)\n",
            "Using cached bcrypt-4.2.1-cp39-abi3-win_amd64.whl (153 kB)\n",
            "Using cached build-1.2.2.post1-py3-none-any.whl (22 kB)\n",
            "Using cached kubernetes-32.0.0-py2.py3-none-any.whl (2.0 MB)\n",
            "Using cached onnxruntime-1.20.1-cp312-cp312-win_amd64.whl (11.3 MB)\n",
            "Using cached opentelemetry_exporter_otlp_proto_grpc-1.29.0-py3-none-any.whl (18 kB)\n",
            "Using cached opentelemetry_exporter_otlp_proto_common-1.29.0-py3-none-any.whl (18 kB)\n",
            "Using cached opentelemetry_proto-1.29.0-py3-none-any.whl (55 kB)\n",
            "Using cached opentelemetry_instrumentation_fastapi-0.50b0-py3-none-any.whl (12 kB)\n",
            "Using cached opentelemetry_instrumentation-0.50b0-py3-none-any.whl (30 kB)\n",
            "Using cached opentelemetry_instrumentation_asgi-0.50b0-py3-none-any.whl (16 kB)\n",
            "Using cached opentelemetry_util_http-0.50b0-py3-none-any.whl (6.9 kB)\n",
            "Using cached overrides-7.7.0-py3-none-any.whl (17 kB)\n",
            "Using cached posthog-3.11.0-py2.py3-none-any.whl (72 kB)\n",
            "Using cached importlib_resources-6.5.2-py3-none-any.whl (37 kB)\n",
            "Using cached durationpy-0.9-py3-none-any.whl (3.5 kB)\n",
            "Using cached httptools-0.6.4-cp312-cp312-win_amd64.whl (88 kB)\n",
            "Using cached monotonic-1.6-py2.py3-none-any.whl (8.2 kB)\n",
            "Using cached oauthlib-3.2.2-py3-none-any.whl (151 kB)\n",
            "Using cached watchfiles-1.0.4-cp312-cp312-win_amd64.whl (285 kB)\n",
            "Using cached websocket_client-1.8.0-py3-none-any.whl (58 kB)\n",
            "Using cached coloredlogs-15.0.1-py2.py3-none-any.whl (46 kB)\n",
            "Using cached pyproject_hooks-1.2.0-py3-none-any.whl (10 kB)\n",
            "Using cached requests_oauthlib-2.0.0-py2.py3-none-any.whl (24 kB)\n",
            "Using cached asgiref-3.8.1-py3-none-any.whl (23 kB)\n",
            "Using cached humanfriendly-10.0-py2.py3-none-any.whl (86 kB)\n",
            "Using cached pyreadline3-3.5.4-py3-none-any.whl (83 kB)\n",
            "Building wheels for collected packages: chroma-hnswlib\n",
            "  Building wheel for chroma-hnswlib (pyproject.toml): started\n",
            "  Building wheel for chroma-hnswlib (pyproject.toml): finished with status 'error'\n",
            "Failed to build chroma-hnswlib\n"
          ]
        },
        {
          "name": "stderr",
          "output_type": "stream",
          "text": [
            "  error: subprocess-exited-with-error\n",
            "  \n",
            "  × Building wheel for chroma-hnswlib (pyproject.toml) did not run successfully.\n",
            "  │ exit code: 1\n",
            "  ╰─> [5 lines of output]\n",
            "      running bdist_wheel\n",
            "      running build\n",
            "      running build_ext\n",
            "      building 'hnswlib' extension\n",
            "      error: Microsoft Visual C++ 14.0 or greater is required. Get it with \"Microsoft C++ Build Tools\": https://visualstudio.microsoft.com/visual-cpp-build-tools/\n",
            "      [end of output]\n",
            "  \n",
            "  note: This error originates from a subprocess, and is likely not a problem with pip.\n",
            "  ERROR: Failed building wheel for chroma-hnswlib\n",
            "ERROR: Failed to build installable wheels for some pyproject.toml based projects (chroma-hnswlib)\n"
          ]
        }
      ],
      "source": [
        "!pip install chromadb"
      ]
    },
    {
      "cell_type": "code",
      "execution_count": null,
      "metadata": {
        "colab": {
          "base_uri": "https://localhost:8080/"
        },
        "id": "It8u_GNFNBX6",
        "outputId": "a9752587-af7a-40da-e461-56ccc6958d03"
      },
      "outputs": [
        {
          "name": "stdout",
          "output_type": "stream",
          "text": [
            "Requirement already satisfied: langchain-groq in c:\\users\\kiit\\appdata\\local\\programs\\python\\python312\\lib\\site-packages (0.2.0)\n",
            "Requirement already satisfied: groq<1,>=0.4.1 in c:\\users\\kiit\\appdata\\local\\programs\\python\\python312\\lib\\site-packages (from langchain-groq) (0.11.0)\n",
            "Requirement already satisfied: langchain-core<0.4,>=0.3 in c:\\users\\kiit\\appdata\\local\\programs\\python\\python312\\lib\\site-packages (from langchain-groq) (0.3.33)\n",
            "Requirement already satisfied: anyio<5,>=3.5.0 in c:\\users\\kiit\\appdata\\local\\programs\\python\\python312\\lib\\site-packages (from groq<1,>=0.4.1->langchain-groq) (4.6.0)\n",
            "Requirement already satisfied: distro<2,>=1.7.0 in c:\\users\\kiit\\appdata\\local\\programs\\python\\python312\\lib\\site-packages (from groq<1,>=0.4.1->langchain-groq) (1.9.0)\n",
            "Requirement already satisfied: httpx<1,>=0.23.0 in c:\\users\\kiit\\appdata\\local\\programs\\python\\python312\\lib\\site-packages (from groq<1,>=0.4.1->langchain-groq) (0.27.2)\n",
            "Requirement already satisfied: pydantic<3,>=1.9.0 in c:\\users\\kiit\\appdata\\local\\programs\\python\\python312\\lib\\site-packages (from groq<1,>=0.4.1->langchain-groq) (2.9.2)\n",
            "Requirement already satisfied: sniffio in c:\\users\\kiit\\appdata\\local\\programs\\python\\python312\\lib\\site-packages (from groq<1,>=0.4.1->langchain-groq) (1.3.1)\n",
            "Requirement already satisfied: typing-extensions<5,>=4.7 in c:\\users\\kiit\\appdata\\local\\programs\\python\\python312\\lib\\site-packages (from groq<1,>=0.4.1->langchain-groq) (4.12.2)\n",
            "Requirement already satisfied: PyYAML>=5.3 in c:\\users\\kiit\\appdata\\local\\programs\\python\\python312\\lib\\site-packages (from langchain-core<0.4,>=0.3->langchain-groq) (6.0.2)\n",
            "Requirement already satisfied: jsonpatch<2.0,>=1.33 in c:\\users\\kiit\\appdata\\local\\programs\\python\\python312\\lib\\site-packages (from langchain-core<0.4,>=0.3->langchain-groq) (1.33)\n",
            "Requirement already satisfied: langsmith<0.4,>=0.1.125 in c:\\users\\kiit\\appdata\\local\\programs\\python\\python312\\lib\\site-packages (from langchain-core<0.4,>=0.3->langchain-groq) (0.1.129)\n",
            "Requirement already satisfied: packaging<25,>=23.2 in c:\\users\\kiit\\appdata\\local\\programs\\python\\python312\\lib\\site-packages (from langchain-core<0.4,>=0.3->langchain-groq) (24.1)\n",
            "Requirement already satisfied: tenacity!=8.4.0,<10.0.0,>=8.1.0 in c:\\users\\kiit\\appdata\\local\\programs\\python\\python312\\lib\\site-packages (from langchain-core<0.4,>=0.3->langchain-groq) (8.5.0)\n",
            "Requirement already satisfied: idna>=2.8 in c:\\users\\kiit\\appdata\\local\\programs\\python\\python312\\lib\\site-packages (from anyio<5,>=3.5.0->groq<1,>=0.4.1->langchain-groq) (3.10)\n",
            "Requirement already satisfied: certifi in c:\\users\\kiit\\appdata\\local\\programs\\python\\python312\\lib\\site-packages (from httpx<1,>=0.23.0->groq<1,>=0.4.1->langchain-groq) (2024.8.30)\n",
            "Requirement already satisfied: httpcore==1.* in c:\\users\\kiit\\appdata\\local\\programs\\python\\python312\\lib\\site-packages (from httpx<1,>=0.23.0->groq<1,>=0.4.1->langchain-groq) (1.0.5)\n",
            "Requirement already satisfied: h11<0.15,>=0.13 in c:\\users\\kiit\\appdata\\local\\programs\\python\\python312\\lib\\site-packages (from httpcore==1.*->httpx<1,>=0.23.0->groq<1,>=0.4.1->langchain-groq) (0.14.0)\n",
            "Requirement already satisfied: jsonpointer>=1.9 in c:\\users\\kiit\\appdata\\local\\programs\\python\\python312\\lib\\site-packages (from jsonpatch<2.0,>=1.33->langchain-core<0.4,>=0.3->langchain-groq) (3.0.0)\n",
            "Requirement already satisfied: orjson<4.0.0,>=3.9.14 in c:\\users\\kiit\\appdata\\local\\programs\\python\\python312\\lib\\site-packages (from langsmith<0.4,>=0.1.125->langchain-core<0.4,>=0.3->langchain-groq) (3.10.7)\n",
            "Requirement already satisfied: requests<3,>=2 in c:\\users\\kiit\\appdata\\local\\programs\\python\\python312\\lib\\site-packages (from langsmith<0.4,>=0.1.125->langchain-core<0.4,>=0.3->langchain-groq) (2.32.3)\n",
            "Requirement already satisfied: annotated-types>=0.6.0 in c:\\users\\kiit\\appdata\\local\\programs\\python\\python312\\lib\\site-packages (from pydantic<3,>=1.9.0->groq<1,>=0.4.1->langchain-groq) (0.7.0)\n",
            "Requirement already satisfied: pydantic-core==2.23.4 in c:\\users\\kiit\\appdata\\local\\programs\\python\\python312\\lib\\site-packages (from pydantic<3,>=1.9.0->groq<1,>=0.4.1->langchain-groq) (2.23.4)\n",
            "Requirement already satisfied: charset-normalizer<4,>=2 in c:\\users\\kiit\\appdata\\local\\programs\\python\\python312\\lib\\site-packages (from requests<3,>=2->langsmith<0.4,>=0.1.125->langchain-core<0.4,>=0.3->langchain-groq) (3.3.2)\n",
            "Requirement already satisfied: urllib3<3,>=1.21.1 in c:\\users\\kiit\\appdata\\local\\programs\\python\\python312\\lib\\site-packages (from requests<3,>=2->langsmith<0.4,>=0.1.125->langchain-core<0.4,>=0.3->langchain-groq) (2.2.3)\n"
          ]
        }
      ],
      "source": [
        "!pip install langchain-groq"
      ]
    },
    {
      "cell_type": "code",
      "execution_count": 27,
      "metadata": {
        "id": "37vMR_9LKF-U"
      },
      "outputs": [
        {
          "ename": "ValueError",
          "evalue": "Batch size 1500 exceeds maximum batch size 166",
          "output_type": "error",
          "traceback": [
            "\u001b[1;31m---------------------------------------------------------------------------\u001b[0m",
            "\u001b[1;31mValueError\u001b[0m                                Traceback (most recent call last)",
            "Cell \u001b[1;32mIn[27], line 5\u001b[0m\n\u001b[0;32m      1\u001b[0m \u001b[38;5;28;01mfrom\u001b[39;00m \u001b[38;5;21;01mlangchain\u001b[39;00m\u001b[38;5;21;01m.\u001b[39;00m\u001b[38;5;21;01mvectorstores\u001b[39;00m \u001b[38;5;28;01mimport\u001b[39;00m Chroma\n\u001b[0;32m      3\u001b[0m persist_directory \u001b[38;5;241m=\u001b[39m \u001b[38;5;124m'\u001b[39m\u001b[38;5;124mdocs/chroma_rag/\u001b[39m\u001b[38;5;124m'\u001b[39m\n\u001b[1;32m----> 5\u001b[0m langchain_chroma \u001b[38;5;241m=\u001b[39m \u001b[43mChroma\u001b[49m\u001b[38;5;241;43m.\u001b[39;49m\u001b[43mfrom_documents\u001b[49m\u001b[43m(\u001b[49m\n\u001b[0;32m      6\u001b[0m \u001b[43m    \u001b[49m\u001b[43mdocuments\u001b[49m\u001b[38;5;241;43m=\u001b[39;49m\u001b[43mdocuments\u001b[49m\u001b[43m,\u001b[49m\n\u001b[0;32m      7\u001b[0m \u001b[43m    \u001b[49m\u001b[43mcollection_name\u001b[49m\u001b[38;5;241;43m=\u001b[39;49m\u001b[38;5;124;43m\"\u001b[39;49m\u001b[38;5;124;43mdefault_prediction\u001b[39;49m\u001b[38;5;124;43m\"\u001b[39;49m\u001b[43m,\u001b[49m\n\u001b[0;32m      8\u001b[0m \u001b[43m    \u001b[49m\u001b[43membedding\u001b[49m\u001b[38;5;241;43m=\u001b[39;49m\u001b[43mhg_embeddings\u001b[49m\u001b[43m,\u001b[49m\n\u001b[0;32m      9\u001b[0m \u001b[43m    \u001b[49m\u001b[43mpersist_directory\u001b[49m\u001b[38;5;241;43m=\u001b[39;49m\u001b[43mpersist_directory\u001b[49m\n\u001b[0;32m     10\u001b[0m \u001b[43m)\u001b[49m\n",
            "File \u001b[1;32mc:\\Users\\KIIT\\AppData\\Local\\Programs\\Python\\Python38\\lib\\site-packages\\langchain_community\\vectorstores\\chroma.py:878\u001b[0m, in \u001b[0;36mChroma.from_documents\u001b[1;34m(cls, documents, embedding, ids, collection_name, persist_directory, client_settings, client, collection_metadata, **kwargs)\u001b[0m\n\u001b[0;32m    876\u001b[0m texts \u001b[38;5;241m=\u001b[39m [doc\u001b[38;5;241m.\u001b[39mpage_content \u001b[38;5;28;01mfor\u001b[39;00m doc \u001b[38;5;129;01min\u001b[39;00m documents]\n\u001b[0;32m    877\u001b[0m metadatas \u001b[38;5;241m=\u001b[39m [doc\u001b[38;5;241m.\u001b[39mmetadata \u001b[38;5;28;01mfor\u001b[39;00m doc \u001b[38;5;129;01min\u001b[39;00m documents]\n\u001b[1;32m--> 878\u001b[0m \u001b[38;5;28;01mreturn\u001b[39;00m \u001b[38;5;28;43mcls\u001b[39;49m\u001b[38;5;241;43m.\u001b[39;49m\u001b[43mfrom_texts\u001b[49m\u001b[43m(\u001b[49m\n\u001b[0;32m    879\u001b[0m \u001b[43m    \u001b[49m\u001b[43mtexts\u001b[49m\u001b[38;5;241;43m=\u001b[39;49m\u001b[43mtexts\u001b[49m\u001b[43m,\u001b[49m\n\u001b[0;32m    880\u001b[0m \u001b[43m    \u001b[49m\u001b[43membedding\u001b[49m\u001b[38;5;241;43m=\u001b[39;49m\u001b[43membedding\u001b[49m\u001b[43m,\u001b[49m\n\u001b[0;32m    881\u001b[0m \u001b[43m    \u001b[49m\u001b[43mmetadatas\u001b[49m\u001b[38;5;241;43m=\u001b[39;49m\u001b[43mmetadatas\u001b[49m\u001b[43m,\u001b[49m\n\u001b[0;32m    882\u001b[0m \u001b[43m    \u001b[49m\u001b[43mids\u001b[49m\u001b[38;5;241;43m=\u001b[39;49m\u001b[43mids\u001b[49m\u001b[43m,\u001b[49m\n\u001b[0;32m    883\u001b[0m \u001b[43m    \u001b[49m\u001b[43mcollection_name\u001b[49m\u001b[38;5;241;43m=\u001b[39;49m\u001b[43mcollection_name\u001b[49m\u001b[43m,\u001b[49m\n\u001b[0;32m    884\u001b[0m \u001b[43m    \u001b[49m\u001b[43mpersist_directory\u001b[49m\u001b[38;5;241;43m=\u001b[39;49m\u001b[43mpersist_directory\u001b[49m\u001b[43m,\u001b[49m\n\u001b[0;32m    885\u001b[0m \u001b[43m    \u001b[49m\u001b[43mclient_settings\u001b[49m\u001b[38;5;241;43m=\u001b[39;49m\u001b[43mclient_settings\u001b[49m\u001b[43m,\u001b[49m\n\u001b[0;32m    886\u001b[0m \u001b[43m    \u001b[49m\u001b[43mclient\u001b[49m\u001b[38;5;241;43m=\u001b[39;49m\u001b[43mclient\u001b[49m\u001b[43m,\u001b[49m\n\u001b[0;32m    887\u001b[0m \u001b[43m    \u001b[49m\u001b[43mcollection_metadata\u001b[49m\u001b[38;5;241;43m=\u001b[39;49m\u001b[43mcollection_metadata\u001b[49m\u001b[43m,\u001b[49m\n\u001b[0;32m    888\u001b[0m \u001b[43m    \u001b[49m\u001b[38;5;241;43m*\u001b[39;49m\u001b[38;5;241;43m*\u001b[39;49m\u001b[43mkwargs\u001b[49m\u001b[43m,\u001b[49m\n\u001b[0;32m    889\u001b[0m \u001b[43m\u001b[49m\u001b[43m)\u001b[49m\n",
            "File \u001b[1;32mc:\\Users\\KIIT\\AppData\\Local\\Programs\\Python\\Python38\\lib\\site-packages\\langchain_community\\vectorstores\\chroma.py:842\u001b[0m, in \u001b[0;36mChroma.from_texts\u001b[1;34m(cls, texts, embedding, metadatas, ids, collection_name, persist_directory, client_settings, client, collection_metadata, **kwargs)\u001b[0m\n\u001b[0;32m    836\u001b[0m         chroma_collection\u001b[38;5;241m.\u001b[39madd_texts(\n\u001b[0;32m    837\u001b[0m             texts\u001b[38;5;241m=\u001b[39mbatch[\u001b[38;5;241m3\u001b[39m] \u001b[38;5;28;01mif\u001b[39;00m batch[\u001b[38;5;241m3\u001b[39m] \u001b[38;5;28;01melse\u001b[39;00m [],\n\u001b[0;32m    838\u001b[0m             metadatas\u001b[38;5;241m=\u001b[39mbatch[\u001b[38;5;241m2\u001b[39m] \u001b[38;5;28;01mif\u001b[39;00m batch[\u001b[38;5;241m2\u001b[39m] \u001b[38;5;28;01melse\u001b[39;00m \u001b[38;5;28;01mNone\u001b[39;00m,\n\u001b[0;32m    839\u001b[0m             ids\u001b[38;5;241m=\u001b[39mbatch[\u001b[38;5;241m0\u001b[39m],\n\u001b[0;32m    840\u001b[0m         )\n\u001b[0;32m    841\u001b[0m \u001b[38;5;28;01melse\u001b[39;00m:\n\u001b[1;32m--> 842\u001b[0m     \u001b[43mchroma_collection\u001b[49m\u001b[38;5;241;43m.\u001b[39;49m\u001b[43madd_texts\u001b[49m\u001b[43m(\u001b[49m\u001b[43mtexts\u001b[49m\u001b[38;5;241;43m=\u001b[39;49m\u001b[43mtexts\u001b[49m\u001b[43m,\u001b[49m\u001b[43m \u001b[49m\u001b[43mmetadatas\u001b[49m\u001b[38;5;241;43m=\u001b[39;49m\u001b[43mmetadatas\u001b[49m\u001b[43m,\u001b[49m\u001b[43m \u001b[49m\u001b[43mids\u001b[49m\u001b[38;5;241;43m=\u001b[39;49m\u001b[43mids\u001b[49m\u001b[43m)\u001b[49m\n\u001b[0;32m    843\u001b[0m \u001b[38;5;28;01mreturn\u001b[39;00m chroma_collection\n",
            "File \u001b[1;32mc:\\Users\\KIIT\\AppData\\Local\\Programs\\Python\\Python38\\lib\\site-packages\\langchain_community\\vectorstores\\chroma.py:320\u001b[0m, in \u001b[0;36mChroma.add_texts\u001b[1;34m(self, texts, metadatas, ids, **kwargs)\u001b[0m\n\u001b[0;32m    316\u001b[0m         embeddings_without_metadatas \u001b[38;5;241m=\u001b[39m (\n\u001b[0;32m    317\u001b[0m             [embeddings[j] \u001b[38;5;28;01mfor\u001b[39;00m j \u001b[38;5;129;01min\u001b[39;00m empty_ids] \u001b[38;5;28;01mif\u001b[39;00m embeddings \u001b[38;5;28;01melse\u001b[39;00m \u001b[38;5;28;01mNone\u001b[39;00m\n\u001b[0;32m    318\u001b[0m         )\n\u001b[0;32m    319\u001b[0m         ids_without_metadatas \u001b[38;5;241m=\u001b[39m [ids[j] \u001b[38;5;28;01mfor\u001b[39;00m j \u001b[38;5;129;01min\u001b[39;00m empty_ids]\n\u001b[1;32m--> 320\u001b[0m         \u001b[38;5;28;43mself\u001b[39;49m\u001b[38;5;241;43m.\u001b[39;49m\u001b[43m_collection\u001b[49m\u001b[38;5;241;43m.\u001b[39;49m\u001b[43mupsert\u001b[49m\u001b[43m(\u001b[49m\n\u001b[0;32m    321\u001b[0m \u001b[43m            \u001b[49m\u001b[43membeddings\u001b[49m\u001b[38;5;241;43m=\u001b[39;49m\u001b[43membeddings_without_metadatas\u001b[49m\u001b[43m,\u001b[49m\n\u001b[0;32m    322\u001b[0m \u001b[43m            \u001b[49m\u001b[43mdocuments\u001b[49m\u001b[38;5;241;43m=\u001b[39;49m\u001b[43mtexts_without_metadatas\u001b[49m\u001b[43m,\u001b[49m\n\u001b[0;32m    323\u001b[0m \u001b[43m            \u001b[49m\u001b[43mids\u001b[49m\u001b[38;5;241;43m=\u001b[39;49m\u001b[43mids_without_metadatas\u001b[49m\u001b[43m,\u001b[49m\n\u001b[0;32m    324\u001b[0m \u001b[43m        \u001b[49m\u001b[43m)\u001b[49m\n\u001b[0;32m    325\u001b[0m \u001b[38;5;28;01melse\u001b[39;00m:\n\u001b[0;32m    326\u001b[0m     \u001b[38;5;28mself\u001b[39m\u001b[38;5;241m.\u001b[39m_collection\u001b[38;5;241m.\u001b[39mupsert(\n\u001b[0;32m    327\u001b[0m         embeddings\u001b[38;5;241m=\u001b[39membeddings,\n\u001b[0;32m    328\u001b[0m         documents\u001b[38;5;241m=\u001b[39mtexts,\n\u001b[0;32m    329\u001b[0m         ids\u001b[38;5;241m=\u001b[39mids,\n\u001b[0;32m    330\u001b[0m     )\n",
            "File \u001b[1;32mc:\\Users\\KIIT\\AppData\\Local\\Programs\\Python\\Python38\\lib\\site-packages\\chromadb\\api\\models\\Collection.py:302\u001b[0m, in \u001b[0;36mCollection.upsert\u001b[1;34m(self, ids, embeddings, metadatas, documents, images, uris)\u001b[0m\n\u001b[0;32m    281\u001b[0m \u001b[38;5;250m\u001b[39m\u001b[38;5;124;03m\"\"\"Update the embeddings, metadatas or documents for provided ids, or create them if they don't exist.\u001b[39;00m\n\u001b[0;32m    282\u001b[0m \n\u001b[0;32m    283\u001b[0m \u001b[38;5;124;03mArgs:\u001b[39;00m\n\u001b[1;32m   (...)\u001b[0m\n\u001b[0;32m    290\u001b[0m \u001b[38;5;124;03m    None\u001b[39;00m\n\u001b[0;32m    291\u001b[0m \u001b[38;5;124;03m\"\"\"\u001b[39;00m\n\u001b[0;32m    292\u001b[0m (\n\u001b[0;32m    293\u001b[0m     ids,\n\u001b[0;32m    294\u001b[0m     embeddings,\n\u001b[1;32m   (...)\u001b[0m\n\u001b[0;32m    299\u001b[0m     ids, embeddings, metadatas, documents, images, uris\n\u001b[0;32m    300\u001b[0m )\n\u001b[1;32m--> 302\u001b[0m \u001b[38;5;28;43mself\u001b[39;49m\u001b[38;5;241;43m.\u001b[39;49m\u001b[43m_client\u001b[49m\u001b[38;5;241;43m.\u001b[39;49m\u001b[43m_upsert\u001b[49m\u001b[43m(\u001b[49m\n\u001b[0;32m    303\u001b[0m \u001b[43m    \u001b[49m\u001b[43mcollection_id\u001b[49m\u001b[38;5;241;43m=\u001b[39;49m\u001b[38;5;28;43mself\u001b[39;49m\u001b[38;5;241;43m.\u001b[39;49m\u001b[43mid\u001b[49m\u001b[43m,\u001b[49m\n\u001b[0;32m    304\u001b[0m \u001b[43m    \u001b[49m\u001b[43mids\u001b[49m\u001b[38;5;241;43m=\u001b[39;49m\u001b[43mids\u001b[49m\u001b[43m,\u001b[49m\n\u001b[0;32m    305\u001b[0m \u001b[43m    \u001b[49m\u001b[43membeddings\u001b[49m\u001b[38;5;241;43m=\u001b[39;49m\u001b[43membeddings\u001b[49m\u001b[43m,\u001b[49m\n\u001b[0;32m    306\u001b[0m \u001b[43m    \u001b[49m\u001b[43mmetadatas\u001b[49m\u001b[38;5;241;43m=\u001b[39;49m\u001b[43mmetadatas\u001b[49m\u001b[43m,\u001b[49m\n\u001b[0;32m    307\u001b[0m \u001b[43m    \u001b[49m\u001b[43mdocuments\u001b[49m\u001b[38;5;241;43m=\u001b[39;49m\u001b[43mdocuments\u001b[49m\u001b[43m,\u001b[49m\n\u001b[0;32m    308\u001b[0m \u001b[43m    \u001b[49m\u001b[43muris\u001b[49m\u001b[38;5;241;43m=\u001b[39;49m\u001b[43muris\u001b[49m\u001b[43m,\u001b[49m\n\u001b[0;32m    309\u001b[0m \u001b[43m\u001b[49m\u001b[43m)\u001b[49m\n",
            "File \u001b[1;32mc:\\Users\\KIIT\\AppData\\Local\\Programs\\Python\\Python38\\lib\\site-packages\\chromadb\\telemetry\\opentelemetry\\__init__.py:146\u001b[0m, in \u001b[0;36mtrace_method.<locals>.decorator.<locals>.wrapper\u001b[1;34m(*args, **kwargs)\u001b[0m\n\u001b[0;32m    144\u001b[0m \u001b[38;5;28;01mglobal\u001b[39;00m tracer, granularity\n\u001b[0;32m    145\u001b[0m \u001b[38;5;28;01mif\u001b[39;00m trace_granularity \u001b[38;5;241m<\u001b[39m granularity:\n\u001b[1;32m--> 146\u001b[0m     \u001b[38;5;28;01mreturn\u001b[39;00m \u001b[43mf\u001b[49m\u001b[43m(\u001b[49m\u001b[38;5;241;43m*\u001b[39;49m\u001b[43margs\u001b[49m\u001b[43m,\u001b[49m\u001b[43m \u001b[49m\u001b[38;5;241;43m*\u001b[39;49m\u001b[38;5;241;43m*\u001b[39;49m\u001b[43mkwargs\u001b[49m\u001b[43m)\u001b[49m\n\u001b[0;32m    147\u001b[0m \u001b[38;5;28;01mif\u001b[39;00m \u001b[38;5;129;01mnot\u001b[39;00m tracer:\n\u001b[0;32m    148\u001b[0m     \u001b[38;5;28;01mreturn\u001b[39;00m f(\u001b[38;5;241m*\u001b[39margs, \u001b[38;5;241m*\u001b[39m\u001b[38;5;241m*\u001b[39mkwargs)\n",
            "File \u001b[1;32mc:\\Users\\KIIT\\AppData\\Local\\Programs\\Python\\Python38\\lib\\site-packages\\chromadb\\api\\segment.py:430\u001b[0m, in \u001b[0;36mSegmentAPI._upsert\u001b[1;34m(self, collection_id, ids, embeddings, metadatas, documents, uris)\u001b[0m\n\u001b[0;32m    428\u001b[0m coll \u001b[38;5;241m=\u001b[39m \u001b[38;5;28mself\u001b[39m\u001b[38;5;241m.\u001b[39m_get_collection(collection_id)\n\u001b[0;32m    429\u001b[0m \u001b[38;5;28mself\u001b[39m\u001b[38;5;241m.\u001b[39m_manager\u001b[38;5;241m.\u001b[39mhint_use_collection(collection_id, t\u001b[38;5;241m.\u001b[39mOperation\u001b[38;5;241m.\u001b[39mUPSERT)\n\u001b[1;32m--> 430\u001b[0m \u001b[43mvalidate_batch\u001b[49m\u001b[43m(\u001b[49m\n\u001b[0;32m    431\u001b[0m \u001b[43m    \u001b[49m\u001b[43m(\u001b[49m\u001b[43mids\u001b[49m\u001b[43m,\u001b[49m\u001b[43m \u001b[49m\u001b[43membeddings\u001b[49m\u001b[43m,\u001b[49m\u001b[43m \u001b[49m\u001b[43mmetadatas\u001b[49m\u001b[43m,\u001b[49m\u001b[43m \u001b[49m\u001b[43mdocuments\u001b[49m\u001b[43m,\u001b[49m\u001b[43m \u001b[49m\u001b[43muris\u001b[49m\u001b[43m)\u001b[49m\u001b[43m,\u001b[49m\n\u001b[0;32m    432\u001b[0m \u001b[43m    \u001b[49m\u001b[43m{\u001b[49m\u001b[38;5;124;43m\"\u001b[39;49m\u001b[38;5;124;43mmax_batch_size\u001b[39;49m\u001b[38;5;124;43m\"\u001b[39;49m\u001b[43m:\u001b[49m\u001b[43m \u001b[49m\u001b[38;5;28;43mself\u001b[39;49m\u001b[38;5;241;43m.\u001b[39;49m\u001b[43mget_max_batch_size\u001b[49m\u001b[43m(\u001b[49m\u001b[43m)\u001b[49m\u001b[43m}\u001b[49m\u001b[43m,\u001b[49m\n\u001b[0;32m    433\u001b[0m \u001b[43m\u001b[49m\u001b[43m)\u001b[49m\n\u001b[0;32m    434\u001b[0m records_to_submit \u001b[38;5;241m=\u001b[39m \u001b[38;5;28mlist\u001b[39m(\n\u001b[0;32m    435\u001b[0m     _records(\n\u001b[0;32m    436\u001b[0m         t\u001b[38;5;241m.\u001b[39mOperation\u001b[38;5;241m.\u001b[39mUPSERT,\n\u001b[1;32m   (...)\u001b[0m\n\u001b[0;32m    442\u001b[0m     )\n\u001b[0;32m    443\u001b[0m )\n\u001b[0;32m    444\u001b[0m \u001b[38;5;28mself\u001b[39m\u001b[38;5;241m.\u001b[39m_validate_embedding_record_set(coll, records_to_submit)\n",
            "File \u001b[1;32mc:\\Users\\KIIT\\AppData\\Local\\Programs\\Python\\Python38\\lib\\site-packages\\chromadb\\api\\types.py:571\u001b[0m, in \u001b[0;36mvalidate_batch\u001b[1;34m(batch, limits)\u001b[0m\n\u001b[0;32m    560\u001b[0m \u001b[38;5;28;01mdef\u001b[39;00m \u001b[38;5;21mvalidate_batch\u001b[39m(\n\u001b[0;32m    561\u001b[0m     batch: Tuple[\n\u001b[0;32m    562\u001b[0m         IDs,\n\u001b[1;32m   (...)\u001b[0m\n\u001b[0;32m    568\u001b[0m     limits: Dict[\u001b[38;5;28mstr\u001b[39m, Any],\n\u001b[0;32m    569\u001b[0m ) \u001b[38;5;241m-\u001b[39m\u001b[38;5;241m>\u001b[39m \u001b[38;5;28;01mNone\u001b[39;00m:\n\u001b[0;32m    570\u001b[0m     \u001b[38;5;28;01mif\u001b[39;00m \u001b[38;5;28mlen\u001b[39m(batch[\u001b[38;5;241m0\u001b[39m]) \u001b[38;5;241m>\u001b[39m limits[\u001b[38;5;124m\"\u001b[39m\u001b[38;5;124mmax_batch_size\u001b[39m\u001b[38;5;124m\"\u001b[39m]:\n\u001b[1;32m--> 571\u001b[0m         \u001b[38;5;28;01mraise\u001b[39;00m \u001b[38;5;167;01mValueError\u001b[39;00m(\n\u001b[0;32m    572\u001b[0m             \u001b[38;5;124mf\u001b[39m\u001b[38;5;124m\"\u001b[39m\u001b[38;5;124mBatch size \u001b[39m\u001b[38;5;132;01m{\u001b[39;00m\u001b[38;5;28mlen\u001b[39m(batch[\u001b[38;5;241m0\u001b[39m])\u001b[38;5;132;01m}\u001b[39;00m\u001b[38;5;124m exceeds maximum batch size \u001b[39m\u001b[38;5;132;01m{\u001b[39;00mlimits[\u001b[38;5;124m'\u001b[39m\u001b[38;5;124mmax_batch_size\u001b[39m\u001b[38;5;124m'\u001b[39m]\u001b[38;5;132;01m}\u001b[39;00m\u001b[38;5;124m\"\u001b[39m\n\u001b[0;32m    573\u001b[0m         )\n",
            "\u001b[1;31mValueError\u001b[0m: Batch size 1500 exceeds maximum batch size 166"
          ]
        }
      ],
      "source": [
        "from langchain.vectorstores import Chroma\n",
        "\n",
        "persist_directory = 'docs/chroma_rag/'\n",
        "\n",
        "langchain_chroma = Chroma.from_documents(\n",
        "    documents=documents,\n",
        "    collection_name=\"default_prediction\",\n",
        "    embedding=hg_embeddings,\n",
        "    persist_directory=persist_directory\n",
        ")"
      ]
    },
    {
      "cell_type": "code",
      "execution_count": 51,
      "metadata": {
        "id": "INE24T38KNC6"
      },
      "outputs": [],
      "source": [
        "from google.colab import userdata\n",
        "# LLM with function call\n",
        "from langchain_groq import ChatGroq\n",
        "import os\n",
        "groq_api_key=userdata.get('groq_api_key')\n",
        "os.environ[\"GROQ_API_KEY\"]=groq_api_key"
      ]
    },
    {
      "cell_type": "code",
      "execution_count": 52,
      "metadata": {
        "colab": {
          "base_uri": "https://localhost:8080/"
        },
        "id": "5PscsiwxNcJj",
        "outputId": "084531c2-0a80-4e62-af3c-17a4a875dd7b"
      },
      "outputs": [
        {
          "data": {
            "text/plain": [
              "ChatGroq(client=<groq.resources.chat.completions.Completions object at 0x7dbf5a5f5ad0>, async_client=<groq.resources.chat.completions.AsyncCompletions object at 0x7dbf5a5f1490>, model_name='deepseek-r1-distill-llama-70b', model_kwargs={}, groq_api_key=SecretStr('**********'))"
            ]
          },
          "execution_count": 52,
          "metadata": {},
          "output_type": "execute_result"
        }
      ],
      "source": [
        "llm=ChatGroq(groq_api_key=groq_api_key,model_name='deepseek-r1-distill-llama-70b')\n",
        "llm"
      ]
    },
    {
      "cell_type": "code",
      "execution_count": 54,
      "metadata": {
        "colab": {
          "base_uri": "https://localhost:8080/",
          "height": 1000
        },
        "id": "vbJfX4WyKsSc",
        "outputId": "5fb64b6c-8326-44cd-ed5b-d871bd996289"
      },
      "outputs": [
        {
          "data": {
            "text/markdown": [
              "\n",
              "\n",
              "**Question:** Please explain Default in Credit Risk?\n",
              "\n",
              "\n",
              "**Answer:** <think>\n",
              "Okay, so I need to understand what \"Default\" means in the context of credit risk. I remember hearing the term before, but I'm not entirely sure about the specifics. Let me try to break it down.\n",
              "\n",
              "First, I think default has something to do with when someone or a company can't pay back a loan. That makes sense because credit risk is about the chance that someone won't pay back what they owe. So, if a borrower defaults, they fail to meet their payment obligations. But I'm not sure about the exact definition or the different types of defaults.\n",
              "\n",
              "I remember reading somewhere about sovereign default, which I think is when a country can't pay its debts. That must be a big deal because countries borrowing money is a significant event. Then there's corporate default, which is when companies can't pay back their bonds or loans. I guess that's why companies sometimes go bankrupt.\n",
              "\n",
              "I also recall something about strategic default, which I think is when individuals, like homeowners, decide not to pay their mortgages even though they can afford to. That seems a bit different because it's more of a choice rather than an inability to pay.\n",
              "\n",
              "There are different types of defaults, like technical default, where maybe the borrower misses a payment but can still pay later. Or maybe it's when they violate some terms of the loan agreement without necessarily missing a payment. I'm not too clear on that.\n",
              "\n",
              "I'm also trying to remember how default rates work. I think it's the percentage of borrowers who default within a certain period. So, if a lender has a 2% default rate, that means 2 out of every 100 borrowers didn't pay back their loans. That must be important for lenders to assess risk and set interest rates.\n",
              "\n",
              "Consequences of default seem severe. For the borrower, it probably hurts their credit score and makes it harder to get loans in the future. For lenders, it means they lose money, which could affect their business. Investors who buy bonds or other debt instruments also face losses if there's a default.\n",
              "\n",
              "I'm a bit fuzzy on the difference between default and other terms like delinquency. I think delinquency is when a payment is late, but not necessarily a full default. So, delinquency might be a precursor to default if the borrower doesn't catch up on payments.\n",
              "\n",
              "I'm also trying to piece together how credit risk is managed. I know that lenders use credit scores and other assessments to determine the likelihood of default. They might also require collateral or charge higher interest rates to borrowers who are more likely to default.\n",
              "\n",
              "Wait, so if a borrower defaults, what happens next? I think there are processes like foreclosure for mortgages or repossession for loans like cars. For businesses, it might lead to bankruptcy, where assets are sold off to pay creditors.\n",
              "\n",
              "I'm also wondering about the impact on the economy. If many defaults happen at once, like during a financial crisis, it could cause widespread problems for banks and other financial institutions, leading to a credit crunch. That sounds like what happened in 2008 with the housing market.\n",
              "\n",
              "I should also consider how investors handle default risk. They might diversify their portfolios to minimize the impact of any single default. Credit rating agencies play a role here too by assigning ratings that reflect the likelihood of default, helping investors make informed decisions.\n",
              "\n",
              "But I'm still a bit confused about the exact mechanisms. For example, how is a default formally declared? Is it as soon as a payment is missed, or is there a grace period? I think it varies depending on the loan terms. Some agreements might allow a few late payments before considering it a default.\n",
              "\n",
              "Also, what about the difference between hard default and soft default? I think a hard default is when the borrower can't pay, while a soft default might be due to other reasons, like strategic default. Or maybe it's when the borrower is in a difficult financial situation but hasn't yet missed a payment.\n",
              "\n",
              "I'm trying to remember if there are legal implications. Defaulting on a loan is a breach of contract, so lenders can take legal action to recover their money. This might involve suing the borrower or seizing assets. For businesses, it can lead to legal proceedings like Chapter 11 bankruptcy in the US, which is about restructuring debt rather than liquidating assets.\n",
              "\n",
              "I'm also thinking about how default affects the lender's balance sheet. If a loan defaults, the lender has to write it off as a loss, which can affect their capital and ability to lend in the future. That's why lenders have to maintain reserves to cover potential defaults.\n",
              "\n",
              "Another aspect is credit risk models. I know that models like Moody's or Standard & Poor's use various factors to predict the probability of default. These models help in pricing loans and bonds accurately, reflecting the risk involved.\n",
              "\n",
              "I'm trying to recall if there are different stages before a default occurs. Maybe first, the borrower misses a payment, then goes into delinquency, and if they can't resolve it, it leads to default. Each stage might have different implications and procedures.\n",
              "\n",
              "I also wonder about the role of collateral in reducing default risk. If a loan is secured by collateral, the lender can seize it if the borrower defaults, minimizing losses. That's why mortgage loans are considered less risky than unsecured loans like credit cards.\n",
              "\n",
              "But even with collateral, the process can be lengthy and costly. Foreclosing on a house, for example, takes time and legal fees, which are additional costs for the lender beyond just the loan amount.\n",
              "\n",
              "I'm also thinking about how interest rates are set. Lenders charge higher interest to borrowers with a higher probability of default to compensate for the increased risk. This is why credit card rates are so high compared to mortgages, as they're unsecured and have higher default rates.\n",
              "\n",
              "In summary, default in credit risk is when a borrower fails to meet their payment obligations. It can happen at various levels—sovereign, corporate, or individual. There are different types like strategic default and technical default. The consequences are severe for both borrowers and lenders, affecting credit scores, financial stability, and economic conditions. Managing credit risk involves assessing the likelihood of default through credit scores, collateral, and setting appropriate interest rates. Legal and financial mechanisms are in place to handle defaults, but they can be complex and costly.\n",
              "</think>\n",
              "\n",
              "Default in credit risk refers to the failure of a borrower to meet their payment obligations, which can occur at various levels, including sovereign, corporate, or individual. Here's a structured overview:\n",
              "\n",
              "### Types of Default:\n",
              "1. **Sovereign Default**: Occurs when a country fails to meet its debt obligations.\n",
              "2. **Corporate Default**: Happens when a company defaults on bonds or loans, potentially leading to bankruptcy.\n",
              "3. **Strategic Default**: When an individual chooses not to pay despite having the means, often seen in mortgages.\n",
              "4. **Technical Default**: Involves violating loan terms without missing payments, such as covenant breaches.\n",
              "\n",
              "### Mechanisms and Implications:\n",
              "- **Default Rate**: The percentage of borrowers defaulting within a specific period, crucial for lenders to assess risk.\n",
              "- **Consequences**:\n",
              "  - **For Borrowers**: Damaged credit scores, reduced access to future credit.\n",
              "  - **For Lenders**: Financial loss, potentially affecting their lending capacity.\n",
              "  - **For Investors**: Losses on investments like bonds.\n",
              "\n",
              "### Processes and Management:\n",
              "- **Delinquency vs. Default**: Delinquency is late payment, while default is failure to pay after a grace period.\n",
              "- **Legal and Recovery Processes**: Includes foreclosure, repossession, or legal action to recover losses.\n",
              "- **Credit Risk Management**: Lenders use credit scores, collateral, and interest rates to mitigate risk.\n",
              "\n",
              "### Economic Impact:\n",
              "- **Systemic Risk**: Widespread defaults can trigger financial crises, affecting entire economies.\n",
              "- **Investor Strategies**: Diversification and reliance on credit ratings to manage risk exposure.\n",
              "\n",
              "### Financial and Legal Aspects:\n",
              "- **Collateral**: Reduces risk but involves costs like foreclosure processes.\n",
              "- **Interest Rates**: Higher rates for riskier borrowers to compensate for potential defaults.\n",
              "\n",
              "In essence, default is a critical aspect of credit risk management, influencing financial stability and economic health through various mechanisms and consequences."
            ],
            "text/plain": [
              "<IPython.core.display.Markdown object>"
            ]
          },
          "metadata": {},
          "output_type": "display_data"
        }
      ],
      "source": [
        "from IPython.display import display, Markdown\n",
        "from langchain.schema import HumanMessage\n",
        "\n",
        "def colorize_text(text):\n",
        "    for word, color in zip([\"Reasoning\", \"Question\", \"Answer\", \"Total time\"], [\"blue\", \"red\", \"green\", \"magenta\"]):\n",
        "        text = text.replace(f\"{word}:\", f\"\\n\\n**{word}:**\")\n",
        "    return text\n",
        "\n",
        "\n",
        "question = \"Please explain Default in Credit Risk?\"\n",
        "# Wrap the question in a HumanMessage object and put it in a list\n",
        "response = llm([HumanMessage(content=question)])\n",
        "\n",
        "full_response =  f\"Question: {question}\\nAnswer: {response.content}\" # Access the content of the AIMessage\n",
        "display(Markdown(colorize_text(full_response)))"
      ]
    },
    {
      "cell_type": "code",
      "execution_count": 55,
      "metadata": {
        "colab": {
          "base_uri": "https://localhost:8080/",
          "height": 867
        },
        "id": "ifbwnhWONd4I",
        "outputId": "f6c87d2c-e5b0-4c5d-8bce-9ccf2cd98665"
      },
      "outputs": [
        {
          "data": {
            "text/plain": [
              "{'query': \"\\n    Predict the default probability for the following loan applicant:\\n\\n    - Age: 56\\n    - Income: 85994\\n    - Loan Amount: 50587\\n    - Credit Score: 520\\n    - Months Employed: 80\\n    - Number of Credit Lines: 4\\n    - Interest Rate: 15.23\\n    - Loan Term: 36\\n    - Debt-to-Income Ratio: 0.44\\n    - Education: Bachelor's\\n    - Employment Type: Full-time\\n    - Marital Status: Divorced\\n    - Has Mortgage: Yes\\n    - Has Dependents: Yes\\n    - Loan Purpose: Other\\n    - Has Co-Signer: Yes\\n    \",\n",
              " 'result': \"<think>\\nOkay, so I need to predict whether this loan applicant is going to default based on the given information. Let's break down each piece of data and see how it contributes to the overall risk.\\n\\nFirst, the age is 56. I'm not sure how much age impacts default risk, but older individuals might have more financial stability, but they could also be closer to retirement, which might affect their ability to repay if something goes wrong.\\n\\nThe income is $85,994, which seems pretty good. Higher income usually means a better ability to repay loans. However, I should consider other factors like debt-to-income ratio to get a clearer picture.\\n\\nThe loan amount is $50,587. This seems manageable, but I need to look at the loan term and interest rate. The term is 36 months, which is three years. The interest rate is 15.23%, which is on the higher side. Higher interest rates can increase the monthly payments, which might strain the borrower's finances.\\n\\nThe credit score is 520, which is quite low. Credit scores are a significant indicator of creditworthiness. A score below 600 is generally considered poor, so this might indicate a higher risk. People with lower credit scores are more likely to default because they have a history of poor credit behavior.\\n\\nMonths employed is 80, which is about 6.6 years. Longer employment history usually suggests stability, which is a positive factor. It indicates that the person has a reliable income source, which is good for repaying the loan.\\n\\nNumber of credit lines is 4. Having multiple credit lines can be a double-edged sword. On one hand, it shows that the person has access to credit, but on the other hand, it might indicate that they are relying too much on credit, which could lead to higher debt levels.\\n\\nThe debt-to-income ratio is 0.44, which is 44%. This means that 44% of their income goes towards debt payments. While this isn't extremely high, it's on the higher side. Lenders usually prefer a lower DTI ratio because it means the borrower has more disposable income to handle unexpected expenses or repay the loan.\\n\\nEducation is a Bachelor's degree. Higher education can sometimes correlate with better financial management, but it's not a direct indicator of creditworthiness.\\n\\nEmployment type is full-time, which is positive. It suggests a steady income, which is important for repaying the loan.\\n\\nMarital status is divorced. I'm not sure how this impacts default risk, but being divorced might affect financial responsibilities, especially if there are dependents.\\n\\nHas mortgage: Yes. Having a mortgage indicates that the applicant already has a significant debt obligation. This, combined with the loan they're applying for, could increase their overall debt burden.\\n\\nHas dependents: Yes. More dependents might mean more financial responsibilities, which could strain the applicant's ability to repay the loan if income doesn't increase proportionally.\\n\\nLoan purpose is 'Other.' I'm not sure what that entails, but different purposes can have different risks. For example, a loan for a car might be less risky than a loan for a business venture.\\n\\nHas co-signer: Yes. A co-signer can reduce the risk because if the primary applicant fails to repay, the co-signer is liable. This might lower the default probability.\\n\\nPutting it all together: The applicant has a decent income and stable employment, which are positives. However, the low credit score is a significant red flag. A credit score of 520 suggests a history of late payments, defaults, or other negative credit behaviors. The high interest rate on the loan could make the monthly payments larger, and with a DTI of 44%, the applicant might be overextending themselves. The presence of a co-signer helps, but the poor credit history and high debt burden are concerning.\\n\\nI think the default probability is moderate to high. The low credit score and high DTI are significant risk factors that outweigh the positives like income and employment stability. The high interest rate doesn't help either, as it increases the cost of the loan. So, I would predict that this applicant has a higher chance of defaulting compared to someone with a better credit profile.\\n</think>\\n\\nThe loan applicant has a higher probability of default due to a low credit score of 520, indicating past credit issues, and a debt-to-income ratio of 44%, which suggests significant financial obligations. Despite a stable income and employment, these factors, combined with a high interest rate, contribute to a moderate to high default risk.\\n\\n**Answer: The customer has a moderate to high probability of default.**\"}"
            ]
          },
          "metadata": {},
          "output_type": "display_data"
        }
      ],
      "source": [
        "from langchain.chains import RetrievalQA\n",
        "from langchain.prompts import PromptTemplate\n",
        "from langchain_community.llms import HuggingFaceHub\n",
        "from IPython.display import display, Markdown\n",
        "import os\n",
        "import warnings\n",
        "warnings.filterwarnings('ignore')\n",
        "\n",
        "\n",
        "# Define the prompt template\n",
        "template = \"\"\"\n",
        "You are an Credit Risk Expert in Financial Text Data, Analyse them and Predict is the Given Customer is going to Default or not?. If you don't know the answer, just say \"Sorry, I Don't Know.\"\n",
        "Question: {question}\n",
        "Context: {context}\n",
        "Answer:\n",
        "\"\"\"\n",
        "PROMPT = PromptTemplate(input_variables=[\"context\", \"query\"], template=template)\n",
        "\n",
        "# Ensure llm and langchain_chroma are properly initialized\n",
        "retriever = langchain_chroma.as_retriever(search_kwargs={\"k\": 1})\n",
        "\n",
        "qa_chain = RetrievalQA.from_chain_type(\n",
        "    llm, retriever=retriever, chain_type_kwargs={\"prompt\": PROMPT}\n",
        ")\n",
        "\n",
        "# Define your question\n",
        "# question = \"The company reported inflated revenues by including sales that never occurred.\"\n",
        "question = \"\\n    Predict the default probability for the following loan applicant:\\n\\n    - Age: 56\\n    - Income: 85994\\n    - Loan Amount: 50587\\n    - Credit Score: 520\\n    - Months Employed: 80\\n    - Number of Credit Lines: 4\\n    - Interest Rate: 15.23\\n    - Loan Term: 36\\n    - Debt-to-Income Ratio: 0.44\\n    - Education: Bachelor's\\n    - Employment Type: Full-time\\n    - Marital Status: Divorced\\n    - Has Mortgage: Yes\\n    - Has Dependents: Yes\\n    - Loan Purpose: Other\\n    - Has Co-Signer: Yes\\n    \"\n",
        "# question = \"Revenue was recognized prematurely before the actual sales occurred.\"\n",
        "# question = \"The balance sheet provides a true and fair view of the company’s financial position.\"\n",
        "\n",
        "# Run the QA chain\n",
        "try:\n",
        "    result = qa_chain({\"query\": question})\n",
        "    display(result)\n",
        "except RuntimeError as e:\n",
        "    print(f\"RuntimeError encountered: {e}\")"
      ]
    },
    {
      "cell_type": "code",
      "execution_count": null,
      "metadata": {
        "id": "8RKpB64HNzrh"
      },
      "outputs": [],
      "source": []
    }
  ],
  "metadata": {
    "colab": {
      "provenance": []
    },
    "kernelspec": {
      "display_name": "py38",
      "language": "python",
      "name": "py38"
    },
    "language_info": {
      "codemirror_mode": {
        "name": "ipython",
        "version": 3
      },
      "file_extension": ".py",
      "mimetype": "text/x-python",
      "name": "python",
      "nbconvert_exporter": "python",
      "pygments_lexer": "ipython3",
      "version": "3.8.10"
    }
  },
  "nbformat": 4,
  "nbformat_minor": 0
}
