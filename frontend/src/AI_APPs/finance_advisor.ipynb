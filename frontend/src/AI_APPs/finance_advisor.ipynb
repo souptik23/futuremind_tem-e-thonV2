{
  "cells": [
    {
      "cell_type": "code",
      "source": [
        "!pip install langchain langchain_community langchain-text-splitter langchain-chroma"
      ],
      "metadata": {
        "colab": {
          "base_uri": "https://localhost:8080/"
        },
        "id": "yxFXsHhyU2sg",
        "outputId": "160792c4-f820-4d0f-e2e8-eb8a065f23c5"
      },
      "execution_count": 1,
      "outputs": [
        {
          "output_type": "stream",
          "name": "stdout",
          "text": [
            "Requirement already satisfied: langchain in /usr/local/lib/python3.11/dist-packages (0.3.17)\n",
            "Collecting langchain_community\n",
            "  Downloading langchain_community-0.3.17-py3-none-any.whl.metadata (2.4 kB)\n",
            "\u001b[31mERROR: Could not find a version that satisfies the requirement langchain-text-splitter (from versions: none)\u001b[0m\u001b[31m\n",
            "\u001b[0m\u001b[31mERROR: No matching distribution found for langchain-text-splitter\u001b[0m\u001b[31m\n",
            "\u001b[0m"
          ]
        }
      ]
    },
    {
      "cell_type": "code",
      "source": [
        "!pip install langchain-groq  # Install the langchain_groq package"
      ],
      "metadata": {
        "colab": {
          "base_uri": "https://localhost:8080/"
        },
        "id": "IE8QtIFeVxEf",
        "outputId": "e4b70f73-a5f9-431e-9df4-a7551f70b4b5"
      },
      "execution_count": 2,
      "outputs": [
        {
          "output_type": "stream",
          "name": "stdout",
          "text": [
            "Collecting langchain-groq\n",
            "  Downloading langchain_groq-0.2.4-py3-none-any.whl.metadata (3.0 kB)\n",
            "Collecting groq<1,>=0.4.1 (from langchain-groq)\n",
            "  Downloading groq-0.18.0-py3-none-any.whl.metadata (14 kB)\n",
            "Requirement already satisfied: langchain-core<0.4.0,>=0.3.33 in /usr/local/lib/python3.11/dist-packages (from langchain-groq) (0.3.33)\n",
            "Requirement already satisfied: anyio<5,>=3.5.0 in /usr/local/lib/python3.11/dist-packages (from groq<1,>=0.4.1->langchain-groq) (3.7.1)\n",
            "Requirement already satisfied: distro<2,>=1.7.0 in /usr/local/lib/python3.11/dist-packages (from groq<1,>=0.4.1->langchain-groq) (1.9.0)\n",
            "Requirement already satisfied: httpx<1,>=0.23.0 in /usr/local/lib/python3.11/dist-packages (from groq<1,>=0.4.1->langchain-groq) (0.28.1)\n",
            "Requirement already satisfied: pydantic<3,>=1.9.0 in /usr/local/lib/python3.11/dist-packages (from groq<1,>=0.4.1->langchain-groq) (2.10.6)\n",
            "Requirement already satisfied: sniffio in /usr/local/lib/python3.11/dist-packages (from groq<1,>=0.4.1->langchain-groq) (1.3.1)\n",
            "Requirement already satisfied: typing-extensions<5,>=4.10 in /usr/local/lib/python3.11/dist-packages (from groq<1,>=0.4.1->langchain-groq) (4.12.2)\n",
            "Requirement already satisfied: PyYAML>=5.3 in /usr/local/lib/python3.11/dist-packages (from langchain-core<0.4.0,>=0.3.33->langchain-groq) (6.0.2)\n",
            "Requirement already satisfied: jsonpatch<2.0,>=1.33 in /usr/local/lib/python3.11/dist-packages (from langchain-core<0.4.0,>=0.3.33->langchain-groq) (1.33)\n",
            "Requirement already satisfied: langsmith<0.4,>=0.1.125 in /usr/local/lib/python3.11/dist-packages (from langchain-core<0.4.0,>=0.3.33->langchain-groq) (0.3.5)\n",
            "Requirement already satisfied: packaging<25,>=23.2 in /usr/local/lib/python3.11/dist-packages (from langchain-core<0.4.0,>=0.3.33->langchain-groq) (24.2)\n",
            "Requirement already satisfied: tenacity!=8.4.0,<10.0.0,>=8.1.0 in /usr/local/lib/python3.11/dist-packages (from langchain-core<0.4.0,>=0.3.33->langchain-groq) (9.0.0)\n",
            "Requirement already satisfied: idna>=2.8 in /usr/local/lib/python3.11/dist-packages (from anyio<5,>=3.5.0->groq<1,>=0.4.1->langchain-groq) (3.10)\n",
            "Requirement already satisfied: certifi in /usr/local/lib/python3.11/dist-packages (from httpx<1,>=0.23.0->groq<1,>=0.4.1->langchain-groq) (2025.1.31)\n",
            "Requirement already satisfied: httpcore==1.* in /usr/local/lib/python3.11/dist-packages (from httpx<1,>=0.23.0->groq<1,>=0.4.1->langchain-groq) (1.0.7)\n",
            "Requirement already satisfied: h11<0.15,>=0.13 in /usr/local/lib/python3.11/dist-packages (from httpcore==1.*->httpx<1,>=0.23.0->groq<1,>=0.4.1->langchain-groq) (0.14.0)\n",
            "Requirement already satisfied: jsonpointer>=1.9 in /usr/local/lib/python3.11/dist-packages (from jsonpatch<2.0,>=1.33->langchain-core<0.4.0,>=0.3.33->langchain-groq) (3.0.0)\n",
            "Requirement already satisfied: orjson<4.0.0,>=3.9.14 in /usr/local/lib/python3.11/dist-packages (from langsmith<0.4,>=0.1.125->langchain-core<0.4.0,>=0.3.33->langchain-groq) (3.10.15)\n",
            "Requirement already satisfied: requests<3,>=2 in /usr/local/lib/python3.11/dist-packages (from langsmith<0.4,>=0.1.125->langchain-core<0.4.0,>=0.3.33->langchain-groq) (2.32.3)\n",
            "Requirement already satisfied: requests-toolbelt<2.0.0,>=1.0.0 in /usr/local/lib/python3.11/dist-packages (from langsmith<0.4,>=0.1.125->langchain-core<0.4.0,>=0.3.33->langchain-groq) (1.0.0)\n",
            "Requirement already satisfied: zstandard<0.24.0,>=0.23.0 in /usr/local/lib/python3.11/dist-packages (from langsmith<0.4,>=0.1.125->langchain-core<0.4.0,>=0.3.33->langchain-groq) (0.23.0)\n",
            "Requirement already satisfied: annotated-types>=0.6.0 in /usr/local/lib/python3.11/dist-packages (from pydantic<3,>=1.9.0->groq<1,>=0.4.1->langchain-groq) (0.7.0)\n",
            "Requirement already satisfied: pydantic-core==2.27.2 in /usr/local/lib/python3.11/dist-packages (from pydantic<3,>=1.9.0->groq<1,>=0.4.1->langchain-groq) (2.27.2)\n",
            "Requirement already satisfied: charset-normalizer<4,>=2 in /usr/local/lib/python3.11/dist-packages (from requests<3,>=2->langsmith<0.4,>=0.1.125->langchain-core<0.4.0,>=0.3.33->langchain-groq) (3.4.1)\n",
            "Requirement already satisfied: urllib3<3,>=1.21.1 in /usr/local/lib/python3.11/dist-packages (from requests<3,>=2->langsmith<0.4,>=0.1.125->langchain-core<0.4.0,>=0.3.33->langchain-groq) (2.3.0)\n",
            "Downloading langchain_groq-0.2.4-py3-none-any.whl (14 kB)\n",
            "Downloading groq-0.18.0-py3-none-any.whl (121 kB)\n",
            "\u001b[2K   \u001b[90m━━━━━━━━━━━━━━━━━━━━━━━━━━━━━━━━━━━━━━━━\u001b[0m \u001b[32m121.9/121.9 kB\u001b[0m \u001b[31m2.3 MB/s\u001b[0m eta \u001b[36m0:00:00\u001b[0m\n",
            "\u001b[?25hInstalling collected packages: groq, langchain-groq\n",
            "Successfully installed groq-0.18.0 langchain-groq-0.2.4\n"
          ]
        }
      ]
    },
    {
      "cell_type": "code",
      "source": [
        "!pip install langchain-community"
      ],
      "metadata": {
        "colab": {
          "base_uri": "https://localhost:8080/"
        },
        "id": "MrlyErWuc9lQ",
        "outputId": "d5190b59-2499-4e9a-da59-b4539cc6a35f"
      },
      "execution_count": 6,
      "outputs": [
        {
          "output_type": "stream",
          "name": "stdout",
          "text": [
            "Collecting langchain-community\n",
            "  Using cached langchain_community-0.3.17-py3-none-any.whl.metadata (2.4 kB)\n",
            "Collecting langchain-core<1.0.0,>=0.3.34 (from langchain-community)\n",
            "  Downloading langchain_core-0.3.34-py3-none-any.whl.metadata (5.9 kB)\n",
            "Collecting langchain<1.0.0,>=0.3.18 (from langchain-community)\n",
            "  Downloading langchain-0.3.18-py3-none-any.whl.metadata (7.8 kB)\n",
            "Requirement already satisfied: SQLAlchemy<3,>=1.4 in /usr/local/lib/python3.11/dist-packages (from langchain-community) (2.0.37)\n",
            "Requirement already satisfied: requests<3,>=2 in /usr/local/lib/python3.11/dist-packages (from langchain-community) (2.32.3)\n",
            "Requirement already satisfied: PyYAML>=5.3 in /usr/local/lib/python3.11/dist-packages (from langchain-community) (6.0.2)\n",
            "Requirement already satisfied: aiohttp<4.0.0,>=3.8.3 in /usr/local/lib/python3.11/dist-packages (from langchain-community) (3.11.11)\n",
            "Requirement already satisfied: tenacity!=8.4.0,<10,>=8.1.0 in /usr/local/lib/python3.11/dist-packages (from langchain-community) (9.0.0)\n",
            "Collecting dataclasses-json<0.7,>=0.5.7 (from langchain-community)\n",
            "  Downloading dataclasses_json-0.6.7-py3-none-any.whl.metadata (25 kB)\n",
            "Collecting pydantic-settings<3.0.0,>=2.4.0 (from langchain-community)\n",
            "  Downloading pydantic_settings-2.7.1-py3-none-any.whl.metadata (3.5 kB)\n",
            "Requirement already satisfied: langsmith<0.4,>=0.1.125 in /usr/local/lib/python3.11/dist-packages (from langchain-community) (0.3.5)\n",
            "Collecting httpx-sse<1.0.0,>=0.4.0 (from langchain-community)\n",
            "  Downloading httpx_sse-0.4.0-py3-none-any.whl.metadata (9.0 kB)\n",
            "Requirement already satisfied: numpy<2,>=1.26.4 in /usr/local/lib/python3.11/dist-packages (from langchain-community) (1.26.4)\n",
            "Requirement already satisfied: aiohappyeyeballs>=2.3.0 in /usr/local/lib/python3.11/dist-packages (from aiohttp<4.0.0,>=3.8.3->langchain-community) (2.4.4)\n",
            "Requirement already satisfied: aiosignal>=1.1.2 in /usr/local/lib/python3.11/dist-packages (from aiohttp<4.0.0,>=3.8.3->langchain-community) (1.3.2)\n",
            "Requirement already satisfied: attrs>=17.3.0 in /usr/local/lib/python3.11/dist-packages (from aiohttp<4.0.0,>=3.8.3->langchain-community) (25.1.0)\n",
            "Requirement already satisfied: frozenlist>=1.1.1 in /usr/local/lib/python3.11/dist-packages (from aiohttp<4.0.0,>=3.8.3->langchain-community) (1.5.0)\n",
            "Requirement already satisfied: multidict<7.0,>=4.5 in /usr/local/lib/python3.11/dist-packages (from aiohttp<4.0.0,>=3.8.3->langchain-community) (6.1.0)\n",
            "Requirement already satisfied: propcache>=0.2.0 in /usr/local/lib/python3.11/dist-packages (from aiohttp<4.0.0,>=3.8.3->langchain-community) (0.2.1)\n",
            "Requirement already satisfied: yarl<2.0,>=1.17.0 in /usr/local/lib/python3.11/dist-packages (from aiohttp<4.0.0,>=3.8.3->langchain-community) (1.18.3)\n",
            "Collecting marshmallow<4.0.0,>=3.18.0 (from dataclasses-json<0.7,>=0.5.7->langchain-community)\n",
            "  Downloading marshmallow-3.26.1-py3-none-any.whl.metadata (7.3 kB)\n",
            "Collecting typing-inspect<1,>=0.4.0 (from dataclasses-json<0.7,>=0.5.7->langchain-community)\n",
            "  Downloading typing_inspect-0.9.0-py3-none-any.whl.metadata (1.5 kB)\n",
            "Collecting langchain-text-splitters<1.0.0,>=0.3.6 (from langchain<1.0.0,>=0.3.18->langchain-community)\n",
            "  Downloading langchain_text_splitters-0.3.6-py3-none-any.whl.metadata (1.9 kB)\n",
            "Requirement already satisfied: pydantic<3.0.0,>=2.7.4 in /usr/local/lib/python3.11/dist-packages (from langchain<1.0.0,>=0.3.18->langchain-community) (2.10.6)\n",
            "Requirement already satisfied: jsonpatch<2.0,>=1.33 in /usr/local/lib/python3.11/dist-packages (from langchain-core<1.0.0,>=0.3.34->langchain-community) (1.33)\n",
            "Requirement already satisfied: packaging<25,>=23.2 in /usr/local/lib/python3.11/dist-packages (from langchain-core<1.0.0,>=0.3.34->langchain-community) (24.2)\n",
            "Requirement already satisfied: typing-extensions>=4.7 in /usr/local/lib/python3.11/dist-packages (from langchain-core<1.0.0,>=0.3.34->langchain-community) (4.12.2)\n",
            "Requirement already satisfied: httpx<1,>=0.23.0 in /usr/local/lib/python3.11/dist-packages (from langsmith<0.4,>=0.1.125->langchain-community) (0.28.1)\n",
            "Requirement already satisfied: orjson<4.0.0,>=3.9.14 in /usr/local/lib/python3.11/dist-packages (from langsmith<0.4,>=0.1.125->langchain-community) (3.10.15)\n",
            "Requirement already satisfied: requests-toolbelt<2.0.0,>=1.0.0 in /usr/local/lib/python3.11/dist-packages (from langsmith<0.4,>=0.1.125->langchain-community) (1.0.0)\n",
            "Requirement already satisfied: zstandard<0.24.0,>=0.23.0 in /usr/local/lib/python3.11/dist-packages (from langsmith<0.4,>=0.1.125->langchain-community) (0.23.0)\n",
            "Requirement already satisfied: python-dotenv>=0.21.0 in /usr/local/lib/python3.11/dist-packages (from pydantic-settings<3.0.0,>=2.4.0->langchain-community) (1.0.1)\n",
            "Requirement already satisfied: charset-normalizer<4,>=2 in /usr/local/lib/python3.11/dist-packages (from requests<3,>=2->langchain-community) (3.4.1)\n",
            "Requirement already satisfied: idna<4,>=2.5 in /usr/local/lib/python3.11/dist-packages (from requests<3,>=2->langchain-community) (3.10)\n",
            "Requirement already satisfied: urllib3<3,>=1.21.1 in /usr/local/lib/python3.11/dist-packages (from requests<3,>=2->langchain-community) (2.3.0)\n",
            "Requirement already satisfied: certifi>=2017.4.17 in /usr/local/lib/python3.11/dist-packages (from requests<3,>=2->langchain-community) (2025.1.31)\n",
            "Requirement already satisfied: greenlet!=0.4.17 in /usr/local/lib/python3.11/dist-packages (from SQLAlchemy<3,>=1.4->langchain-community) (3.1.1)\n",
            "Requirement already satisfied: anyio in /usr/local/lib/python3.11/dist-packages (from httpx<1,>=0.23.0->langsmith<0.4,>=0.1.125->langchain-community) (3.7.1)\n",
            "Requirement already satisfied: httpcore==1.* in /usr/local/lib/python3.11/dist-packages (from httpx<1,>=0.23.0->langsmith<0.4,>=0.1.125->langchain-community) (1.0.7)\n",
            "Requirement already satisfied: h11<0.15,>=0.13 in /usr/local/lib/python3.11/dist-packages (from httpcore==1.*->httpx<1,>=0.23.0->langsmith<0.4,>=0.1.125->langchain-community) (0.14.0)\n",
            "Requirement already satisfied: jsonpointer>=1.9 in /usr/local/lib/python3.11/dist-packages (from jsonpatch<2.0,>=1.33->langchain-core<1.0.0,>=0.3.34->langchain-community) (3.0.0)\n",
            "Requirement already satisfied: annotated-types>=0.6.0 in /usr/local/lib/python3.11/dist-packages (from pydantic<3.0.0,>=2.7.4->langchain<1.0.0,>=0.3.18->langchain-community) (0.7.0)\n",
            "Requirement already satisfied: pydantic-core==2.27.2 in /usr/local/lib/python3.11/dist-packages (from pydantic<3.0.0,>=2.7.4->langchain<1.0.0,>=0.3.18->langchain-community) (2.27.2)\n",
            "Collecting mypy-extensions>=0.3.0 (from typing-inspect<1,>=0.4.0->dataclasses-json<0.7,>=0.5.7->langchain-community)\n",
            "  Downloading mypy_extensions-1.0.0-py3-none-any.whl.metadata (1.1 kB)\n",
            "Requirement already satisfied: sniffio>=1.1 in /usr/local/lib/python3.11/dist-packages (from anyio->httpx<1,>=0.23.0->langsmith<0.4,>=0.1.125->langchain-community) (1.3.1)\n",
            "Downloading langchain_community-0.3.17-py3-none-any.whl (2.5 MB)\n",
            "\u001b[2K   \u001b[90m━━━━━━━━━━━━━━━━━━━━━━━━━━━━━━━━━━━━━━━━\u001b[0m \u001b[32m2.5/2.5 MB\u001b[0m \u001b[31m16.6 MB/s\u001b[0m eta \u001b[36m0:00:00\u001b[0m\n",
            "\u001b[?25hDownloading dataclasses_json-0.6.7-py3-none-any.whl (28 kB)\n",
            "Downloading httpx_sse-0.4.0-py3-none-any.whl (7.8 kB)\n",
            "Downloading langchain-0.3.18-py3-none-any.whl (1.0 MB)\n",
            "\u001b[2K   \u001b[90m━━━━━━━━━━━━━━━━━━━━━━━━━━━━━━━━━━━━━━━━\u001b[0m \u001b[32m1.0/1.0 MB\u001b[0m \u001b[31m60.9 MB/s\u001b[0m eta \u001b[36m0:00:00\u001b[0m\n",
            "\u001b[?25hDownloading langchain_core-0.3.34-py3-none-any.whl (412 kB)\n",
            "\u001b[2K   \u001b[90m━━━━━━━━━━━━━━━━━━━━━━━━━━━━━━━━━━━━━━━━\u001b[0m \u001b[32m413.0/413.0 kB\u001b[0m \u001b[31m37.2 MB/s\u001b[0m eta \u001b[36m0:00:00\u001b[0m\n",
            "\u001b[?25hDownloading pydantic_settings-2.7.1-py3-none-any.whl (29 kB)\n",
            "Downloading langchain_text_splitters-0.3.6-py3-none-any.whl (31 kB)\n",
            "Downloading marshmallow-3.26.1-py3-none-any.whl (50 kB)\n",
            "\u001b[2K   \u001b[90m━━━━━━━━━━━━━━━━━━━━━━━━━━━━━━━━━━━━━━━━\u001b[0m \u001b[32m50.9/50.9 kB\u001b[0m \u001b[31m3.8 MB/s\u001b[0m eta \u001b[36m0:00:00\u001b[0m\n",
            "\u001b[?25hDownloading typing_inspect-0.9.0-py3-none-any.whl (8.8 kB)\n",
            "Downloading mypy_extensions-1.0.0-py3-none-any.whl (4.7 kB)\n",
            "Installing collected packages: mypy-extensions, marshmallow, httpx-sse, typing-inspect, pydantic-settings, dataclasses-json, langchain-core, langchain-text-splitters, langchain, langchain-community\n",
            "  Attempting uninstall: langchain-core\n",
            "    Found existing installation: langchain-core 0.3.33\n",
            "    Uninstalling langchain-core-0.3.33:\n",
            "      Successfully uninstalled langchain-core-0.3.33\n",
            "  Attempting uninstall: langchain-text-splitters\n",
            "    Found existing installation: langchain-text-splitters 0.3.5\n",
            "    Uninstalling langchain-text-splitters-0.3.5:\n",
            "      Successfully uninstalled langchain-text-splitters-0.3.5\n",
            "  Attempting uninstall: langchain\n",
            "    Found existing installation: langchain 0.3.17\n",
            "    Uninstalling langchain-0.3.17:\n",
            "      Successfully uninstalled langchain-0.3.17\n",
            "Successfully installed dataclasses-json-0.6.7 httpx-sse-0.4.0 langchain-0.3.18 langchain-community-0.3.17 langchain-core-0.3.34 langchain-text-splitters-0.3.6 marshmallow-3.26.1 mypy-extensions-1.0.0 pydantic-settings-2.7.1 typing-inspect-0.9.0\n"
          ]
        }
      ]
    },
    {
      "cell_type": "code",
      "execution_count": 37,
      "metadata": {
        "id": "_Q4s_N0LUsQI"
      },
      "outputs": [],
      "source": [
        "import pandas as pd\n",
        "import numpy as np\n",
        "import langchain\n",
        "import langchain_community\n",
        "from langchain_text_splitters import RecursiveCharacterTextSplitter\n",
        "from langchain_chroma import Chroma\n"
      ]
    },
    {
      "cell_type": "code",
      "execution_count": 38,
      "metadata": {
        "id": "9a-XUAfQUsQJ"
      },
      "outputs": [],
      "source": [
        "df=pd.read_csv('/content/Finance_data.csv')\n",
        "df_fin=df.to_dict(orient='records')"
      ]
    },
    {
      "cell_type": "code",
      "execution_count": 39,
      "metadata": {
        "colab": {
          "base_uri": "https://localhost:8080/"
        },
        "id": "nYtlXSdIUsQJ",
        "outputId": "7f3a50a0-3a5d-4ded-fd66-6efb9ac26983"
      },
      "outputs": [
        {
          "output_type": "stream",
          "name": "stdout",
          "text": [
            "I'm a 34-year-old Female looking to invest in Mutual Fund for Wealth Creation over the next 1-3 years. What are my options?\n",
            "I'm a 23-year-old Female looking to invest in Mutual Fund for Wealth Creation over the next More than 5 years. What are my options?\n",
            "I'm a 30-year-old Male looking to invest in Equity for Wealth Creation over the next 3-5 years. What are my options?\n",
            "I'm a 22-year-old Male looking to invest in Equity for Wealth Creation over the next Less than 1 year. What are my options?\n",
            "I'm a 24-year-old Female looking to invest in Equity for Wealth Creation over the next Less than 1 year. What are my options?\n",
            "I'm a 24-year-old Female looking to invest in Mutual Fund for Wealth Creation over the next 1-3 years. What are my options?\n",
            "I'm a 27-year-old Female looking to invest in Equity for Wealth Creation over the next 3-5 years. What are my options?\n",
            "I'm a 21-year-old Male looking to invest in Mutual Fund for Wealth Creation over the next 3-5 years. What are my options?\n",
            "I'm a 35-year-old Male looking to invest in Equity for Savings for Future over the next 1-3 years. What are my options?\n",
            "I'm a 31-year-old Male looking to invest in Fixed Deposits for Wealth Creation over the next 3-5 years. What are my options?\n",
            "I'm a 35-year-old Female looking to invest in Mutual Fund for Savings for Future over the next 3-5 years. What are my options?\n",
            "I'm a 29-year-old Male looking to invest in Mutual Fund for Wealth Creation over the next 1-3 years. What are my options?\n",
            "I'm a 21-year-old Female looking to invest in Mutual Fund for Savings for Future over the next 1-3 years. What are my options?\n",
            "I'm a 28-year-old Female looking to invest in Mutual Fund for Wealth Creation over the next 1-3 years. What are my options?\n",
            "I'm a 25-year-old Female looking to invest in Fixed Deposits for Wealth Creation over the next 1-3 years. What are my options?\n",
            "I'm a 27-year-old Male looking to invest in Mutual Fund for Wealth Creation over the next 1-3 years. What are my options?\n",
            "I'm a 28-year-old Female looking to invest in Fixed Deposits for Wealth Creation over the next 1-3 years. What are my options?\n",
            "I'm a 27-year-old Male looking to invest in Mutual Fund for Wealth Creation over the next 1-3 years. What are my options?\n",
            "I'm a 29-year-old Male looking to invest in Mutual Fund for Wealth Creation over the next 1-3 years. What are my options?\n",
            "I'm a 26-year-old Male looking to invest in Fixed Deposits for Wealth Creation over the next 3-5 years. What are my options?\n",
            "I'm a 29-year-old Male looking to invest in Mutual Fund for Wealth Creation over the next 3-5 years. What are my options?\n",
            "I'm a 24-year-old Female looking to invest in Equity for Wealth Creation over the next 3-5 years. What are my options?\n",
            "I'm a 27-year-old Male looking to invest in Mutual Fund for Wealth Creation over the next 3-5 years. What are my options?\n",
            "I'm a 25-year-old Male looking to invest in Public Provident Fund for Savings for Future over the next 3-5 years. What are my options?\n",
            "I'm a 26-year-old Female looking to invest in Public Provident Fund for Wealth Creation over the next 3-5 years. What are my options?\n",
            "I'm a 32-year-old Female looking to invest in Mutual Fund for Wealth Creation over the next 3-5 years. What are my options?\n",
            "I'm a 26-year-old Male looking to invest in Mutual Fund for Wealth Creation over the next 3-5 years. What are my options?\n",
            "I'm a 31-year-old Male looking to invest in Fixed Deposits for Savings for Future over the next 1-3 years. What are my options?\n",
            "I'm a 29-year-old Male looking to invest in Equity for Wealth Creation over the next 1-3 years. What are my options?\n",
            "I'm a 34-year-old Female looking to invest in Mutual Fund for Returns over the next 3-5 years. What are my options?\n",
            "I'm a 27-year-old Male looking to invest in Mutual Fund for Wealth Creation over the next 1-3 years. What are my options?\n",
            "I'm a 31-year-old Female looking to invest in Fixed Deposits for Wealth Creation over the next 3-5 years. What are my options?\n",
            "I'm a 27-year-old Male looking to invest in Equity for Wealth Creation over the next 3-5 years. What are my options?\n",
            "I'm a 26-year-old Male looking to invest in Fixed Deposits for Returns over the next 1-3 years. What are my options?\n",
            "I'm a 27-year-old Male looking to invest in Mutual Fund for Wealth Creation over the next 1-3 years. What are my options?\n",
            "I'm a 30-year-old Male looking to invest in Fixed Deposits for Wealth Creation over the next 3-5 years. What are my options?\n",
            "I'm a 30-year-old Male looking to invest in Equity for Wealth Creation over the next 1-3 years. What are my options?\n",
            "I'm a 25-year-old Male looking to invest in Public Provident Fund for Savings for Future over the next 3-5 years. What are my options?\n",
            "I'm a 31-year-old Male looking to invest in Equity for Wealth Creation over the next 1-3 years. What are my options?\n",
            "I'm a 29-year-old Male looking to invest in Fixed Deposits for Wealth Creation over the next 3-5 years. What are my options?\n"
          ]
        }
      ],
      "source": [
        "for entry in df_fin:\n",
        "  prompt = f\"I'm a {entry['age']}-year-old {entry['gender']} looking to invest in {entry['Avenue']} for {entry['Purpose']} over the next {entry['Duration']}. What are my options?\"\n",
        "  print(prompt)"
      ]
    },
    {
      "cell_type": "markdown",
      "metadata": {
        "id": "ykc3PhQ_UsQK"
      },
      "source": [
        "#\n",
        "Pre-Processng the Data into Prompt-Response Format"
      ]
    },
    {
      "cell_type": "code",
      "execution_count": 40,
      "metadata": {
        "colab": {
          "base_uri": "https://localhost:8080/"
        },
        "id": "8_J-_NaJUsQK",
        "outputId": "0ff3d472-ce9c-4c6a-cbc1-ff33d19c3109"
      },
      "outputs": [
        {
          "output_type": "execute_result",
          "data": {
            "text/plain": [
              "[{'prompt': \"I'm a 34-year-old Female looking to invest in Mutual Fund for Wealth Creation over the next 1-3 years. What are my options?\",\n",
              "  'response': 'Based on your preferences, here are your investment options:\\n- Mutual Funds: 1\\n- Equity Market: 2\\n- Debentures: 5\\n- Government Bonds: 3\\n- Fixed Deposits: 7\\n- PPF: 6\\n- Gold: 4\\nFactors considered: Returns\\nObjective: Capital Appreciation\\nExpected returns: 20%-30%\\nInvestment monitoring: Monthly\\nReasons for choices:\\n- Equity: Capital Appreciation\\n- Mutual Funds: Better Returns\\n- Bonds: Safe Investment\\n- Fixed Deposits: Fixed Returns\\nSource of information: Newspapers and Magazines\\n'},\n",
              " {'prompt': \"I'm a 23-year-old Female looking to invest in Mutual Fund for Wealth Creation over the next More than 5 years. What are my options?\",\n",
              "  'response': 'Based on your preferences, here are your investment options:\\n- Mutual Funds: 4\\n- Equity Market: 3\\n- Debentures: 2\\n- Government Bonds: 1\\n- Fixed Deposits: 5\\n- PPF: 6\\n- Gold: 7\\nFactors considered: Locking Period\\nObjective: Capital Appreciation\\nExpected returns: 20%-30%\\nInvestment monitoring: Weekly\\nReasons for choices:\\n- Equity: Dividend\\n- Mutual Funds: Better Returns\\n- Bonds: Safe Investment\\n- Fixed Deposits: High Interest Rates\\nSource of information: Financial Consultants\\n'},\n",
              " {'prompt': \"I'm a 30-year-old Male looking to invest in Equity for Wealth Creation over the next 3-5 years. What are my options?\",\n",
              "  'response': 'Based on your preferences, here are your investment options:\\n- Mutual Funds: 3\\n- Equity Market: 6\\n- Debentures: 4\\n- Government Bonds: 2\\n- Fixed Deposits: 5\\n- PPF: 1\\n- Gold: 7\\nFactors considered: Returns\\nObjective: Capital Appreciation\\nExpected returns: 20%-30%\\nInvestment monitoring: Daily\\nReasons for choices:\\n- Equity: Capital Appreciation\\n- Mutual Funds: Tax Benefits\\n- Bonds: Assured Returns\\n- Fixed Deposits: Fixed Returns\\nSource of information: Television\\n'},\n",
              " {'prompt': \"I'm a 22-year-old Male looking to invest in Equity for Wealth Creation over the next Less than 1 year. What are my options?\",\n",
              "  'response': 'Based on your preferences, here are your investment options:\\n- Mutual Funds: 2\\n- Equity Market: 1\\n- Debentures: 3\\n- Government Bonds: 7\\n- Fixed Deposits: 6\\n- PPF: 4\\n- Gold: 5\\nFactors considered: Returns\\nObjective: Income\\nExpected returns: 10%-20%\\nInvestment monitoring: Daily\\nReasons for choices:\\n- Equity: Dividend\\n- Mutual Funds: Fund Diversification\\n- Bonds: Tax Incentives\\n- Fixed Deposits: High Interest Rates\\nSource of information: Internet\\n'},\n",
              " {'prompt': \"I'm a 24-year-old Female looking to invest in Equity for Wealth Creation over the next Less than 1 year. What are my options?\",\n",
              "  'response': 'Based on your preferences, here are your investment options:\\n- Mutual Funds: 2\\n- Equity Market: 1\\n- Debentures: 3\\n- Government Bonds: 6\\n- Fixed Deposits: 4\\n- PPF: 5\\n- Gold: 7\\nFactors considered: Returns\\nObjective: Income\\nExpected returns: 20%-30%\\nInvestment monitoring: Daily\\nReasons for choices:\\n- Equity: Capital Appreciation\\n- Mutual Funds: Better Returns\\n- Bonds: Safe Investment\\n- Fixed Deposits: Risk Free\\nSource of information: Internet\\n'}]"
            ]
          },
          "metadata": {},
          "execution_count": 40
        }
      ],
      "source": [
        "# Convert the data to prompt-response format\n",
        "prompt_response_data = []\n",
        "for entry in df_fin:\n",
        "    prompt = f\"I'm a {entry['age']}-year-old {entry['gender']} looking to invest in {entry['Avenue']} for {entry['Purpose']} over the next {entry['Duration']}. What are my options?\"\n",
        "    response = (\n",
        "        f\"Based on your preferences, here are your investment options:\\n\"\n",
        "        f\"- Mutual Funds: {entry['Mutual_Funds']}\\n\"\n",
        "        f\"- Equity Market: {entry['Equity_Market']}\\n\"\n",
        "        f\"- Debentures: {entry['Debentures']}\\n\"\n",
        "        f\"- Government Bonds: {entry['Government_Bonds']}\\n\"\n",
        "        f\"- Fixed Deposits: {entry['Fixed_Deposits']}\\n\"\n",
        "        f\"- PPF: {entry['PPF']}\\n\"\n",
        "        f\"- Gold: {entry['Gold']}\\n\"\n",
        "        f\"Factors considered: {entry['Factor']}\\n\"\n",
        "        f\"Objective: {entry['Objective']}\\n\"\n",
        "        f\"Expected returns: {entry['Expect']}\\n\"\n",
        "        f\"Investment monitoring: {entry['Invest_Monitor']}\\n\"\n",
        "        f\"Reasons for choices:\\n\"\n",
        "        f\"- Equity: {entry['Reason_Equity']}\\n\"\n",
        "        f\"- Mutual Funds: {entry['Reason_Mutual']}\\n\"\n",
        "        f\"- Bonds: {entry['Reason_Bonds']}\\n\"\n",
        "        f\"- Fixed Deposits: {entry['Reason_FD']}\\n\"\n",
        "        f\"Source of information: {entry['Source']}\\n\"\n",
        "    )\n",
        "    prompt_response_data.append({\"prompt\": prompt, \"response\": response})\n",
        "\n",
        "prompt_response_data[:5]"
      ]
    },
    {
      "cell_type": "markdown",
      "metadata": {
        "id": "sIPs-rSCUsQL"
      },
      "source": [
        "# Storing data in VEctor DB"
      ]
    },
    {
      "cell_type": "code",
      "execution_count": 41,
      "metadata": {
        "id": "oXyGucKkUsQL"
      },
      "outputs": [],
      "source": [
        "from langchain.docstore.document import Document\n",
        "documents = []\n",
        "for entry in prompt_response_data:\n",
        "    combined_text = f\"Prompt: {entry['prompt']}\\nResponse: {entry['response']}\"\n",
        "    documents.append(Document(page_content=combined_text))\n"
      ]
    },
    {
      "cell_type": "code",
      "execution_count": 42,
      "metadata": {
        "id": "04W__2SdUsQL"
      },
      "outputs": [],
      "source": [
        "text_splitter = RecursiveCharacterTextSplitter(chunk_size=100, chunk_overlap=10)\n",
        "texts = text_splitter.split_documents(documents)"
      ]
    },
    {
      "cell_type": "code",
      "execution_count": 43,
      "metadata": {
        "id": "8k0vVzyvUsQL"
      },
      "outputs": [],
      "source": [
        "from langchain.embeddings import HuggingFaceEmbeddings\n",
        "\n",
        "# Define the Hugging Face embeddings\n",
        "hg_embeddings = HuggingFaceEmbeddings(model_name=\"sentence-transformers/all-MiniLM-L6-v2\")"
      ]
    },
    {
      "cell_type": "code",
      "execution_count": 44,
      "metadata": {
        "id": "Mr-SY_qfUsQL"
      },
      "outputs": [],
      "source": [
        "from langchain.vectorstores import Chroma\n",
        "\n",
        "# Directory to persist the vector database\n",
        "persist_directory = 'docs/chroma/'\n",
        "\n",
        "# Define the batch size based on the error message (less than 166)\n",
        "BATCH_SIZE = 150  # Slightly below the max limit for safety\n",
        "\n",
        "# Function to create Chroma vector database in batches\n",
        "def create_chroma_vector_db(documents, embedding, persist_directory, batch_size=BATCH_SIZE):\n",
        "    # Initialize an empty Chroma database\n",
        "    vectordb_fin = None\n",
        "\n",
        "    # Process documents in batches\n",
        "    for i in range(0, len(documents), batch_size):\n",
        "        batch = documents[i:i + batch_size]\n",
        "\n",
        "        if vectordb_fin is None:\n",
        "            # Create Chroma DB with the first batch\n",
        "            vectordb_fin = Chroma.from_documents(\n",
        "                documents=batch,\n",
        "                embedding=embedding,\n",
        "                persist_directory=persist_directory\n",
        "            )\n",
        "        else:\n",
        "            # Add subsequent batches to the existing database\n",
        "            vectordb_fin.add_documents(batch)\n",
        "\n",
        "    return vectordb_fin\n",
        "\n",
        "# Call the function with the provided documents and embeddings\n",
        "vectordb_fin = create_chroma_vector_db(documents=texts, embedding=hg_embeddings, persist_directory=persist_directory)\n"
      ]
    },
    {
      "cell_type": "code",
      "source": [
        "from google.colab import userdata\n",
        "# LLM with function call\n",
        "from langchain_groq import ChatGroq\n",
        "import os\n",
        "groq_api_key=userdata.get('groq_api_key')\n",
        "os.environ[\"GROQ_API_KEY\"]=groq_api_key"
      ],
      "metadata": {
        "id": "5abwNr0oVoyW"
      },
      "execution_count": 45,
      "outputs": []
    },
    {
      "cell_type": "code",
      "source": [
        "llm=ChatGroq(groq_api_key=groq_api_key,model_name='llama-3.3-70b-versatile')\n",
        "llm"
      ],
      "metadata": {
        "colab": {
          "base_uri": "https://localhost:8080/"
        },
        "id": "jlthaAnDWHFA",
        "outputId": "53a2967a-155c-4106-fc5a-cf857cd16d95"
      },
      "execution_count": 50,
      "outputs": [
        {
          "output_type": "execute_result",
          "data": {
            "text/plain": [
              "ChatGroq(client=<groq.resources.chat.completions.Completions object at 0x7d9eca957890>, async_client=<groq.resources.chat.completions.AsyncCompletions object at 0x7d9eca726450>, model_name='llama-3.3-70b-versatile', model_kwargs={}, groq_api_key=SecretStr('**********'))"
            ]
          },
          "metadata": {},
          "execution_count": 50
        }
      ]
    },
    {
      "cell_type": "code",
      "execution_count": 51,
      "metadata": {
        "colab": {
          "base_uri": "https://localhost:8080/"
        },
        "id": "kl3rdBDEUsQM",
        "outputId": "412e5a4b-6660-4b31-cdb2-526d219a96d6"
      },
      "outputs": [
        {
          "output_type": "execute_result",
          "data": {
            "text/plain": [
              "{'query': 'I am a 21 year college student, what scheme is better for me?',\n",
              " 'result': \"As a 21-year-old college student looking to invest in a mutual fund for a period of less than 1 year, I would recommend considering liquid funds or ultra-short-term debt funds. \\n\\nThese types of funds typically invest in low-risk, short-term debt instruments and provide easy liquidity, making them suitable for short-term goals. They usually offer relatively stable returns and are less volatile compared to other types of mutual funds.\\n\\nHowever, please keep in mind that mutual fund investments always carry some level of risk, and it's essential to assess your personal risk tolerance and financial goals before investing. It's also a good idea to consult with a financial advisor or conduct your own research before making any investment decisions.\"}"
            ]
          },
          "metadata": {},
          "execution_count": 51
        }
      ],
      "source": [
        "from langchain.chains import RetrievalQA\n",
        "retriever_fin = vectordb_fin.as_retriever(search_kwargs={\"k\":5})\n",
        "qa = RetrievalQA.from_chain_type(\n",
        "    llm=llm, chain_type=\"stuff\", retriever=retriever_fin, return_source_documents=False)\n",
        "query = \"I am a 21 year college student, what scheme is better for me?\"\n",
        "result = qa({\"query\": query})\n",
        "result"
      ]
    },
    {
      "cell_type": "code",
      "source": [],
      "metadata": {
        "id": "xtVM7nh_drIb"
      },
      "execution_count": 49,
      "outputs": []
    }
  ],
  "metadata": {
    "kernelspec": {
      "display_name": "py38",
      "language": "python",
      "name": "py38"
    },
    "language_info": {
      "codemirror_mode": {
        "name": "ipython",
        "version": 3
      },
      "file_extension": ".py",
      "mimetype": "text/x-python",
      "name": "python",
      "nbconvert_exporter": "python",
      "pygments_lexer": "ipython3",
      "version": "3.8.10"
    },
    "colab": {
      "provenance": []
    }
  },
  "nbformat": 4,
  "nbformat_minor": 0
}