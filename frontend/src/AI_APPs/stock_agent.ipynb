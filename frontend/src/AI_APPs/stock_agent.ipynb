{
  "cells": [
    {
      "cell_type": "code",
      "source": [
        "!pip install langchain-groq"
      ],
      "metadata": {
        "colab": {
          "base_uri": "https://localhost:8080/"
        },
        "id": "IBOgF2oCbp_X",
        "outputId": "9bc276e8-83ae-49b8-f9ef-a3735433745c"
      },
      "execution_count": null,
      "outputs": [
        {
          "output_type": "stream",
          "name": "stdout",
          "text": [
            "Requirement already satisfied: langchain-groq in /usr/local/lib/python3.11/dist-packages (0.2.4)\n",
            "Requirement already satisfied: groq<1,>=0.4.1 in /usr/local/lib/python3.11/dist-packages (from langchain-groq) (0.18.0)\n",
            "Requirement already satisfied: langchain-core<0.4.0,>=0.3.33 in /usr/local/lib/python3.11/dist-packages (from langchain-groq) (0.3.33)\n",
            "Requirement already satisfied: anyio<5,>=3.5.0 in /usr/local/lib/python3.11/dist-packages (from groq<1,>=0.4.1->langchain-groq) (4.8.0)\n",
            "Requirement already satisfied: distro<2,>=1.7.0 in /usr/local/lib/python3.11/dist-packages (from groq<1,>=0.4.1->langchain-groq) (1.9.0)\n",
            "Requirement already satisfied: httpx<1,>=0.23.0 in /usr/local/lib/python3.11/dist-packages (from groq<1,>=0.4.1->langchain-groq) (0.28.1)\n",
            "Requirement already satisfied: pydantic<3,>=1.9.0 in /usr/local/lib/python3.11/dist-packages (from groq<1,>=0.4.1->langchain-groq) (2.10.6)\n",
            "Requirement already satisfied: sniffio in /usr/local/lib/python3.11/dist-packages (from groq<1,>=0.4.1->langchain-groq) (1.3.1)\n",
            "Requirement already satisfied: typing-extensions<5,>=4.10 in /usr/local/lib/python3.11/dist-packages (from groq<1,>=0.4.1->langchain-groq) (4.12.2)\n",
            "Requirement already satisfied: PyYAML>=5.3 in /usr/local/lib/python3.11/dist-packages (from langchain-core<0.4.0,>=0.3.33->langchain-groq) (6.0.2)\n",
            "Requirement already satisfied: jsonpatch<2.0,>=1.33 in /usr/local/lib/python3.11/dist-packages (from langchain-core<0.4.0,>=0.3.33->langchain-groq) (1.33)\n",
            "Requirement already satisfied: langsmith<0.4,>=0.1.125 in /usr/local/lib/python3.11/dist-packages (from langchain-core<0.4.0,>=0.3.33->langchain-groq) (0.3.2)\n",
            "Requirement already satisfied: packaging<25,>=23.2 in /usr/local/lib/python3.11/dist-packages (from langchain-core<0.4.0,>=0.3.33->langchain-groq) (24.2)\n",
            "Requirement already satisfied: tenacity!=8.4.0,<10.0.0,>=8.1.0 in /usr/local/lib/python3.11/dist-packages (from langchain-core<0.4.0,>=0.3.33->langchain-groq) (9.0.0)\n",
            "Requirement already satisfied: idna>=2.8 in /usr/local/lib/python3.11/dist-packages (from anyio<5,>=3.5.0->groq<1,>=0.4.1->langchain-groq) (3.10)\n",
            "Requirement already satisfied: certifi in /usr/local/lib/python3.11/dist-packages (from httpx<1,>=0.23.0->groq<1,>=0.4.1->langchain-groq) (2025.1.31)\n",
            "Requirement already satisfied: httpcore==1.* in /usr/local/lib/python3.11/dist-packages (from httpx<1,>=0.23.0->groq<1,>=0.4.1->langchain-groq) (1.0.7)\n",
            "Requirement already satisfied: h11<0.15,>=0.13 in /usr/local/lib/python3.11/dist-packages (from httpcore==1.*->httpx<1,>=0.23.0->groq<1,>=0.4.1->langchain-groq) (0.14.0)\n",
            "Requirement already satisfied: jsonpointer>=1.9 in /usr/local/lib/python3.11/dist-packages (from jsonpatch<2.0,>=1.33->langchain-core<0.4.0,>=0.3.33->langchain-groq) (3.0.0)\n",
            "Requirement already satisfied: orjson<4.0.0,>=3.9.14 in /usr/local/lib/python3.11/dist-packages (from langsmith<0.4,>=0.1.125->langchain-core<0.4.0,>=0.3.33->langchain-groq) (3.10.15)\n",
            "Requirement already satisfied: requests<3,>=2 in /usr/local/lib/python3.11/dist-packages (from langsmith<0.4,>=0.1.125->langchain-core<0.4.0,>=0.3.33->langchain-groq) (2.32.3)\n",
            "Requirement already satisfied: requests-toolbelt<2.0.0,>=1.0.0 in /usr/local/lib/python3.11/dist-packages (from langsmith<0.4,>=0.1.125->langchain-core<0.4.0,>=0.3.33->langchain-groq) (1.0.0)\n",
            "Requirement already satisfied: zstandard<0.24.0,>=0.23.0 in /usr/local/lib/python3.11/dist-packages (from langsmith<0.4,>=0.1.125->langchain-core<0.4.0,>=0.3.33->langchain-groq) (0.23.0)\n",
            "Requirement already satisfied: annotated-types>=0.6.0 in /usr/local/lib/python3.11/dist-packages (from pydantic<3,>=1.9.0->groq<1,>=0.4.1->langchain-groq) (0.7.0)\n",
            "Requirement already satisfied: pydantic-core==2.27.2 in /usr/local/lib/python3.11/dist-packages (from pydantic<3,>=1.9.0->groq<1,>=0.4.1->langchain-groq) (2.27.2)\n",
            "Requirement already satisfied: charset-normalizer<4,>=2 in /usr/local/lib/python3.11/dist-packages (from requests<3,>=2->langsmith<0.4,>=0.1.125->langchain-core<0.4.0,>=0.3.33->langchain-groq) (3.4.1)\n",
            "Requirement already satisfied: urllib3<3,>=1.21.1 in /usr/local/lib/python3.11/dist-packages (from requests<3,>=2->langsmith<0.4,>=0.1.125->langchain-core<0.4.0,>=0.3.33->langchain-groq) (2.3.0)\n"
          ]
        }
      ]
    },
    {
      "cell_type": "code",
      "execution_count": null,
      "metadata": {
        "id": "y6rj6BVfbZge"
      },
      "outputs": [],
      "source": [
        "from google.colab import userdata\n",
        "# LLM with function call\n",
        "from langchain_groq import ChatGroq\n",
        "import os\n",
        "groq_api_key=userdata.get('groq_api_key')\n",
        "os.environ[\"GROQ_API_KEY\"]=groq_api_key\n",
        "from langchain_groq import ChatGroq"
      ]
    },
    {
      "cell_type": "code",
      "execution_count": null,
      "metadata": {
        "id": "urzIHiIdbZgf"
      },
      "outputs": [],
      "source": [
        "from langchain_groq import ChatGroq\n",
        "llm = ChatGroq(\n",
        "    groq_api_key=os.getenv(\"GROQ_API_KEY\"),\n",
        "    model_name='llama-3.3-70b-versatile',\n",
        "    temperature=0.1\n",
        ")"
      ]
    },
    {
      "cell_type": "code",
      "execution_count": null,
      "metadata": {
        "colab": {
          "base_uri": "https://localhost:8080/"
        },
        "id": "LnErsJtgbZgg",
        "outputId": "33481690-b723-4230-bb6e-3798d023ce4e"
      },
      "outputs": [
        {
          "output_type": "execute_result",
          "data": {
            "text/plain": [
              "AIMessage(content=\"Hello. I'm doing well, thanks for asking. I'm a large language model, so I don't have feelings or emotions like humans do, but I'm functioning properly and ready to assist you with any questions or tasks you may have. How about you? How's your day going so far?\", additional_kwargs={}, response_metadata={'token_usage': {'completion_tokens': 62, 'prompt_tokens': 42, 'total_tokens': 104, 'completion_time': 0.225454545, 'prompt_time': 0.004666804, 'queue_time': 1.46868053, 'total_time': 0.230121349}, 'model_name': 'llama-3.3-70b-versatile', 'system_fingerprint': 'fp_2ca0059abb', 'finish_reason': 'stop', 'logprobs': None}, id='run-b5b465c0-c135-4428-b426-07e46c93f588-0', usage_metadata={'input_tokens': 42, 'output_tokens': 62, 'total_tokens': 104})"
            ]
          },
          "metadata": {},
          "execution_count": 4
        }
      ],
      "source": [
        "llm.invoke(\"Hello, how are you today?\")"
      ]
    },
    {
      "cell_type": "code",
      "execution_count": null,
      "metadata": {
        "colab": {
          "base_uri": "https://localhost:8080/"
        },
        "id": "lU9rgfEPbZgh",
        "outputId": "112790fb-6b90-4385-b13d-e91c5f182ba5"
      },
      "outputs": [
        {
          "output_type": "execute_result",
          "data": {
            "text/plain": [
              "AIMessage(content=\"I'm not able to provide real-time stock prices. However, I can suggest some ways for you to find the current stock price of Apple:\\n\\n1. Check online financial websites: You can visit websites like Yahoo Finance, Google Finance, or Bloomberg to get the current stock price of Apple.\\n2. Use a stock market app: You can download a stock market app like Robinhood, Fidelity, or E\\\\*TRADE to get real-time stock prices.\\n3. Visit Apple's investor relations website: Apple's investor relations website provides up-to-date information on the company's stock price, as well as other financial information.\\n\\nPlease note that stock prices can fluctuate rapidly and may be different from the time I provided this response. For the most accurate and up-to-date information, I recommend checking a reliable financial source.\", additional_kwargs={}, response_metadata={'token_usage': {'completion_tokens': 166, 'prompt_tokens': 43, 'total_tokens': 209, 'completion_time': 0.603636364, 'prompt_time': 0.008690468, 'queue_time': 0.260682419, 'total_time': 0.612326832}, 'model_name': 'llama-3.3-70b-versatile', 'system_fingerprint': 'fp_3884478861', 'finish_reason': 'stop', 'logprobs': None}, id='run-1deecb15-916e-4b23-95f5-4654069e7f65-0', usage_metadata={'input_tokens': 43, 'output_tokens': 166, 'total_tokens': 209})"
            ]
          },
          "metadata": {},
          "execution_count": 5
        }
      ],
      "source": [
        "llm.invoke(\"What is the stock price of Apple?\")"
      ]
    },
    {
      "cell_type": "markdown",
      "metadata": {
        "id": "NrNsTVq7bZgi"
      },
      "source": [
        "## Connecting LLMs to Financial Data\n",
        "\n",
        "Yahoo Finance API"
      ]
    },
    {
      "cell_type": "code",
      "execution_count": null,
      "metadata": {
        "colab": {
          "base_uri": "https://localhost:8080/"
        },
        "id": "TUg4fccTbZgi",
        "outputId": "93376a97-c46e-4e91-d5d1-87ac8bc90a35"
      },
      "outputs": [
        {
          "output_type": "stream",
          "name": "stdout",
          "text": [
            "Requirement already satisfied: yfinance in /usr/local/lib/python3.11/dist-packages (0.2.52)\n",
            "Requirement already satisfied: pandas>=1.3.0 in /usr/local/lib/python3.11/dist-packages (from yfinance) (2.2.2)\n",
            "Requirement already satisfied: numpy>=1.16.5 in /usr/local/lib/python3.11/dist-packages (from yfinance) (1.26.4)\n",
            "Requirement already satisfied: requests>=2.31 in /usr/local/lib/python3.11/dist-packages (from yfinance) (2.32.3)\n",
            "Requirement already satisfied: multitasking>=0.0.7 in /usr/local/lib/python3.11/dist-packages (from yfinance) (0.0.11)\n",
            "Requirement already satisfied: lxml>=4.9.1 in /usr/local/lib/python3.11/dist-packages (from yfinance) (5.3.0)\n",
            "Requirement already satisfied: platformdirs>=2.0.0 in /usr/local/lib/python3.11/dist-packages (from yfinance) (4.3.6)\n",
            "Requirement already satisfied: pytz>=2022.5 in /usr/local/lib/python3.11/dist-packages (from yfinance) (2024.2)\n",
            "Requirement already satisfied: frozendict>=2.3.4 in /usr/local/lib/python3.11/dist-packages (from yfinance) (2.4.6)\n",
            "Requirement already satisfied: peewee>=3.16.2 in /usr/local/lib/python3.11/dist-packages (from yfinance) (3.17.8)\n",
            "Requirement already satisfied: beautifulsoup4>=4.11.1 in /usr/local/lib/python3.11/dist-packages (from yfinance) (4.12.3)\n",
            "Requirement already satisfied: html5lib>=1.1 in /usr/local/lib/python3.11/dist-packages (from yfinance) (1.1)\n",
            "Requirement already satisfied: soupsieve>1.2 in /usr/local/lib/python3.11/dist-packages (from beautifulsoup4>=4.11.1->yfinance) (2.6)\n",
            "Requirement already satisfied: six>=1.9 in /usr/local/lib/python3.11/dist-packages (from html5lib>=1.1->yfinance) (1.17.0)\n",
            "Requirement already satisfied: webencodings in /usr/local/lib/python3.11/dist-packages (from html5lib>=1.1->yfinance) (0.5.1)\n",
            "Requirement already satisfied: python-dateutil>=2.8.2 in /usr/local/lib/python3.11/dist-packages (from pandas>=1.3.0->yfinance) (2.8.2)\n",
            "Requirement already satisfied: tzdata>=2022.7 in /usr/local/lib/python3.11/dist-packages (from pandas>=1.3.0->yfinance) (2025.1)\n",
            "Requirement already satisfied: charset-normalizer<4,>=2 in /usr/local/lib/python3.11/dist-packages (from requests>=2.31->yfinance) (3.4.1)\n",
            "Requirement already satisfied: idna<4,>=2.5 in /usr/local/lib/python3.11/dist-packages (from requests>=2.31->yfinance) (3.10)\n",
            "Requirement already satisfied: urllib3<3,>=1.21.1 in /usr/local/lib/python3.11/dist-packages (from requests>=2.31->yfinance) (2.3.0)\n",
            "Requirement already satisfied: certifi>=2017.4.17 in /usr/local/lib/python3.11/dist-packages (from requests>=2.31->yfinance) (2025.1.31)\n"
          ]
        }
      ],
      "source": [
        "pip install yfinance"
      ]
    },
    {
      "cell_type": "code",
      "execution_count": null,
      "metadata": {
        "colab": {
          "base_uri": "https://localhost:8080/"
        },
        "id": "PNZ9dlw8bZgj",
        "outputId": "7a9dd76f-cb8f-40d5-d2c1-ded6143e6cf7"
      },
      "outputs": [
        {
          "output_type": "stream",
          "name": "stderr",
          "text": [
            "<ipython-input-7-06078e22c772>:27: LangChainDeprecationWarning: LangChain agents will continue to be supported, but it is recommended for new use cases to be built with LangGraph. LangGraph offers a more flexible and full-featured framework for building agents, including support for tool-calling, persistence of state, and human-in-the-loop workflows. For details, refer to the `LangGraph documentation <https://langchain-ai.github.io/langgraph/>`_ as well as guides for `Migrating from AgentExecutor <https://python.langchain.com/docs/how_to/migrate_agent/>`_ and LangGraph's `Pre-built ReAct agent <https://langchain-ai.github.io/langgraph/how-tos/create-react-agent/>`_.\n",
            "  agent = initialize_agent(\n"
          ]
        },
        {
          "output_type": "stream",
          "name": "stdout",
          "text": [
            "\n",
            "\n",
            "\u001b[1m> Entering new AgentExecutor chain...\u001b[0m\n",
            "\u001b[32;1m\u001b[1;3mThought: To find the current stock price of Apple, I need to use the Stock Price tool. I know that the stock symbol for Apple is AAPL. \n",
            "\n",
            "Action: Stock Price\n",
            "Action Input: AAPL\u001b[0m\n",
            "Observation: \u001b[36;1m\u001b[1;3mThe current stock price of AAPL is 232.80\u001b[0m\n",
            "Thought:\u001b[32;1m\u001b[1;3mThought: I now know the final answer\n",
            "Final Answer: The current stock price of Apple is $232.80.\u001b[0m\n",
            "\n",
            "\u001b[1m> Finished chain.\u001b[0m\n",
            "{'input': 'What is the stock price of Apple?', 'output': 'The current stock price of Apple is $232.80.'}\n"
          ]
        }
      ],
      "source": [
        "import yfinance as yf\n",
        "from langchain.agents import AgentType, Tool, initialize_agent\n",
        "\n",
        "# Initialize the LLM\n",
        "llm = ChatGroq(\n",
        "    groq_api_key=os.getenv(\"GROQ_API_KEY\"),\n",
        "    model_name='llama-3.3-70b-versatile',\n",
        "    temperature=0.1\n",
        ")\n",
        "\n",
        "## Define the function to get the stock price\n",
        "def get_stock_price(symbol):\n",
        "    stock = yf.Ticker(symbol)\n",
        "    today_data = stock.history(period='1d')\n",
        "    return f\"The current stock price of {symbol} is {today_data['Close'].iloc[-1]:.2f}\"\n",
        "\n",
        "## Create a tool for the agent to use\n",
        "tools = [\n",
        "    Tool(\n",
        "        name=\"Stock Price\",\n",
        "        func=get_stock_price,\n",
        "        description=\"Use this tool to get the current stock price of a given stock symbol. The input to this tool should be the stock symbol.\"\n",
        "    )\n",
        "]\n",
        "\n",
        "## Initialize the agent\n",
        "agent = initialize_agent(\n",
        "    tools,\n",
        "    llm,\n",
        "    agent=AgentType.ZERO_SHOT_REACT_DESCRIPTION,\n",
        "    verbose=True\n",
        ")\n",
        "\n",
        "response=agent.invoke(\"What is the stock price of Apple?\")\n",
        "print(response)\n"
      ]
    },
    {
      "cell_type": "code",
      "execution_count": null,
      "metadata": {
        "id": "GuUwJmlXbZgj"
      },
      "outputs": [],
      "source": [
        "from langchain_core.tools import tool, StructuredTool\n",
        "from datetime import date\n",
        "\n",
        "@tool\n",
        "def company_information(ticker: str) -> dict:\n",
        "    \"\"\"Use this tool to retrieve company information like address, industry, sector, company officers, business summary, website,\n",
        "       marketCap, current price, ebitda, total debt, total revenue, debt-to-equity, etc.\"\"\"\n",
        "\n",
        "    ticker_obj = yf.Ticker(ticker)\n",
        "    ticker_info = ticker_obj.get_info()\n",
        "\n",
        "    return ticker_info\n",
        "\n",
        "@tool\n",
        "def last_dividend_and_earnings_date(ticker: str) -> dict:\n",
        "    \"\"\"\n",
        "    Use this tool to retrieve company's last dividend date and earnings release dates.\n",
        "    It does not provide information about historical dividend yields.\n",
        "    \"\"\"\n",
        "    ticker_obj = yf.Ticker(ticker)\n",
        "\n",
        "    return ticker_obj.get_calendar()\n",
        "\n",
        "@tool\n",
        "def summary_of_mutual_fund_holders(ticker: str) -> dict:\n",
        "    \"\"\"\n",
        "    Use this tool to retrieve company's top mutual fund holders.\n",
        "    It also returns their percentage of share, stock count and value of holdings.\n",
        "    \"\"\"\n",
        "    ticker_obj = yf.Ticker(ticker)\n",
        "    mf_holders = ticker_obj.get_mutualfund_holders()\n",
        "\n",
        "    return mf_holders.to_dict(orient=\"records\")\n",
        "\n",
        "@tool\n",
        "def summary_of_institutional_holders(ticker: str) -> dict:\n",
        "    \"\"\"\n",
        "    Use this tool to retrieve company's top institutional holders.\n",
        "    It also returns their percentage of share, stock count and value of holdings.\n",
        "    \"\"\"\n",
        "    ticker_obj = yf.Ticker(ticker)\n",
        "    inst_holders = ticker_obj.get_institutional_holders()\n",
        "\n",
        "    return inst_holders.to_dict(orient=\"records\")\n",
        "\n",
        "@tool\n",
        "def stock_grade_updrages_downgrades(ticker: str) -> dict:\n",
        "    \"\"\"\n",
        "    Use this to retrieve grade ratings upgrades and downgrades details of particular stock.\n",
        "    It'll provide name of firms along with 'To Grade' and 'From Grade' details. Grade date is also provided.\n",
        "    \"\"\"\n",
        "    ticker_obj = yf.Ticker(ticker)\n",
        "\n",
        "    curr_year = date.today().year\n",
        "\n",
        "    upgrades_downgrades = ticker_obj.get_upgrades_downgrades()\n",
        "    upgrades_downgrades = upgrades_downgrades.loc[upgrades_downgrades.index > f\"{curr_year}-01-01\"]\n",
        "    upgrades_downgrades = upgrades_downgrades[upgrades_downgrades[\"Action\"].isin([\"up\", \"down\"])]\n",
        "\n",
        "    return upgrades_downgrades.to_dict(orient=\"records\")\n",
        "\n",
        "@tool\n",
        "def stock_splits_history(ticker: str) -> dict:\n",
        "    \"\"\"\n",
        "    Use this tool to retrieve company's historical stock splits data.\n",
        "    \"\"\"\n",
        "    ticker_obj = yf.Ticker(ticker)\n",
        "    hist_splits = ticker_obj.get_splits()\n",
        "\n",
        "    return hist_splits.to_dict()\n",
        "\n",
        "@tool\n",
        "def stock_news(ticker: str) -> dict:\n",
        "    \"\"\"\n",
        "    Use this to retrieve latest news articles discussing particular stock ticker.\n",
        "    \"\"\"\n",
        "    ticker_obj = yf.Ticker(ticker)\n",
        "\n",
        "    return ticker_obj.get_news()"
      ]
    },
    {
      "cell_type": "code",
      "source": [],
      "metadata": {
        "id": "sg894h3Uec1e"
      },
      "execution_count": null,
      "outputs": []
    },
    {
      "cell_type": "code",
      "execution_count": null,
      "metadata": {
        "colab": {
          "base_uri": "https://localhost:8080/"
        },
        "id": "m9l9qZYGbZgk",
        "outputId": "bcc94264-9c73-457a-d84e-f192bd51309a"
      },
      "outputs": [
        {
          "output_type": "stream",
          "name": "stdout",
          "text": [
            "\n",
            "\n",
            "\u001b[1m> Entering new AgentExecutor chain...\u001b[0m\n"
          ]
        },
        {
          "output_type": "stream",
          "name": "stderr",
          "text": [
            "<ipython-input-9-6a1aa32b9cd0>:58: LangChainDeprecationWarning: The method `Chain.run` was deprecated in langchain 0.1.0 and will be removed in 1.0. Use :meth:`~invoke` instead.\n",
            "  response = finance_agent.run(query)\n"
          ]
        },
        {
          "output_type": "stream",
          "name": "stdout",
          "text": [
            "\u001b[32;1m\u001b[1;3mTo get Apple's company information and its current stock price, I need to use the company_information tool and the Stock Price tool. \n",
            "\n",
            "Action: company_information\n",
            "Action Input: Apple\u001b[0m"
          ]
        },
        {
          "output_type": "stream",
          "name": "stderr",
          "text": [
            "ERROR:yfinance:404 Client Error: Not Found for url: https://query2.finance.yahoo.com/v10/finance/quoteSummary/APPLE?modules=financialData%2CquoteType%2CdefaultKeyStatistics%2CassetProfile%2CsummaryDetail&corsDomain=finance.yahoo.com&formatted=false&symbol=APPLE&crumb=c3f2Flytn6j\n"
          ]
        },
        {
          "output_type": "stream",
          "name": "stdout",
          "text": [
            "\n",
            "Observation: \u001b[36;1m\u001b[1;3m{'trailingPegRatio': None}\u001b[0m\n",
            "Thought:\u001b[32;1m\u001b[1;3mIt seems like the observation from the company_information tool is incomplete. Let me try again to get a more complete picture of Apple's company information.\n",
            "\n",
            "Action: company_information\n",
            "Action Input: Apple\u001b[0m"
          ]
        },
        {
          "output_type": "stream",
          "name": "stderr",
          "text": [
            "ERROR:yfinance:404 Client Error: Not Found for url: https://query2.finance.yahoo.com/v10/finance/quoteSummary/APPLE?modules=financialData%2CquoteType%2CdefaultKeyStatistics%2CassetProfile%2CsummaryDetail&corsDomain=finance.yahoo.com&formatted=false&symbol=APPLE&crumb=c3f2Flytn6j\n"
          ]
        },
        {
          "output_type": "stream",
          "name": "stdout",
          "text": [
            "\n",
            "Observation: \u001b[36;1m\u001b[1;3m{'trailingPegRatio': None}\u001b[0m\n",
            "Thought:\u001b[32;1m\u001b[1;3mIt seems like the observation from the company_information tool is still incomplete. Let me try again to get a more complete picture of Apple's company information.\n",
            "\n",
            "Action: company_information\n",
            "Action Input: Apple\u001b[0m"
          ]
        },
        {
          "output_type": "stream",
          "name": "stderr",
          "text": [
            "ERROR:yfinance:404 Client Error: Not Found for url: https://query2.finance.yahoo.com/v10/finance/quoteSummary/APPLE?modules=financialData%2CquoteType%2CdefaultKeyStatistics%2CassetProfile%2CsummaryDetail&corsDomain=finance.yahoo.com&formatted=false&symbol=APPLE&crumb=c3f2Flytn6j\n"
          ]
        },
        {
          "output_type": "stream",
          "name": "stdout",
          "text": [
            "\n",
            "Observation: \u001b[36;1m\u001b[1;3m{'trailingPegRatio': None}\u001b[0m\n",
            "Thought:\u001b[32;1m\u001b[1;3mIt seems like the observation from the company_information tool is still incomplete. However, I should also try to get the current stock price of Apple.\n",
            "\n",
            "Action: Stock Price\n",
            "Action Input: AAPL\u001b[0m\n",
            "Observation: \u001b[33;1m\u001b[1;3mThe current stock price of AAPL is 232.80\u001b[0m\n",
            "Thought:\u001b[32;1m\u001b[1;3mI now know the final answer\n",
            "Final Answer: The current stock price of Apple (AAPL) is 232.80. However, I was unable to retrieve a complete picture of Apple's company information as the company_information tool returned incomplete observations.\u001b[0m\n",
            "\n",
            "\u001b[1m> Finished chain.\u001b[0m\n",
            "The current stock price of Apple (AAPL) is 232.80. However, I was unable to retrieve a complete picture of Apple's company information as the company_information tool returned incomplete observations.\n"
          ]
        }
      ],
      "source": [
        "from langchain.agents import AgentExecutor, initialize_agent, AgentType\n",
        "from langchain.agents import Tool\n",
        "\n",
        "# Assuming you've already defined your tools and LLM:\n",
        "tools = [\n",
        "    Tool(\n",
        "        name=\"company_information\",\n",
        "        func=company_information,\n",
        "        description=\"Use this tool to retrieve company information like address, industry, sector, company officers, business summary, website, marketCap, current price, ebitda, total debt, total revenue, debt-to-equity, etc.\",\n",
        "    ),\n",
        "    Tool(\n",
        "        name=\"last_dividend_and_earnings_date\",\n",
        "        func=last_dividend_and_earnings_date,\n",
        "        description=\"Use this tool to retrieve company's last dividend date and earnings release dates. It does not provide information about historical dividend yields.\",\n",
        "    ),\n",
        "    Tool(\n",
        "        name=\"stock_splits_history\",\n",
        "        func=stock_splits_history,\n",
        "        description=\"Use this tool to retrieve company's historical stock splits data.\",\n",
        "    ),\n",
        "    Tool(\n",
        "        name=\"summary_of_mutual_fund_holders\",\n",
        "        func=summary_of_mutual_fund_holders,\n",
        "        description=\"Use this tool to retrieve company's top mutual fund holders. It also returns their percentage of share, stock count and value of holdings.\",\n",
        "    ),\n",
        "    Tool(\n",
        "        name=\"summary_of_institutional_holders\",\n",
        "        func=summary_of_institutional_holders,\n",
        "        description=\"Use this tool to retrieve company's top institutional holders. It also returns their percentage of share, stock count and value of holdings.\",\n",
        "    ),\n",
        "    Tool(\n",
        "        name=\"stock_grade_updrages_downgrades\",\n",
        "        func=stock_grade_updrages_downgrades,\n",
        "        description=\"Use this to retrieve grade ratings upgrades and downgrades details of particular stock. It'll provide name of firms along with 'To Grade' and 'From Grade' details. Grade date is also provided.\",\n",
        "    ),\n",
        "    Tool(\n",
        "        name=\"stock_news\",\n",
        "        func=stock_news,\n",
        "        description=\"Use this to retrieve latest news articles discussing particular stock ticker.\",\n",
        "    ),\n",
        "    Tool(\n",
        "        name=\"Stock Price\",\n",
        "        func=get_stock_price,\n",
        "        description=\"Use this tool to get the current stock price of a given stock symbol. The input to this tool should be the stock symbol.\"\n",
        "    )\n",
        "]\n",
        "\n",
        "# Create the financial agent using initialize_agent\n",
        "finance_agent = initialize_agent(\n",
        "    tools=tools,\n",
        "    llm=llm,\n",
        "    agent=AgentType.ZERO_SHOT_REACT_DESCRIPTION,\n",
        "    verbose=True\n",
        ")\n",
        "\n",
        "# Execute the agent\n",
        "query = \"Give me Apple's company information and its current stock price.\"\n",
        "response = finance_agent.run(query)\n",
        "\n",
        "print(response)"
      ]
    },
    {
      "cell_type": "code",
      "source": [
        "query = \"What are ebitda, total debt, total revenue and debt-to-equity for Walmart stock?\"\n",
        "response = finance_agent.run(query)\n",
        "\n",
        "print(response)"
      ],
      "metadata": {
        "colab": {
          "base_uri": "https://localhost:8080/"
        },
        "id": "b7p-7p5neV90",
        "outputId": "a7f4a499-fa69-40e3-8f13-340a765bab23"
      },
      "execution_count": null,
      "outputs": [
        {
          "output_type": "stream",
          "name": "stdout",
          "text": [
            "\n",
            "\n",
            "\u001b[1m> Entering new AgentExecutor chain...\u001b[0m\n",
            "\u001b[32;1m\u001b[1;3mTo find the ebitda, total debt, total revenue, and debt-to-equity for Walmart stock, I need to use the company_information tool. This tool can provide various financial metrics for a given company.\n",
            "\n",
            "Action: company_information\n",
            "Action Input: Walmart\u001b[0m"
          ]
        },
        {
          "output_type": "stream",
          "name": "stderr",
          "text": [
            "ERROR:yfinance:404 Client Error: Not Found for url: https://query2.finance.yahoo.com/v10/finance/quoteSummary/WALMART?modules=financialData%2CquoteType%2CdefaultKeyStatistics%2CassetProfile%2CsummaryDetail&corsDomain=finance.yahoo.com&formatted=false&symbol=WALMART&crumb=c3f2Flytn6j\n"
          ]
        },
        {
          "output_type": "stream",
          "name": "stdout",
          "text": [
            "\n",
            "Observation: \u001b[36;1m\u001b[1;3m{'trailingPegRatio': None}\u001b[0m\n",
            "Thought:\u001b[32;1m\u001b[1;3mIt seems like the observation is not providing the required information. Let me try again with a different approach.\n",
            "\n",
            "Action: company_information\n",
            "Action Input: WMT\u001b[0m\n",
            "Observation: \u001b[36;1m\u001b[1;3m{'address1': '702 South West 8th Street', 'city': 'Bentonville', 'state': 'AR', 'zip': '72716', 'country': 'United States', 'phone': '479-273-4000', 'website': 'https://corporate.walmart.com', 'industry': 'Discount Stores', 'industryKey': 'discount-stores', 'industryDisp': 'Discount Stores', 'sector': 'Consumer Defensive', 'sectorKey': 'consumer-defensive', 'sectorDisp': 'Consumer Defensive', 'longBusinessSummary': \"Walmart Inc. engages in the operation of retail, wholesale, other units, and eCommerce worldwide. The company operates through three segments: Walmart U.S., Walmart International, and Sam's Club. It operates supercenters, supermarkets, hypermarkets, warehouse clubs, cash and carry stores, and discount stores under Walmart and Walmart Neighborhood Market brands; membership-only warehouse clubs; ecommerce websites, such as walmart.com.mx, walmart.ca, flipkart.com, PhonePe and other sites; and mobile commerce applications. The company offers grocery and consumables, including dairy, meat, bakery, deli, produce, dry, chilled or frozen packaged foods, alcoholic and nonalcoholic beverages, floral, snack foods, candy, other grocery items, health and beauty aids, paper goods, laundry and home care, baby care, pet supplies, and other consumable items; fuel, tobacco and other categories. It is also involved in the provision of health and wellness products covering pharmacy, optical and hearing services, and over-the-counter drugs and other medical products; and home and apparel including home improvement, outdoor living, gardening, furniture, apparel, jewelry, tools and power equipment, housewares, toys, seasonal items, mattresses and tire and battery centers. In addition, the company offers consumer electronics and accessories, software, video games, office supplies, appliances, and third-party gift cards. Further, it operates digital payment platforms; and offers financial services and related products, including money transfers, bill payments, money orders, check cashing, prepaid access, co-branded credit cards, installment lending, and earned wage access. Additionally, the company markets lines of merchandise under private brands, including Allswell, Athletic Works, Equate, and Free Assembly. The company was formerly known as Wal-Mart Stores, Inc. and changed its name to Walmart Inc. in February 2018. Walmart Inc. was founded in 1945 and is based in Bentonville, Arkansas.\", 'fullTimeEmployees': 2100000, 'companyOfficers': [{'maxAge': 1, 'name': 'Mr. C. Douglas McMillon', 'age': 57, 'title': 'President, CEO & Director', 'yearBorn': 1966, 'fiscalYear': 2024, 'totalPay': 6227063, 'exercisedValue': 0, 'unexercisedValue': 0}, {'maxAge': 1, 'name': 'Mr. John David Rainey', 'age': 52, 'title': 'Executive VP & CFO', 'yearBorn': 1971, 'fiscalYear': 2024, 'totalPay': 4111259, 'exercisedValue': 0, 'unexercisedValue': 0}, {'maxAge': 1, 'name': 'Mr. Suresh  Kumar Ph.D.', 'age': 58, 'title': 'Global CTO, Chief Development Officer & Executive VP', 'yearBorn': 1965, 'fiscalYear': 2024, 'totalPay': 3661025, 'exercisedValue': 0, 'unexercisedValue': 0}, {'maxAge': 1, 'name': 'Mr. John R. Furner', 'age': 48, 'title': 'Executive VP, CEO & President of Walmart US', 'yearBorn': 1975, 'fiscalYear': 2024, 'totalPay': 4531771, 'exercisedValue': 0, 'unexercisedValue': 0}, {'maxAge': 1, 'name': 'Ms. Kathryn J. McLay', 'age': 49, 'title': 'Executive VP, President & CEO of Walmart International,', 'yearBorn': 1974, 'fiscalYear': 2024, 'totalPay': 3341439, 'exercisedValue': 0, 'unexercisedValue': 0}, {'maxAge': 1, 'name': 'Mr. Christopher  Nicholas', 'age': 45, 'title': \"Executive VP, President & CEO of Sam's Club U.S.\", 'yearBorn': 1978, 'fiscalYear': 2024, 'totalPay': 2304533, 'exercisedValue': 0, 'unexercisedValue': 0}, {'maxAge': 1, 'name': 'Ms. Stephanie  Wissink', 'title': 'Senior Vice President of Investor Relations', 'fiscalYear': 2024, 'exercisedValue': 0, 'unexercisedValue': 0}, {'maxAge': 1, 'name': 'Ms. Rachel L. Brand J.D.', 'age': 49, 'title': 'Executive VP of Global Governance, Chief Legal Officer & Corporate Secretary', 'yearBorn': 1974, 'fiscalYear': 2024, 'exercisedValue': 0, 'unexercisedValue': 0}, {'maxAge': 1, 'name': 'Mr. Matthew  Miner', 'title': 'Executive VP and Global Chief Ethics & Compliance Officer', 'fiscalYear': 2024, 'exercisedValue': 0, 'unexercisedValue': 0}, {'maxAge': 1, 'name': 'Ms. Allyson  Park', 'title': 'Chief Communications Officer', 'fiscalYear': 2024, 'exercisedValue': 0, 'unexercisedValue': 0}], 'auditRisk': 8, 'boardRisk': 8, 'compensationRisk': 6, 'shareHolderRightsRisk': 1, 'overallRisk': 3, 'governanceEpochDate': 1730419200, 'compensationAsOfEpochDate': 1735603200, 'maxAge': 86400, 'priceHint': 2, 'previousClose': 99.54, 'open': 99.97, 'dayLow': 99.69, 'dayHigh': 100.945, 'regularMarketPreviousClose': 99.54, 'regularMarketOpen': 99.97, 'regularMarketDayLow': 99.69, 'regularMarketDayHigh': 100.945, 'dividendRate': 0.83, 'dividendYield': 0.0099, 'exDividendDate': 1733961600, 'payoutRatio': 0.4141, 'fiveYearAvgDividendYield': 1.52, 'beta': 0.516, 'trailingPE': 41.13061, 'forwardPE': 36.482582, 'volume': 12285996, 'regularMarketVolume': 12285996, 'averageVolume': 17124272, 'averageVolume10days': 16064460, 'averageDailyVolume10Day': 16064460, 'bid': 100.75, 'ask': 101.0, 'bidSize': 1000, 'askSize': 1000, 'marketCap': 809524723712, 'fiftyTwoWeekLow': 55.84667, 'fiftyTwoWeekHigh': 100.945, 'priceToSalesTrailing12Months': 1.2172663, 'fiftyDayAverage': 92.942, 'twoHundredDayAverage': 77.3561, 'currency': 'USD', 'enterpriseValue': 736540164096, 'profitMargins': 0.02339, 'floatShares': 4355767546, 'sharesOutstanding': 8033390080, 'sharesShort': 31701110, 'sharesShortPriorMonth': 31120121, 'sharesShortPreviousMonthDate': 1727654400, 'dateShortInterest': 1730332800, 'sharesPercentSharesOut': 0.0039, 'heldPercentInsiders': 0.46383998, 'heldPercentInstitutions': 0.35561, 'shortRatio': 2.59, 'shortPercentOfFloat': 0.0074, 'impliedSharesOutstanding': 8073489920, 'bookValue': 10.412, 'priceToBook': 9.678256, 'lastFiscalYearEnd': 1706659200, 'nextFiscalYearEnd': 1738281600, 'mostRecentQuarter': 1722384000, 'earningsQuarterlyGrowth': -0.43, 'netIncomeToCommon': 15552000000, 'trailingEps': 2.45, 'forwardEps': 2.72, 'lastSplitFactor': '3:1', 'lastSplitDate': 1708905600, 'enterpriseToRevenue': 1.108, 'enterpriseToEbitda': 18.062, '52WeekChange': 0.763018, 'SandP52WeekChange': 0.2000997, 'lastDividendValue': 0.208, 'lastDividendDate': 1734048000, 'exchange': 'NYQ', 'quoteType': 'EQUITY', 'symbol': 'WMT', 'underlyingSymbol': 'WMT', 'shortName': 'Walmart Inc.', 'longName': 'Walmart Inc.', 'firstTradeDateEpochUtc': 83597400, 'timeZoneFullName': 'America/New_York', 'timeZoneShortName': 'EST', 'uuid': '902d429a-38af-3903-a1d7-3374c3560928', 'messageBoardId': 'finmb_313055', 'gmtOffSetMilliseconds': -18000000, 'currentPrice': 100.77, 'targetHighPrice': 115.0, 'targetLowPrice': 58.0, 'targetMeanPrice': 100.71921, 'targetMedianPrice': 100.0, 'recommendationMean': 1.54762, 'recommendationKey': 'buy', 'numberOfAnalystOpinions': 38, 'totalCash': 8810999808, 'totalCashPerShare': 1.096, 'ebitda': 40779001856, 'totalDebt': 63146000384, 'quickRatio': 0.183, 'currentRatio': 0.803, 'totalRevenue': 665035014144, 'debtToEquity': 69.566, 'revenuePerShare': 82.505, 'returnOnAssets': 0.069510005, 'returnOnEquity': 0.18531999, 'grossProfits': 163785998336, 'freeCashflow': 7701374976, 'operatingCashflow': 33881999360, 'earningsGrowth': -0.423, 'revenueGrowth': 0.048, 'grossMargins': 0.24628, 'ebitdaMargins': 0.06132, 'operatingMargins': 0.04689, 'financialCurrency': 'USD', 'trailingPegRatio': 2.9984}\u001b[0m\n",
            "Thought:\u001b[32;1m\u001b[1;3mI now have the required information. The observation contains the ebitda, total debt, total revenue, and debt-to-equity for Walmart stock.\n",
            "\n",
            "Final Answer: The ebitda for Walmart stock is $40,779,001,856, the total debt is $63,146,000,384, the total revenue is $665,035,014,144, and the debt-to-equity is 69.566.\u001b[0m\n",
            "\n",
            "\u001b[1m> Finished chain.\u001b[0m\n",
            "The ebitda for Walmart stock is $40,779,001,856, the total debt is $63,146,000,384, the total revenue is $665,035,014,144, and the debt-to-equity is 69.566.\n"
          ]
        }
      ]
    },
    {
      "cell_type": "code",
      "source": [
        "# Create a dummy portfolio of 5 stocks\n",
        "portfolio = {\n",
        "    'AAPL': 50,  # Apple\n",
        "    'MSFT': 30,  # Microsoft\n",
        "    'GOOGL': 20, # Alphabet (Google)\n",
        "    'AMZN': 15,  # Amazon\n",
        "    'NVDA': 25   # NVIDIA\n",
        "}\n",
        "\n",
        "# Function to analyze a single stock\n",
        "def analyze_stock(ticker: str, shares: int):\n",
        "    # Added a try-except block to handle potential API errors\n",
        "    try:\n",
        "        response = finance_agent.run(f\"Provide a brief analysis of {ticker} including current price, P/E ratio, and recent performance.\")\n",
        "        return f\"{ticker} ({shares} shares): {response}\"\n",
        "    except Exception as e:\n",
        "        print(f\"Error analyzing {ticker}: {e}\")  # Print error message for debugging\n",
        "        return f\"{ticker} ({shares} shares): Analysis failed.\"\n",
        "\n",
        "# Function to analyze the entire portfolio\n",
        "def analyze_portfolio(portfolio: dict):\n",
        "    analysis = []\n",
        "    total_value = 0\n",
        "\n",
        "    for ticker, shares in portfolio.items():\n",
        "        stock_analysis = analyze_stock(ticker, shares)\n",
        "        analysis.append(stock_analysis)\n",
        "\n",
        "        # Get current price to calculate portfolio value\n",
        "        # Added a try-except block to handle potential API errors\n",
        "        try:\n",
        "            price_response = finance_agent.run(f\"What is the current stock price of {ticker}?\")\n",
        "            price = float(price_response.split('$')[1].split()[0])\n",
        "            total_value += price * shares\n",
        "        except Exception as e:\n",
        "            print(f\"Could not parse price for {ticker}: {e}\") # Print error message for debugging\n",
        "\n",
        "    return analysis, total_value\n",
        "\n",
        "# Analyze the portfolio\n",
        "print(\"Analyzing portfolio...\")\n",
        "stock_analyses, portfolio_value = analyze_portfolio(portfolio)\n",
        "\n",
        "# Print the results\n",
        "print(\"\\nPortfolio Analysis:\")\n",
        "for analysis in stock_analyses:\n",
        "    print(analysis)\n",
        "    print(\"-\" * 50)"
      ],
      "metadata": {
        "colab": {
          "base_uri": "https://localhost:8080/"
        },
        "id": "cyug34thhonr",
        "outputId": "53e1ca23-a451-444d-d9d4-4a77d2b6b681"
      },
      "execution_count": null,
      "outputs": [
        {
          "output_type": "stream",
          "name": "stdout",
          "text": [
            "Analyzing portfolio...\n",
            "\n",
            "\n",
            "\u001b[1m> Entering new AgentExecutor chain...\u001b[0m\n",
            "\u001b[32;1m\u001b[1;3mTo provide a brief analysis of AAPL, I need to gather information about the company's current price, financial metrics such as the P/E ratio, and its recent performance. \n",
            "\n",
            "Action: Stock Price\n",
            "Action Input: AAPL\u001b[0m\n",
            "Observation: \u001b[33;1m\u001b[1;3mThe current stock price of AAPL is 232.80\u001b[0m\n",
            "Thought:\u001b[32;1m\u001b[1;3mTo calculate the P/E ratio, I need to know the company's current earnings per share (EPS). The P/E ratio is calculated by dividing the current stock price by the EPS. I can use the company_information tool to retrieve the EPS and other relevant financial metrics.\n",
            "\n",
            "Action: company_information\n",
            "Action Input: AAPL\u001b[0m\n",
            "Observation: \u001b[36;1m\u001b[1;3m{'address1': 'One Apple Park Way', 'city': 'Cupertino', 'state': 'CA', 'zip': '95014', 'country': 'United States', 'phone': '(408) 996-1010', 'website': 'https://www.apple.com', 'industry': 'Consumer Electronics', 'industryKey': 'consumer-electronics', 'industryDisp': 'Consumer Electronics', 'sector': 'Technology', 'sectorKey': 'technology', 'sectorDisp': 'Technology', 'longBusinessSummary': 'Apple Inc. designs, manufactures, and markets smartphones, personal computers, tablets, wearables, and accessories worldwide. The company offers iPhone, a line of smartphones; Mac, a line of personal computers; iPad, a line of multi-purpose tablets; and wearables, home, and accessories comprising AirPods, Apple TV, Apple Watch, Beats products, and HomePod. It also provides AppleCare support and cloud services; and operates various platforms, including the App Store that allow customers to discover and download applications and digital content, such as books, music, video, games, and podcasts, as well as advertising services include third-party licensing arrangements and its own advertising platforms. In addition, the company offers various subscription-based services, such as Apple Arcade, a game subscription service; Apple Fitness+, a personalized fitness service; Apple Music, which offers users a curated listening experience with on-demand radio stations; Apple News+, a subscription news and magazine service; Apple TV+, which offers exclusive original content; Apple Card, a co-branded credit card; and Apple Pay, a cashless payment service, as well as licenses its intellectual property. The company serves consumers, and small and mid-sized businesses; and the education, enterprise, and government markets. It distributes third-party applications for its products through the App Store. The company also sells its products through its retail and online stores, and direct sales force; and third-party cellular network carriers, wholesalers, retailers, and resellers. Apple Inc. was founded in 1976 and is headquartered in Cupertino, California.', 'fullTimeEmployees': 164000, 'companyOfficers': [{'maxAge': 1, 'name': 'Mr. Timothy D. Cook', 'age': 63, 'title': 'CEO & Director', 'yearBorn': 1961, 'fiscalYear': 2023, 'totalPay': 16239562, 'exercisedValue': 0, 'unexercisedValue': 0}, {'maxAge': 1, 'name': 'Mr. Jeffrey E. Williams', 'age': 60, 'title': 'Chief Operating Officer', 'yearBorn': 1964, 'fiscalYear': 2023, 'totalPay': 4637585, 'exercisedValue': 0, 'unexercisedValue': 0}, {'maxAge': 1, 'name': 'Ms. Katherine L. Adams', 'age': 60, 'title': 'Senior VP, General Counsel & Secretary', 'yearBorn': 1964, 'fiscalYear': 2023, 'totalPay': 4618064, 'exercisedValue': 0, 'unexercisedValue': 0}, {'maxAge': 1, 'name': \"Ms. Deirdre  O'Brien\", 'age': 57, 'title': 'Chief People Officer & Senior VP of Retail', 'yearBorn': 1967, 'fiscalYear': 2023, 'totalPay': 4613369, 'exercisedValue': 0, 'unexercisedValue': 0}, {'maxAge': 1, 'name': 'Mr. Kevan  Parekh', 'age': 52, 'title': 'Senior VP & CFO', 'yearBorn': 1972, 'fiscalYear': 2023, 'exercisedValue': 0, 'unexercisedValue': 0}, {'maxAge': 1, 'name': 'Suhasini  Chandramouli', 'title': 'Director of Investor Relations', 'fiscalYear': 2023, 'exercisedValue': 0, 'unexercisedValue': 0}, {'maxAge': 1, 'name': 'Mr. Greg  Joswiak', 'title': 'Senior Vice President of Worldwide Marketing', 'fiscalYear': 2023, 'exercisedValue': 0, 'unexercisedValue': 0}, {'maxAge': 1, 'name': 'Mr. Michael  Fenger', 'title': 'VP of Worldwide Sales', 'fiscalYear': 2023, 'exercisedValue': 0, 'unexercisedValue': 0}, {'maxAge': 1, 'name': 'Mr. Ron  Okamoto', 'title': 'Head of Developer Relations', 'fiscalYear': 2023, 'exercisedValue': 0, 'unexercisedValue': 0}, {'maxAge': 1, 'name': 'Mr. Eduardo H. Cue', 'age': 60, 'title': 'Senior Vice President of Services', 'yearBorn': 1964, 'fiscalYear': 2023, 'totalPay': 2807461, 'exercisedValue': 0, 'unexercisedValue': 0}], 'auditRisk': 3, 'boardRisk': 1, 'compensationRisk': 3, 'shareHolderRightsRisk': 1, 'overallRisk': 1, 'governanceEpochDate': 1735689600, 'compensationAsOfEpochDate': 1703980800, 'irWebsite': 'http://investor.apple.com/', 'maxAge': 86400, 'priceHint': 2, 'previousClose': 228.01, 'open': 227.2, 'dayLow': 226.65, 'dayHigh': 233.13, 'regularMarketPreviousClose': 228.01, 'regularMarketOpen': 227.2, 'regularMarketDayLow': 226.65, 'regularMarketDayHigh': 233.13, 'dividendRate': 1.0, 'dividendYield': 0.0042, 'exDividendDate': 1731024000, 'payoutRatio': 0.1571, 'fiveYearAvgDividendYield': 0.61, 'beta': 1.24, 'trailingPE': 36.205288, 'forwardPE': 28.1917, 'volume': 44489128, 'regularMarketVolume': 44489128, 'averageVolume': 50922240, 'averageVolume10days': 72281640, 'averageDailyVolume10Day': 72281640, 'bid': 232.22, 'ask': 243.27, 'bidSize': 600, 'askSize': 100, 'marketCap': 3497145139200, 'fiftyTwoWeekLow': 164.08, 'fiftyTwoWeekHigh': 260.1, 'priceToSalesTrailing12Months': 8.943305, 'fiftyDayAverage': 240.2278, 'twoHundredDayAverage': 219.98755, 'currency': 'USD', 'enterpriseValue': 3645256499200, 'profitMargins': 0.23971, 'floatShares': 15091184209, 'sharesOutstanding': 15022100480, 'sharesShort': 135189465, 'sharesShortPriorMonth': 156458273, 'sharesShortPreviousMonthDate': 1734048000, 'dateShortInterest': 1736899200, 'sharesPercentSharesOut': 0.009, 'heldPercentInsiders': 0.020669999, 'heldPercentInstitutions': 0.62310004, 'shortRatio': 2.74, 'shortPercentOfFloat': 0.009, 'impliedSharesOutstanding': 15139200000, 'bookValue': 3.767, 'priceToBook': 61.799843, 'lastFiscalYearEnd': 1727481600, 'nextFiscalYearEnd': 1759017600, 'mostRecentQuarter': 1727481600, 'earningsQuarterlyGrowth': -0.358, 'netIncomeToCommon': 93736001536, 'trailingEps': 6.43, 'forwardEps': 8.31, 'lastSplitFactor': '4:1', 'lastSplitDate': 1598832000, 'enterpriseToRevenue': 9.322, 'enterpriseToEbitda': 27.07, '52WeekChange': 0.20379066, 'SandP52WeekChange': 0.2000997, 'lastDividendValue': 0.25, 'lastDividendDate': 1731024000, 'exchange': 'NMS', 'quoteType': 'EQUITY', 'symbol': 'AAPL', 'underlyingSymbol': 'AAPL', 'shortName': 'Apple Inc.', 'longName': 'Apple Inc.', 'firstTradeDateEpochUtc': 345479400, 'timeZoneFullName': 'America/New_York', 'timeZoneShortName': 'EST', 'uuid': '8b10e4ae-9eeb-3684-921a-9ab27e4d87aa', 'messageBoardId': 'finmb_24937', 'gmtOffSetMilliseconds': -18000000, 'currentPrice': 232.8, 'targetHighPrice': 325.0, 'targetLowPrice': 197.0, 'targetMeanPrice': 252.2085, 'targetMedianPrice': 257.5, 'recommendationMean': 2.06522, 'recommendationKey': 'buy', 'numberOfAnalystOpinions': 40, 'totalCash': 65171001344, 'totalCashPerShare': 4.311, 'ebitda': 134660997120, 'totalDebt': 119058997248, 'quickRatio': 0.745, 'currentRatio': 0.867, 'totalRevenue': 391034994688, 'debtToEquity': 209.059, 'revenuePerShare': 25.485, 'returnOnAssets': 0.21464, 'returnOnEquity': 1.5741299, 'grossProfits': 180682997760, 'freeCashflow': 110846001152, 'operatingCashflow': 118254002176, 'earningsGrowth': -0.341, 'revenueGrowth': 0.061, 'grossMargins': 0.46206, 'ebitdaMargins': 0.34437, 'operatingMargins': 0.31171, 'financialCurrency': 'USD', 'trailingPegRatio': 2.0876}\u001b[0m\n",
            "Thought:\u001b[32;1m\u001b[1;3mWith the current stock price and the company's financial metrics, I can calculate the P/E ratio and provide a brief analysis of AAPL's recent performance.\n",
            "\n",
            "The current stock price of AAPL is 232.80, and the trailing EPS is 6.43. The P/E ratio can be calculated as follows:\n",
            "\n",
            "P/E ratio = Current Stock Price / Trailing EPS\n",
            "= 232.80 / 6.43\n",
            "= 36.20\n",
            "\n",
            "The company's financial metrics show that it has a market capitalization of 3,497,145,139,200, total revenue of 391,034,994,688, and a debt-to-equity ratio of 209.06. The company's profit margins are 23.97%, and its return on equity is 157.41%.\n",
            "\n",
            "To get a better understanding of the company's recent performance, I can look at the company's stock news.\n",
            "\n",
            "Action: stock_news\n",
            "Action Input: AAPL\u001b[0m\n",
            "Observation: \u001b[36;1m\u001b[1;3m[{'id': 'd7d660c1-354e-4a12-bc1f-4db40f67b43a', 'content': {'id': 'd7d660c1-354e-4a12-bc1f-4db40f67b43a', 'contentType': 'STORY', 'title': 'Alphabet stock gets rocked after cloud computing and spending surprise: What Wall Street is saying', 'description': '', 'summary': \"Alphabet's quarter was mixed, at best.\", 'pubDate': '2025-02-05T10:28:26Z', 'displayTime': '2025-02-05T10:28:26Z', 'isHosted': True, 'bypassModal': False, 'previewUrl': None, 'thumbnail': {'originalUrl': 'https://s.yimg.com/os/creatr-uploaded-images/2025-02/67d85d60-e34b-11ef-9ffb-b5a65ade603d', 'originalWidth': 4500, 'originalHeight': 3000, 'caption': '', 'resolutions': [{'url': 'https://s.yimg.com/uu/api/res/1.2/it43SsaBQHkDG5SwX5Ja2Q--~B/aD0zMDAwO3c9NDUwMDthcHBpZD15dGFjaHlvbg--/https://s.yimg.com/os/creatr-uploaded-images/2025-02/67d85d60-e34b-11ef-9ffb-b5a65ade603d', 'width': 4500, 'height': 3000, 'tag': 'original'}, {'url': 'https://s.yimg.com/uu/api/res/1.2/BhCVIQYhYutXloV..EJZPA--~B/Zmk9c3RyaW07aD0xMjg7dz0xNzA7YXBwaWQ9eXRhY2h5b24-/https://s.yimg.com/os/creatr-uploaded-images/2025-02/67d85d60-e34b-11ef-9ffb-b5a65ade603d', 'width': 170, 'height': 128, 'tag': '170x128'}]}, 'provider': {'displayName': 'Yahoo Finance', 'url': 'http://finance.yahoo.com/'}, 'canonicalUrl': {'url': 'https://finance.yahoo.com/news/alphabet-stock-gets-rocked-after-cloud-computing-and-spending-surprise-what-wall-street-is-saying-102826611.html', 'site': 'finance', 'region': 'US', 'lang': 'en-US'}, 'clickThroughUrl': {'url': 'https://finance.yahoo.com/news/alphabet-stock-gets-rocked-after-cloud-computing-and-spending-surprise-what-wall-street-is-saying-102826611.html', 'site': 'finance', 'region': 'US', 'lang': 'en-US'}, 'metadata': {'editorsPick': True}, 'finance': {'premiumFinance': {'isPremiumNews': False, 'isPremiumFreeNews': False}}, 'storyline': {'storylineItems': [{'content': {'id': 'a60c3142-a4f2-4fbf-8894-ef91c463dfbf', 'contentType': 'STORY', 'isHosted': True, 'title': \"Nvidia sell-off hasn't rocked this bull looking for a nearly 60% pop in the AI darling\", 'thumbnail': {'originalUrl': 'https://s.yimg.com/os/creatr-uploaded-images/2025-02/1e332b30-e30b-11ef-a7dc-4d7beaf27a8e', 'originalWidth': 3600, 'originalHeight': 2400, 'caption': '', 'resolutions': None}, 'provider': {'displayName': 'Yahoo Finance', 'sourceId': 'yahoofinance.com'}, 'previewUrl': None, 'providerContentUrl': '', 'canonicalUrl': {'url': 'https://finance.yahoo.com/news/nvidia-sell-off-hasnt-rocked-this-bull-looking-for-a-nearly-60-pop-in-the-ai-darling-155843344.html'}, 'clickThroughUrl': {'url': 'https://finance.yahoo.com/news/nvidia-sell-off-hasnt-rocked-this-bull-looking-for-a-nearly-60-pop-in-the-ai-darling-155843344.html'}}}, {'content': {'id': '0a71705c-e7f0-4829-904b-99598bcfa542', 'contentType': 'STORY', 'isHosted': True, 'title': \"Microsoft's Bill Gates issues this key reminder to Nvidia bulls\", 'thumbnail': {'originalUrl': 'https://s.yimg.com/os/creatr-uploaded-images/2025-02/a57da760-e2dd-11ef-b7dc-747dea939211', 'originalWidth': 5592, 'originalHeight': 3728, 'caption': '', 'resolutions': None}, 'provider': {'displayName': 'Yahoo Finance', 'sourceId': 'yahoofinance.com'}, 'previewUrl': None, 'providerContentUrl': '', 'canonicalUrl': {'url': 'https://finance.yahoo.com/news/microsofts-bill-gates-issues-this-key-reminder-to-nvidia-bulls-125913525.html'}, 'clickThroughUrl': {'url': 'https://finance.yahoo.com/news/microsofts-bill-gates-issues-this-key-reminder-to-nvidia-bulls-125913525.html'}}}]}}}, {'id': 'e6880271-7981-3ad9-a524-7bc4d5a5fff5', 'content': {'id': 'e6880271-7981-3ad9-a524-7bc4d5a5fff5', 'contentType': 'STORY', 'title': \"China's Potential Probe Into App Store Fees Weighs on Apple Stock\", 'description': '', 'summary': \"China's regulators are weighing a probe into Apple's (AAPL) App Store fees, adding to global scrutiny on the tech giant\", 'pubDate': '2025-02-05T10:44:38Z', 'displayTime': '2025-02-05T10:44:38Z', 'isHosted': True, 'bypassModal': False, 'previewUrl': None, 'thumbnail': {'originalUrl': 'https://media.zenfs.com/en/us.finance.gurufocus/d20a3b67b283824e6c758361da423604', 'originalWidth': 400, 'originalHeight': 400, 'caption': '', 'resolutions': [{'url': 'https://s.yimg.com/uu/api/res/1.2/IQ44q9_Wy6B.Aez9iph9.Q--~B/aD00MDA7dz00MDA7YXBwaWQ9eXRhY2h5b24-/https://media.zenfs.com/en/us.finance.gurufocus/d20a3b67b283824e6c758361da423604', 'width': 400, 'height': 400, 'tag': 'original'}, {'url': 'https://s.yimg.com/uu/api/res/1.2/JZRu0hC.9mTndWaHh5SyuA--~B/Zmk9c3RyaW07aD0xMjg7dz0xNzA7YXBwaWQ9eXRhY2h5b24-/https://media.zenfs.com/en/us.finance.gurufocus/d20a3b67b283824e6c758361da423604', 'width': 170, 'height': 128, 'tag': '170x128'}]}, 'provider': {'displayName': 'GuruFocus.com', 'url': 'http://www.gurufocus.com/'}, 'canonicalUrl': {'url': 'https://finance.yahoo.com/news/chinas-potential-probe-app-store-104438377.html', 'site': 'finance', 'region': 'US', 'lang': 'en-US'}, 'clickThroughUrl': {'url': 'https://finance.yahoo.com/news/chinas-potential-probe-app-store-104438377.html', 'site': 'finance', 'region': 'US', 'lang': 'en-US'}, 'metadata': {'editorsPick': False}, 'finance': {'premiumFinance': {'isPremiumNews': False, 'isPremiumFreeNews': False}}, 'storyline': None}}, {'id': '53f05f09-6714-3246-81df-05ac099d2e84', 'content': {'id': '53f05f09-6714-3246-81df-05ac099d2e84', 'contentType': 'STORY', 'title': 'Apple shares fall premarket after report on policies under China’s antitrust probe', 'description': '', 'summary': \"Investing.com -- Apple Inc's (NASDAQ:AAPL) policies and the fees it charges app developers are under review by China's antitrust watchdog, a move that could potentially become another issue in the ongoing trade war with the United States, Bloomberg reported on Wednesday.\", 'pubDate': '2025-02-05T09:54:17Z', 'displayTime': '2025-02-05T09:54:17Z', 'isHosted': True, 'bypassModal': False, 'previewUrl': None, 'thumbnail': None, 'provider': {'displayName': 'Investing.com', 'url': 'https://www.investing.com/'}, 'canonicalUrl': {'url': 'https://finance.yahoo.com/news/apple-shares-fall-premarket-report-095417191.html', 'site': 'finance', 'region': 'US', 'lang': 'en-US'}, 'clickThroughUrl': {'url': 'https://finance.yahoo.com/news/apple-shares-fall-premarket-report-095417191.html', 'site': 'finance', 'region': 'US', 'lang': 'en-US'}, 'metadata': {'editorsPick': False}, 'finance': {'premiumFinance': {'isPremiumNews': False, 'isPremiumFreeNews': False}}, 'storyline': None}}, {'id': 'b5562d70-d16e-32b9-b6d5-abfb422066b0', 'content': {'id': 'b5562d70-d16e-32b9-b6d5-abfb422066b0', 'contentType': 'STORY', 'title': \"China considers probe into Apple's App Store fees, practices, Bloomberg News reports\", 'description': '', 'summary': \"The development comes a day after China announced a wide range of measures targeting U.S. businesses including Google, farm equipment makers and the owner of fashion brand Calvin Klein, minutes after new U.S. tariffs on Chinese goods took effect.  The country's State Administration for Market Regulation is reviewing Apple's policies, including its up to 30% commission on in-app purchases and restrictions on external payment services and App Stores, the report said.\", 'pubDate': '2025-02-05T09:19:27Z', 'displayTime': '2025-02-05T09:19:27Z', 'isHosted': True, 'bypassModal': False, 'previewUrl': None, 'thumbnail': {'originalUrl': 'https://media.zenfs.com/en/reuters-finance.com/fc44ee6095b7df2bd734db313b27ff1d', 'originalWidth': 800, 'originalHeight': 534, 'caption': '', 'resolutions': [{'url': 'https://s.yimg.com/uu/api/res/1.2/y2QyBgC58sPWn1TpnClU4A--~B/aD01MzQ7dz04MDA7YXBwaWQ9eXRhY2h5b24-/https://media.zenfs.com/en/reuters-finance.com/fc44ee6095b7df2bd734db313b27ff1d', 'width': 800, 'height': 534, 'tag': 'original'}, {'url': 'https://s.yimg.com/uu/api/res/1.2/iEg5kTbFdc4eUjE1yrA6dw--~B/Zmk9c3RyaW07aD0xMjg7dz0xNzA7YXBwaWQ9eXRhY2h5b24-/https://media.zenfs.com/en/reuters-finance.com/fc44ee6095b7df2bd734db313b27ff1d', 'width': 170, 'height': 128, 'tag': '170x128'}]}, 'provider': {'displayName': 'Reuters', 'url': 'http://www.reuters.com/'}, 'canonicalUrl': {'url': 'https://finance.yahoo.com/news/china-mulling-probe-apples-app-091927638.html', 'site': 'finance', 'region': 'US', 'lang': 'en-US'}, 'clickThroughUrl': {'url': 'https://finance.yahoo.com/news/china-mulling-probe-apples-app-091927638.html', 'site': 'finance', 'region': 'US', 'lang': 'en-US'}, 'metadata': {'editorsPick': False}, 'finance': {'premiumFinance': {'isPremiumNews': False, 'isPremiumFreeNews': False}}, 'storyline': None}}, {'id': '9dd75b5e-3d9a-3378-8447-a4f02c00c8d2', 'content': {'id': '9dd75b5e-3d9a-3378-8447-a4f02c00c8d2', 'contentType': 'STORY', 'title': '1 Wall Street Analyst Thinks Apple Stock Is Going to $260. Is It a Buy?', 'description': '', 'summary': \"Apple (NASDAQ: AAPL) is a stock that has frequently delivered for its shareholders and is set to continue doing so deeper into 2025.  A day after Apple unveiled those figures, Evercore ISI's Amit Daryanani reiterated his bullish view on the company's future.  Apple's quarter was essentially in line with the expectations of analysts like Daryanani.\", 'pubDate': '2025-02-05T09:11:00Z', 'displayTime': '2025-02-05T09:11:00Z', 'isHosted': True, 'bypassModal': False, 'previewUrl': None, 'thumbnail': {'originalUrl': 'https://media.zenfs.com/en/motleyfool.com/cbb4b08e5d26010774cc71021308be0d', 'originalWidth': 2122, 'originalHeight': 1412, 'caption': '', 'resolutions': [{'url': 'https://s.yimg.com/uu/api/res/1.2/ZGzLsSLPedTS_fVJGaJbXg--~B/aD0xNDEyO3c9MjEyMjthcHBpZD15dGFjaHlvbg--/https://media.zenfs.com/en/motleyfool.com/cbb4b08e5d26010774cc71021308be0d', 'width': 2122, 'height': 1412, 'tag': 'original'}, {'url': 'https://s.yimg.com/uu/api/res/1.2/cTOH_3erTfeND9RnFecP6g--~B/Zmk9c3RyaW07aD0xMjg7dz0xNzA7YXBwaWQ9eXRhY2h5b24-/https://media.zenfs.com/en/motleyfool.com/cbb4b08e5d26010774cc71021308be0d', 'width': 170, 'height': 128, 'tag': '170x128'}]}, 'provider': {'displayName': 'Motley Fool', 'url': 'http://www.fool.com/'}, 'canonicalUrl': {'url': 'https://www.fool.com/investing/2025/02/05/1-wall-street-analyst-thinks-apple-stock-is-going/?source=eptyholnk0000202&utm_source=yahoo-host-full&utm_medium=feed&utm_campaign=article&referring_guid=245fbfa1-9632-4913-a90a-ce40b5c5a05f', 'site': 'finance', 'region': 'US', 'lang': 'en-US'}, 'clickThroughUrl': {'url': 'https://finance.yahoo.com/news/1-wall-street-analyst-thinks-091100084.html', 'site': 'finance', 'region': 'US', 'lang': 'en-US'}, 'metadata': {'editorsPick': False}, 'finance': {'premiumFinance': {'isPremiumNews': False, 'isPremiumFreeNews': False}}, 'storyline': None}}, {'id': '35b64eb0-0902-3f88-b5b8-770635e93f99', 'content': {'id': '35b64eb0-0902-3f88-b5b8-770635e93f99', 'contentType': 'STORY', 'title': 'How U.S.-China Tariffs Will Work—and What’s in Store for Mexico and Canada', 'description': '', 'summary': 'Uncertainty surrounds the trade war touched off by President Trump’s tariffs. But some of the basics are taking shape.', 'pubDate': '2025-02-04T22:31:00Z', 'displayTime': '2025-02-04T22:31:00Z', 'isHosted': False, 'bypassModal': False, 'previewUrl': 'https://finance.yahoo.com/m/35b64eb0-0902-3f88-b5b8-770635e93f99/how-u-s-china-tariffs-will.html', 'thumbnail': {'originalUrl': 'https://media.zenfs.com/en/wsj.com/7b2c285183be07ca3c4e8242b25a59a8', 'originalWidth': 1200, 'originalHeight': 630, 'caption': '', 'resolutions': [{'url': 'https://s.yimg.com/uu/api/res/1.2/Fwf5HL4GsEGPbDfR3MJBPg--~B/aD02MzA7dz0xMjAwO2FwcGlkPXl0YWNoeW9u/https://media.zenfs.com/en/wsj.com/7b2c285183be07ca3c4e8242b25a59a8', 'width': 1200, 'height': 630, 'tag': 'original'}, {'url': 'https://s.yimg.com/uu/api/res/1.2/c34MZxHLZOfDYN2BBjM9ww--~B/Zmk9c3RyaW07aD0xMjg7dz0xNzA7YXBwaWQ9eXRhY2h5b24-/https://media.zenfs.com/en/wsj.com/7b2c285183be07ca3c4e8242b25a59a8', 'width': 170, 'height': 128, 'tag': '170x128'}]}, 'provider': {'displayName': 'The Wall Street Journal', 'url': 'http://www.wsj.com/'}, 'canonicalUrl': {'url': 'https://www.wsj.com/economy/trade/how-the-u-s-canada-mexico-tariffs-will-workand-what-products-are-targeted-10c80f41?siteid=yhoof2&yptr=yahoo', 'site': 'finance', 'region': 'US', 'lang': 'en-US'}, 'clickThroughUrl': None, 'metadata': {'editorsPick': False}, 'finance': {'premiumFinance': {'isPremiumNews': False, 'isPremiumFreeNews': False}}, 'storyline': None}}, {'id': '4205eaa9-f620-3a0b-a81a-0e82c7c9fd0b', 'content': {'id': '4205eaa9-f620-3a0b-a81a-0e82c7c9fd0b', 'contentType': 'STORY', 'title': 'Magnificent Seven Stocks: Apple, Nvidia Rebound; Alphabet Hits New High Ahead Of Earnings', 'description': '', 'summary': 'Dubbed the Magnificent Seven stocks, Apple, Microsoft, Google parent Alphabet, Amazon.com, Nvidia, Meta Platforms and Tesla lived up to their name in 2024 with solid gains. Starting off 2025, however, performance for these mega-cap stocks has been mixed thus far.', 'pubDate': '2025-02-04T20:27:42Z', 'displayTime': '2025-02-04T20:27:42Z', 'isHosted': False, 'bypassModal': False, 'previewUrl': 'https://finance.yahoo.com/m/4205eaa9-f620-3a0b-a81a-0e82c7c9fd0b/magnificent-seven-stocks-.html', 'thumbnail': {'originalUrl': 'https://media.zenfs.com/en/ibd.com/a7fed94e20175db376f97bc1a5a55a98', 'originalWidth': 1000, 'originalHeight': 511, 'caption': '', 'resolutions': [{'url': 'https://s.yimg.com/uu/api/res/1.2/dLSlIAh8l3kAzlqRGoT1dA--~B/aD01MTE7dz0xMDAwO2FwcGlkPXl0YWNoeW9u/https://media.zenfs.com/en/ibd.com/a7fed94e20175db376f97bc1a5a55a98', 'width': 1000, 'height': 511, 'tag': 'original'}, {'url': 'https://s.yimg.com/uu/api/res/1.2/gaL8PN36Y6tq.yFdz32Isg--~B/Zmk9c3RyaW07aD0xMjg7dz0xNzA7YXBwaWQ9eXRhY2h5b24-/https://media.zenfs.com/en/ibd.com/a7fed94e20175db376f97bc1a5a55a98', 'width': 170, 'height': 128, 'tag': '170x128'}]}, 'provider': {'displayName': \"Investor's Business Daily\", 'url': 'http://www.investors.com/'}, 'canonicalUrl': {'url': 'https://www.investors.com/research/magnificent-seven-stocks-february-2025/?src=A00220&yptr=yahoo', 'site': 'finance', 'region': 'US', 'lang': 'en-US'}, 'clickThroughUrl': None, 'metadata': {'editorsPick': False}, 'finance': {'premiumFinance': {'isPremiumNews': False, 'isPremiumFreeNews': False}}, 'storyline': None}}, {'id': '65b53896-faf4-3a06-9d0d-a63cf3c83192', 'content': {'id': '65b53896-faf4-3a06-9d0d-a63cf3c83192', 'contentType': 'STORY', 'title': 'Dow Jones Stocks: Apple, Nvidia Rally; Amazon Hits New High', 'description': '', 'summary': \"With the Dow Jones Industrial Average looking to add to last year's strong gains, the best Dow Jones stocks to watch in February 2025 are Amazon.com, Apple, Nvidia, Salesforce and Walt Disney. There are clear winners — and losers — at the start of February 2025.\", 'pubDate': '2025-02-04T20:27:33Z', 'displayTime': '2025-02-04T20:27:33Z', 'isHosted': False, 'bypassModal': False, 'previewUrl': 'https://finance.yahoo.com/m/65b53896-faf4-3a06-9d0d-a63cf3c83192/dow-jones-stocks-apple-.html', 'thumbnail': {'originalUrl': 'https://media.zenfs.com/en/ibd.com/24d87b91faaf95c8cddaf456bf6f8805', 'originalWidth': 1000, 'originalHeight': 511, 'caption': '', 'resolutions': [{'url': 'https://s.yimg.com/uu/api/res/1.2/lkXEWREueqjDGYNJUaamkQ--~B/aD01MTE7dz0xMDAwO2FwcGlkPXl0YWNoeW9u/https://media.zenfs.com/en/ibd.com/24d87b91faaf95c8cddaf456bf6f8805', 'width': 1000, 'height': 511, 'tag': 'original'}, {'url': 'https://s.yimg.com/uu/api/res/1.2/ueFXdJUJdZ_yfw7SzYL4OA--~B/Zmk9c3RyaW07aD0xMjg7dz0xNzA7YXBwaWQ9eXRhY2h5b24-/https://media.zenfs.com/en/ibd.com/24d87b91faaf95c8cddaf456bf6f8805', 'width': 170, 'height': 128, 'tag': '170x128'}]}, 'provider': {'displayName': \"Investor's Business Daily\", 'url': 'http://www.investors.com/'}, 'canonicalUrl': {'url': 'https://www.investors.com/research/dow-jones-stocks-february-2025/?src=A00220&yptr=yahoo', 'site': 'finance', 'region': 'US', 'lang': 'en-US'}, 'clickThroughUrl': None, 'metadata': {'editorsPick': False}, 'finance': {'premiumFinance': {'isPremiumNews': False, 'isPremiumFreeNews': False}}, 'storyline': None}}, {'id': '29621804-6677-3248-8adf-49fedc4b85a3', 'content': {'id': '29621804-6677-3248-8adf-49fedc4b85a3', 'contentType': 'STORY', 'title': 'Globalstar, Inc. (GSAT): One of January’s Biggest Losers', 'description': '', 'summary': 'We recently published a list of 15 Stocks That Took a Nosedive in January. In this article, we are going to take a look at where Globalstar, Inc. (NYSE:GSAT) stands against other stocks that took a nosedive in January. Historically, the S&P 500’s performance in January sets the pace for the rest of the year. […]', 'pubDate': '2025-02-04T20:24:21Z', 'displayTime': '2025-02-04T20:24:21Z', 'isHosted': True, 'bypassModal': False, 'previewUrl': None, 'thumbnail': {'originalUrl': 'https://media.zenfs.com/en/insidermonkey.com/8ebd0f5a3f60df2e7c43d6843345789c', 'originalWidth': 1456, 'originalHeight': 816, 'caption': 'Is Globalstar, Inc. (GSAT) Among the Stocks That Took a Nosedive in January?', 'resolutions': [{'url': 'https://s.yimg.com/uu/api/res/1.2/gTn_zpKIPLoSDqZGMrVoWw--~B/aD04MTY7dz0xNDU2O2FwcGlkPXl0YWNoeW9u/https://media.zenfs.com/en/insidermonkey.com/8ebd0f5a3f60df2e7c43d6843345789c', 'width': 1456, 'height': 816, 'tag': 'original'}, {'url': 'https://s.yimg.com/uu/api/res/1.2/1nMj0ODbuWxBx6FX02_mKQ--~B/Zmk9c3RyaW07aD0xMjg7dz0xNzA7YXBwaWQ9eXRhY2h5b24-/https://media.zenfs.com/en/insidermonkey.com/8ebd0f5a3f60df2e7c43d6843345789c', 'width': 170, 'height': 128, 'tag': '170x128'}]}, 'provider': {'displayName': 'Insider Monkey', 'url': 'http://www.insidermonkey.com'}, 'canonicalUrl': {'url': 'https://finance.yahoo.com/news/globalstar-inc-gsat-one-january-202421682.html', 'site': 'finance', 'region': 'US', 'lang': 'en-US'}, 'clickThroughUrl': {'url': 'https://finance.yahoo.com/news/globalstar-inc-gsat-one-january-202421682.html', 'site': 'finance', 'region': 'US', 'lang': 'en-US'}, 'metadata': {'editorsPick': False}, 'finance': {'premiumFinance': {'isPremiumNews': False, 'isPremiumFreeNews': False}}, 'storyline': None}}, {'id': '95cc455b-d3f0-3e88-bbee-1b31c0dab989', 'content': {'id': '95cc455b-d3f0-3e88-bbee-1b31c0dab989', 'contentType': 'STORY', 'title': 'New Tariffs Could Push iPhone Prices Higher.\\xa0How a Trade War Could Play Out for Tech Devices.', 'description': '', 'summary': '“I think the time frame for the permanent price escalation is after six to 12 months,” says one analyst', 'pubDate': '2025-02-04T19:09:00Z', 'displayTime': '2025-02-04T19:09:00Z', 'isHosted': False, 'bypassModal': False, 'previewUrl': 'https://finance.yahoo.com/m/95cc455b-d3f0-3e88-bbee-1b31c0dab989/new-tariffs-could-push-iphone.html', 'thumbnail': {'originalUrl': 'https://media.zenfs.com/en/Barrons.com/12ea0f43d8f8307249a68d1cb2e0587e', 'originalWidth': 320, 'originalHeight': 65, 'caption': '', 'resolutions': [{'url': 'https://s.yimg.com/uu/api/res/1.2/_kc6REYMS1JrAuV5bYtjfA--~B/aD02NTt3PTMyMDthcHBpZD15dGFjaHlvbg--/https://media.zenfs.com/en/Barrons.com/12ea0f43d8f8307249a68d1cb2e0587e', 'width': 320, 'height': 65, 'tag': 'original'}, {'url': 'https://s.yimg.com/uu/api/res/1.2/Eugzn1_7mDocWpeqoc2fFg--~B/Zmk9c3RyaW07aD0xMjg7dz0xNzA7YXBwaWQ9eXRhY2h5b24-/https://media.zenfs.com/en/Barrons.com/12ea0f43d8f8307249a68d1cb2e0587e', 'width': 170, 'height': 128, 'tag': '170x128'}]}, 'provider': {'displayName': 'Barrons.com', 'url': 'http://www.barrons.com/'}, 'canonicalUrl': {'url': 'https://www.barrons.com/articles/tariffs-china-prices-apple-iphone-smartphones-pc-585f1920?siteid=yhoof2&yptr=yahoo', 'site': 'finance', 'region': 'US', 'lang': 'en-US'}, 'clickThroughUrl': None, 'metadata': {'editorsPick': False}, 'finance': {'premiumFinance': {'isPremiumNews': False, 'isPremiumFreeNews': False}}, 'storyline': None}}]\u001b[0m\n",
            "Thought:Error analyzing AAPL: Error code: 429 - {'error': {'message': 'Rate limit reached for model `llama-3.3-70b-versatile` in organization `org_01jh5v7gppe9v87wk0ntmd6k1a` service tier `on_demand` on : Limit 100000, Used 95076, Requested 7665. Please try again in 39m27.842s. Visit https://console.groq.com/docs/rate-limits for more information.', 'type': '', 'code': 'rate_limit_exceeded'}}\n",
            "\n",
            "\n",
            "\u001b[1m> Entering new AgentExecutor chain...\u001b[0m\n",
            "\u001b[32;1m\u001b[1;3mTo find the current stock price of AAPL, I need to use a tool that provides real-time or current stock prices.\n",
            "\n",
            "Action: Stock Price\n",
            "Action Input: AAPL\u001b[0m\n",
            "Observation: \u001b[33;1m\u001b[1;3mThe current stock price of AAPL is 232.80\u001b[0m\n",
            "Thought:\u001b[32;1m\u001b[1;3mThought: I now know the final answer\n",
            "Final Answer: The current stock price of AAPL is 232.80\u001b[0m\n",
            "\n",
            "\u001b[1m> Finished chain.\u001b[0m\n",
            "Could not parse price for AAPL: list index out of range\n",
            "\n",
            "\n",
            "\u001b[1m> Entering new AgentExecutor chain...\u001b[0m\n",
            "\u001b[32;1m\u001b[1;3mTo provide a brief analysis of MSFT, I need to gather information about the company's current price, financial metrics, and recent performance. \n",
            "\n",
            "Action: Stock Price\n",
            "Action Input: MSFT\u001b[0m\n",
            "Observation: \u001b[33;1m\u001b[1;3mThe current stock price of MSFT is 412.37\u001b[0m\n",
            "Thought:\u001b[32;1m\u001b[1;3mNow that I have the current stock price of MSFT, I need to gather more information about the company's financial metrics, such as the P/E ratio, to provide a brief analysis.\n",
            "\n",
            "Action: company_information\n",
            "Action Input: MSFT\u001b[0m\n",
            "Observation: \u001b[36;1m\u001b[1;3m{'address1': 'One Microsoft Way', 'city': 'Redmond', 'state': 'WA', 'zip': '98052-6399', 'country': 'United States', 'phone': '425 882 8080', 'website': 'https://www.microsoft.com', 'industry': 'Software - Infrastructure', 'industryKey': 'software-infrastructure', 'industryDisp': 'Software - Infrastructure', 'sector': 'Technology', 'sectorKey': 'technology', 'sectorDisp': 'Technology', 'longBusinessSummary': 'Microsoft Corporation develops and supports software, services, devices and solutions worldwide. The Productivity and Business Processes segment offers office, exchange, SharePoint, Microsoft Teams, office 365 Security and Compliance, Microsoft viva, and Microsoft 365 copilot; and office consumer services, such as Microsoft 365 consumer subscriptions, Office licensed on-premises, and other office services. This segment also provides LinkedIn; and dynamics business solutions, including Dynamics 365, a set of intelligent, cloud-based applications across ERP, CRM, power apps, and power automate; and on-premises ERP and CRM applications. The Intelligent Cloud segment offers server products and cloud services, such as azure and other cloud services; SQL and windows server, visual studio, system center, and related client access licenses, as well as nuance and GitHub; and enterprise services including enterprise support services, industry solutions, and nuance professional services. The More Personal Computing segment offers Windows, including windows OEM licensing and other non-volume licensing of the Windows operating system; Windows commercial comprising volume licensing of the Windows operating system, windows cloud services, and other Windows commercial offerings; patent licensing; and windows Internet of Things; and devices, such as surface, HoloLens, and PC accessories. Additionally, this segment provides gaming, which includes Xbox hardware and content, and first- and third-party content; Xbox game pass and other subscriptions, cloud gaming, advertising, third-party disc royalties, and other cloud services; and search and news advertising, which includes Bing, Microsoft News and Edge, and third-party affiliates. The company sells its products through OEMs, distributors, and resellers; and directly through digital marketplaces, online, and retail stores. The company was founded in 1975 and is headquartered in Redmond, Washington.', 'fullTimeEmployees': 228000, 'companyOfficers': [{'maxAge': 1, 'name': 'Mr. Satya  Nadella', 'age': 57, 'title': 'Chairman & CEO', 'yearBorn': 1967, 'fiscalYear': 2024, 'totalPay': 7869791, 'exercisedValue': 0, 'unexercisedValue': 0}, {'maxAge': 1, 'name': 'Mr. Bradford L. Smith LCA', 'age': 65, 'title': 'President & Vice Chairman', 'yearBorn': 1959, 'fiscalYear': 2024, 'totalPay': 4755618, 'exercisedValue': 0, 'unexercisedValue': 0}, {'maxAge': 1, 'name': 'Ms. Amy E. Hood', 'age': 52, 'title': 'Executive VP & CFO', 'yearBorn': 1972, 'fiscalYear': 2024, 'totalPay': 4704250, 'exercisedValue': 0, 'unexercisedValue': 0}, {'maxAge': 1, 'name': 'Mr. Judson B. Althoff', 'age': 51, 'title': 'Executive VP & Chief Commercial Officer', 'yearBorn': 1973, 'fiscalYear': 2024, 'totalPay': 4534974, 'exercisedValue': 0, 'unexercisedValue': 0}, {'maxAge': 1, 'name': 'Mr. Christopher David Young', 'age': 52, 'title': 'Executive Officer', 'yearBorn': 1972, 'fiscalYear': 2024, 'totalPay': 2993772, 'exercisedValue': 0, 'unexercisedValue': 0}, {'maxAge': 1, 'name': 'Ms. Carolina  Dybeck Happe', 'age': 52, 'title': 'Executive VP & COO', 'yearBorn': 1972, 'fiscalYear': 2024, 'exercisedValue': 0, 'unexercisedValue': 0}, {'maxAge': 1, 'name': 'Ms. Alice L. Jolla', 'age': 58, 'title': 'Corporate VP & Chief Accounting Officer', 'yearBorn': 1966, 'fiscalYear': 2024, 'exercisedValue': 0, 'unexercisedValue': 0}, {'maxAge': 1, 'name': 'Mr. James Kevin Scott', 'age': 52, 'title': 'Executive VP of AI & CTO', 'yearBorn': 1972, 'fiscalYear': 2024, 'exercisedValue': 0, 'unexercisedValue': 0}, {'maxAge': 1, 'name': 'Mr. Brett  Iversen', 'title': 'Vice President of Investor Relations', 'fiscalYear': 2024, 'exercisedValue': 0, 'unexercisedValue': 0}, {'maxAge': 1, 'name': 'Mr. Hossein  Nowbar', 'title': 'Chief Legal Officer', 'fiscalYear': 2024, 'exercisedValue': 0, 'unexercisedValue': 0}], 'auditRisk': 9, 'boardRisk': 5, 'compensationRisk': 3, 'shareHolderRightsRisk': 2, 'overallRisk': 3, 'governanceEpochDate': 1735689600, 'compensationAsOfEpochDate': 1735603200, 'irWebsite': 'http://www.microsoft.com/investor/default.aspx', 'maxAge': 86400, 'priceHint': 2, 'previousClose': 410.92, 'open': 412.17, 'dayLow': 409.76, 'dayHigh': 413.9199, 'regularMarketPreviousClose': 410.92, 'regularMarketOpen': 412.17, 'regularMarketDayLow': 409.76, 'regularMarketDayHigh': 413.9199, 'dividendRate': 3.32, 'dividendYield': 0.0075, 'exDividendDate': 1740009600, 'payoutRatio': 0.2477, 'fiveYearAvgDividendYield': 0.86, 'beta': 0.904, 'trailingPE': 33.12209, 'forwardPE': 27.408213, 'volume': 20437058, 'regularMarketVolume': 20437058, 'averageVolume': 22183698, 'averageVolume10days': 28493950, 'averageDailyVolume10Day': 28493950, 'bid': 412.24, 'ask': 412.36, 'bidSize': 100, 'askSize': 100, 'marketCap': 3065550209024, 'fiftyTwoWeekLow': 385.58, 'fiftyTwoWeekHigh': 468.35, 'priceToSalesTrailing12Months': 12.060074, 'fiftyDayAverage': 431.2586, 'twoHundredDayAverage': 425.70755, 'currency': 'USD', 'enterpriseValue': 3307079729152, 'profitMargins': 0.35608003, 'floatShares': 7424694989, 'sharesOutstanding': 7433979904, 'sharesShort': 61735926, 'sharesShortPriorMonth': 60224820, 'sharesShortPreviousMonthDate': 1734048000, 'dateShortInterest': 1736899200, 'sharesPercentSharesOut': 0.0083, 'heldPercentInsiders': 0.00056, 'heldPercentInstitutions': 0.73737, 'shortRatio': 3.1, 'shortPercentOfFloat': 0.0083, 'impliedSharesOutstanding': 7433979904, 'bookValue': 36.115, 'priceToBook': 11.418246, 'lastFiscalYearEnd': 1719705600, 'nextFiscalYearEnd': 1751241600, 'mostRecentQuarter': 1727654400, 'earningsQuarterlyGrowth': 0.107, 'netIncomeToCommon': 90511998976, 'trailingEps': 12.45, 'forwardEps': 14.95, 'lastSplitFactor': '2:1', 'lastSplitDate': 1045526400, 'enterpriseToRevenue': 13.01, 'enterpriseToEbitda': 24.218, '52WeekChange': -0.0075594783, 'SandP52WeekChange': 0.2000997, 'lastDividendValue': 0.83, 'lastDividendDate': 1732147200, 'exchange': 'NMS', 'quoteType': 'EQUITY', 'symbol': 'MSFT', 'underlyingSymbol': 'MSFT', 'shortName': 'Microsoft Corporation', 'longName': 'Microsoft Corporation', 'firstTradeDateEpochUtc': 511108200, 'timeZoneFullName': 'America/New_York', 'timeZoneShortName': 'EST', 'uuid': 'b004b3ec-de24-385e-b2c1-923f10d3fb62', 'messageBoardId': 'finmb_21835', 'gmtOffSetMilliseconds': -18000000, 'currentPrice': 412.37, 'targetHighPrice': 650.0, 'targetLowPrice': 420.0, 'targetMeanPrice': 506.92813, 'targetMedianPrice': 500.0, 'recommendationMean': 1.41818, 'recommendationKey': 'strong_buy', 'numberOfAnalystOpinions': 48, 'totalCash': 78429003776, 'totalCashPerShare': 10.549, 'ebitda': 136551997440, 'totalDebt': 96838000640, 'quickRatio': 1.163, 'currentRatio': 1.301, 'totalRevenue': 254189993984, 'debtToEquity': 33.657, 'revenuePerShare': 34.202, 'returnOnAssets': 0.14592, 'returnOnEquity': 0.35604, 'grossProfits': 176278994944, 'freeCashflow': 61280874496, 'operatingCashflow': 122144997376, 'earningsGrowth': 0.104, 'revenueGrowth': 0.16, 'grossMargins': 0.69348997, 'ebitdaMargins': 0.53720003, 'operatingMargins': 0.46583998, 'financialCurrency': 'USD', 'trailingPegRatio': 2.1728}\u001b[0m\n",
            "Thought:Error analyzing MSFT: Error code: 429 - {'error': {'message': 'Rate limit reached for model `llama-3.3-70b-versatile` in organization `org_01jh5v7gppe9v87wk0ntmd6k1a` service tier `on_demand` on : Limit 100000, Used 98437, Requested 2638. Please try again in 15m28.592s. Visit https://console.groq.com/docs/rate-limits for more information.', 'type': '', 'code': 'rate_limit_exceeded'}}\n",
            "\n",
            "\n",
            "\u001b[1m> Entering new AgentExecutor chain...\u001b[0m\n",
            "\u001b[32;1m\u001b[1;3mTo find the current stock price of MSFT, I need to use the tool that provides real-time or current stock prices.\n",
            "\n",
            "Action: Stock Price\n",
            "Action Input: MSFT\u001b[0m\n",
            "Observation: \u001b[33;1m\u001b[1;3mThe current stock price of MSFT is 412.37\u001b[0m\n",
            "Thought:\u001b[32;1m\u001b[1;3mI now know the final answer\n",
            "\n",
            "Final Answer: The current stock price of MSFT is $412.37.\u001b[0m\n",
            "\n",
            "\u001b[1m> Finished chain.\u001b[0m\n",
            "Could not parse price for MSFT: could not convert string to float: '412.37.'\n",
            "\n",
            "\n",
            "\u001b[1m> Entering new AgentExecutor chain...\u001b[0m\n",
            "Error analyzing GOOGL: Error code: 429 - {'error': {'message': 'Rate limit reached for model `llama-3.3-70b-versatile` in organization `org_01jh5v7gppe9v87wk0ntmd6k1a` service tier `on_demand` on : Limit 100000, Used 99785, Requested 641. Please try again in 6m7.962s. Visit https://console.groq.com/docs/rate-limits for more information.', 'type': '', 'code': 'rate_limit_exceeded'}}\n",
            "\n",
            "\n",
            "\u001b[1m> Entering new AgentExecutor chain...\u001b[0m\n",
            "Could not parse price for GOOGL: Error code: 429 - {'error': {'message': 'Rate limit reached for model `llama-3.3-70b-versatile` in organization `org_01jh5v7gppe9v87wk0ntmd6k1a` service tier `on_demand` on : Limit 100000, Used 99785, Requested 628. Please try again in 5m56.624999999s. Visit https://console.groq.com/docs/rate-limits for more information.', 'type': '', 'code': 'rate_limit_exceeded'}}\n",
            "\n",
            "\n",
            "\u001b[1m> Entering new AgentExecutor chain...\u001b[0m\n",
            "Error analyzing AMZN: Error code: 429 - {'error': {'message': 'Rate limit reached for model `llama-3.3-70b-versatile` in organization `org_01jh5v7gppe9v87wk0ntmd6k1a` service tier `on_demand` on : Limit 100000, Used 99785, Requested 641. Please try again in 6m7.760999999s. Visit https://console.groq.com/docs/rate-limits for more information.', 'type': '', 'code': 'rate_limit_exceeded'}}\n",
            "\n",
            "\n",
            "\u001b[1m> Entering new AgentExecutor chain...\u001b[0m\n",
            "Could not parse price for AMZN: Error code: 429 - {'error': {'message': 'Rate limit reached for model `llama-3.3-70b-versatile` in organization `org_01jh5v7gppe9v87wk0ntmd6k1a` service tier `on_demand` on : Limit 100000, Used 99785, Requested 628. Please try again in 5m56.417s. Visit https://console.groq.com/docs/rate-limits for more information.', 'type': '', 'code': 'rate_limit_exceeded'}}\n",
            "\n",
            "\n",
            "\u001b[1m> Entering new AgentExecutor chain...\u001b[0m\n",
            "Error analyzing NVDA: Error code: 429 - {'error': {'message': 'Rate limit reached for model `llama-3.3-70b-versatile` in organization `org_01jh5v7gppe9v87wk0ntmd6k1a` service tier `on_demand` on : Limit 100000, Used 99785, Requested 641. Please try again in 6m7.548s. Visit https://console.groq.com/docs/rate-limits for more information.', 'type': '', 'code': 'rate_limit_exceeded'}}\n",
            "\n",
            "\n",
            "\u001b[1m> Entering new AgentExecutor chain...\u001b[0m\n",
            "Could not parse price for NVDA: Error code: 429 - {'error': {'message': 'Rate limit reached for model `llama-3.3-70b-versatile` in organization `org_01jh5v7gppe9v87wk0ntmd6k1a` service tier `on_demand` on : Limit 100000, Used 99785, Requested 628. Please try again in 5m56.216s. Visit https://console.groq.com/docs/rate-limits for more information.', 'type': '', 'code': 'rate_limit_exceeded'}}\n",
            "\n",
            "Portfolio Analysis:\n",
            "AAPL (50 shares): Analysis failed.\n",
            "--------------------------------------------------\n",
            "MSFT (30 shares): Analysis failed.\n",
            "--------------------------------------------------\n",
            "GOOGL (20 shares): Analysis failed.\n",
            "--------------------------------------------------\n",
            "AMZN (15 shares): Analysis failed.\n",
            "--------------------------------------------------\n",
            "NVDA (25 shares): Analysis failed.\n",
            "--------------------------------------------------\n"
          ]
        }
      ]
    },
    {
      "cell_type": "code",
      "source": [
        "pip install phidata"
      ],
      "metadata": {
        "colab": {
          "base_uri": "https://localhost:8080/"
        },
        "id": "yZLqe9LJkxQc",
        "outputId": "f6137e17-add9-4c08-bb07-938cb63b89d8"
      },
      "execution_count": null,
      "outputs": [
        {
          "output_type": "stream",
          "name": "stdout",
          "text": [
            "Requirement already satisfied: phidata in /usr/local/lib/python3.11/dist-packages (2.7.10)\n",
            "Requirement already satisfied: docstring-parser in /usr/local/lib/python3.11/dist-packages (from phidata) (0.16)\n",
            "Requirement already satisfied: gitpython in /usr/local/lib/python3.11/dist-packages (from phidata) (3.1.44)\n",
            "Requirement already satisfied: httpx in /usr/local/lib/python3.11/dist-packages (from phidata) (0.28.1)\n",
            "Requirement already satisfied: pydantic in /usr/local/lib/python3.11/dist-packages (from phidata) (2.10.6)\n",
            "Requirement already satisfied: pydantic-settings in /usr/local/lib/python3.11/dist-packages (from phidata) (2.7.1)\n",
            "Requirement already satisfied: python-dotenv in /usr/local/lib/python3.11/dist-packages (from phidata) (1.0.1)\n",
            "Requirement already satisfied: pyyaml in /usr/local/lib/python3.11/dist-packages (from phidata) (6.0.2)\n",
            "Requirement already satisfied: rich in /usr/local/lib/python3.11/dist-packages (from phidata) (13.9.4)\n",
            "Requirement already satisfied: tomli in /usr/local/lib/python3.11/dist-packages (from phidata) (2.2.1)\n",
            "Requirement already satisfied: typer in /usr/local/lib/python3.11/dist-packages (from phidata) (0.15.1)\n",
            "Requirement already satisfied: typing-extensions in /usr/local/lib/python3.11/dist-packages (from phidata) (4.12.2)\n",
            "Requirement already satisfied: gitdb<5,>=4.0.1 in /usr/local/lib/python3.11/dist-packages (from gitpython->phidata) (4.0.12)\n",
            "Requirement already satisfied: anyio in /usr/local/lib/python3.11/dist-packages (from httpx->phidata) (4.8.0)\n",
            "Requirement already satisfied: certifi in /usr/local/lib/python3.11/dist-packages (from httpx->phidata) (2025.1.31)\n",
            "Requirement already satisfied: httpcore==1.* in /usr/local/lib/python3.11/dist-packages (from httpx->phidata) (1.0.7)\n",
            "Requirement already satisfied: idna in /usr/local/lib/python3.11/dist-packages (from httpx->phidata) (3.10)\n",
            "Requirement already satisfied: h11<0.15,>=0.13 in /usr/local/lib/python3.11/dist-packages (from httpcore==1.*->httpx->phidata) (0.14.0)\n",
            "Requirement already satisfied: annotated-types>=0.6.0 in /usr/local/lib/python3.11/dist-packages (from pydantic->phidata) (0.7.0)\n",
            "Requirement already satisfied: pydantic-core==2.27.2 in /usr/local/lib/python3.11/dist-packages (from pydantic->phidata) (2.27.2)\n",
            "Requirement already satisfied: markdown-it-py>=2.2.0 in /usr/local/lib/python3.11/dist-packages (from rich->phidata) (3.0.0)\n",
            "Requirement already satisfied: pygments<3.0.0,>=2.13.0 in /usr/local/lib/python3.11/dist-packages (from rich->phidata) (2.19.1)\n",
            "Requirement already satisfied: click>=8.0.0 in /usr/local/lib/python3.11/dist-packages (from typer->phidata) (8.1.8)\n",
            "Requirement already satisfied: shellingham>=1.3.0 in /usr/local/lib/python3.11/dist-packages (from typer->phidata) (1.5.4)\n",
            "Requirement already satisfied: smmap<6,>=3.0.1 in /usr/local/lib/python3.11/dist-packages (from gitdb<5,>=4.0.1->gitpython->phidata) (5.0.2)\n",
            "Requirement already satisfied: mdurl~=0.1 in /usr/local/lib/python3.11/dist-packages (from markdown-it-py>=2.2.0->rich->phidata) (0.1.2)\n",
            "Requirement already satisfied: sniffio>=1.1 in /usr/local/lib/python3.11/dist-packages (from anyio->httpx->phidata) (1.3.1)\n"
          ]
        }
      ]
    },
    {
      "cell_type": "code",
      "source": [
        "pip install duckduckgo-search"
      ],
      "metadata": {
        "colab": {
          "base_uri": "https://localhost:8080/"
        },
        "id": "_x13xVLzvE7h",
        "outputId": "3c3f57e5-ace2-43e3-f151-5d9542de7100"
      },
      "execution_count": null,
      "outputs": [
        {
          "output_type": "stream",
          "name": "stdout",
          "text": [
            "Requirement already satisfied: duckduckgo-search in /usr/local/lib/python3.11/dist-packages (7.3.0)\n",
            "Requirement already satisfied: click>=8.1.8 in /usr/local/lib/python3.11/dist-packages (from duckduckgo-search) (8.1.8)\n",
            "Requirement already satisfied: primp>=0.11.0 in /usr/local/lib/python3.11/dist-packages (from duckduckgo-search) (0.11.0)\n",
            "Requirement already satisfied: lxml>=5.3.0 in /usr/local/lib/python3.11/dist-packages (from duckduckgo-search) (5.3.0)\n"
          ]
        }
      ]
    },
    {
      "cell_type": "code",
      "source": [
        "# from phi.agent import Agent\n",
        "import phi\n",
        "from phi.tools.duckduckgo import DuckDuckGo\n",
        "from phi.tools.yfinance import YFinanceTools\n",
        "from langchain_groq import ChatGroq\n",
        "import os\n",
        "\n",
        "# Set the GROQ API key\n",
        "groq_api_key = os.getenv(\"GROQ_API_KEY\")  # Make sure to set this in your environment\n",
        "\n",
        "# Initialize the LLM using Groq\n",
        "llm = ChatGroq(\n",
        "    groq_api_key=groq_api_key,\n",
        "    model_name='llama-3.3-70b-versatile',\n",
        "    temperature=0.1\n",
        ")\n",
        "\n",
        "# Import Agent from phi.agent\n",
        "from phi.agent import Agent # Importing the Agent class\n",
        "\n",
        "# Web Agent using DuckDuckGo\n",
        "web_agent = Agent(\n",
        "    name=\"Web Agent\",\n",
        "    role=\"Search the web for information\",\n",
        "    model=llm,\n",
        "    tools=[DuckDuckGo()],\n",
        "    markdown=True,\n",
        "    show_tool_calls=True,\n",
        ")\n",
        "\n",
        "# Finance Agent using YFinanceTools\n",
        "finance_agent = Agent(\n",
        "    name=\"Finance Agent\",\n",
        "    role=\"Get financial data\",\n",
        "    model=llm,\n",
        "    tools=[\n",
        "        YFinanceTools(\n",
        "            stock_price=True,\n",
        "            analyst_recommendations=True,\n",
        "            company_info=True,\n",
        "            company_news=True\n",
        "        )\n",
        "    ],\n",
        "    instructions=[\"Always use tables to display data\"],\n",
        "    markdown=True,\n",
        "    show_tool_calls=True,\n",
        ")\n",
        "\n",
        "# Example queries\n",
        "web_response = web_agent.run(\"Find the latest news about AI technology.\")\n",
        "finance_response = finance_agent.run(\"Get the current stock price and analyst recommendations for Apple (AAPL).\")\n",
        "\n",
        "# Display responses\n",
        "print(\"Web Agent Response:\\n\", web_response)\n",
        "print(\"\\nFinance Agent Response:\\n\", finance_response)"
      ],
      "metadata": {
        "colab": {
          "base_uri": "https://localhost:8080/",
          "height": 401
        },
        "id": "re36MLiJvSzL",
        "outputId": "d4f0db8b-4da8-44d8-f772-66862c86b0a7"
      },
      "execution_count": null,
      "outputs": [
        {
          "output_type": "error",
          "ename": "ValidationError",
          "evalue": "1 validation error for Agent\nmodel\n  Input should be a valid dictionary or instance of Model [type=model_type, input_value=ChatGroq(client=<groq.res...SecretStr('**********')), input_type=ChatGroq]\n    For further information visit https://errors.pydantic.dev/2.10/v/model_type",
          "traceback": [
            "\u001b[0;31m---------------------------------------------------------------------------\u001b[0m",
            "\u001b[0;31mValidationError\u001b[0m                           Traceback (most recent call last)",
            "\u001b[0;32m<ipython-input-14-bba4112d31cb>\u001b[0m in \u001b[0;36m<cell line: 0>\u001b[0;34m()\u001b[0m\n\u001b[1;32m     20\u001b[0m \u001b[0;34m\u001b[0m\u001b[0m\n\u001b[1;32m     21\u001b[0m \u001b[0;31m# Web Agent using DuckDuckGo\u001b[0m\u001b[0;34m\u001b[0m\u001b[0;34m\u001b[0m\u001b[0m\n\u001b[0;32m---> 22\u001b[0;31m web_agent = Agent(\n\u001b[0m\u001b[1;32m     23\u001b[0m     \u001b[0mname\u001b[0m\u001b[0;34m=\u001b[0m\u001b[0;34m\"Web Agent\"\u001b[0m\u001b[0;34m,\u001b[0m\u001b[0;34m\u001b[0m\u001b[0;34m\u001b[0m\u001b[0m\n\u001b[1;32m     24\u001b[0m     \u001b[0mrole\u001b[0m\u001b[0;34m=\u001b[0m\u001b[0;34m\"Search the web for information\"\u001b[0m\u001b[0;34m,\u001b[0m\u001b[0;34m\u001b[0m\u001b[0;34m\u001b[0m\u001b[0m\n",
            "\u001b[0;32m/usr/local/lib/python3.11/dist-packages/pydantic/main.py\u001b[0m in \u001b[0;36m__init__\u001b[0;34m(self, **data)\u001b[0m\n\u001b[1;32m    212\u001b[0m         \u001b[0;31m# `__tracebackhide__` tells pytest and some other tools to omit this function from tracebacks\u001b[0m\u001b[0;34m\u001b[0m\u001b[0;34m\u001b[0m\u001b[0m\n\u001b[1;32m    213\u001b[0m         \u001b[0m__tracebackhide__\u001b[0m \u001b[0;34m=\u001b[0m \u001b[0;32mTrue\u001b[0m\u001b[0;34m\u001b[0m\u001b[0;34m\u001b[0m\u001b[0m\n\u001b[0;32m--> 214\u001b[0;31m         \u001b[0mvalidated_self\u001b[0m \u001b[0;34m=\u001b[0m \u001b[0mself\u001b[0m\u001b[0;34m.\u001b[0m\u001b[0m__pydantic_validator__\u001b[0m\u001b[0;34m.\u001b[0m\u001b[0mvalidate_python\u001b[0m\u001b[0;34m(\u001b[0m\u001b[0mdata\u001b[0m\u001b[0;34m,\u001b[0m \u001b[0mself_instance\u001b[0m\u001b[0;34m=\u001b[0m\u001b[0mself\u001b[0m\u001b[0;34m)\u001b[0m\u001b[0;34m\u001b[0m\u001b[0;34m\u001b[0m\u001b[0m\n\u001b[0m\u001b[1;32m    215\u001b[0m         \u001b[0;32mif\u001b[0m \u001b[0mself\u001b[0m \u001b[0;32mis\u001b[0m \u001b[0;32mnot\u001b[0m \u001b[0mvalidated_self\u001b[0m\u001b[0;34m:\u001b[0m\u001b[0;34m\u001b[0m\u001b[0;34m\u001b[0m\u001b[0m\n\u001b[1;32m    216\u001b[0m             warnings.warn(\n",
            "\u001b[0;31mValidationError\u001b[0m: 1 validation error for Agent\nmodel\n  Input should be a valid dictionary or instance of Model [type=model_type, input_value=ChatGroq(client=<groq.res...SecretStr('**********')), input_type=ChatGroq]\n    For further information visit https://errors.pydantic.dev/2.10/v/model_type"
          ]
        }
      ]
    },
    {
      "cell_type": "code",
      "source": [],
      "metadata": {
        "id": "sBioucBMv0-X"
      },
      "execution_count": null,
      "outputs": []
    }
  ],
  "metadata": {
    "kernelspec": {
      "display_name": "py38",
      "language": "python",
      "name": "py38"
    },
    "language_info": {
      "codemirror_mode": {
        "name": "ipython",
        "version": 3
      },
      "file_extension": ".py",
      "mimetype": "text/x-python",
      "name": "python",
      "nbconvert_exporter": "python",
      "pygments_lexer": "ipython3",
      "version": "3.8.10"
    },
    "colab": {
      "provenance": []
    }
  },
  "nbformat": 4,
  "nbformat_minor": 0
}